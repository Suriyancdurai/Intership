{
 "cells": [
  {
   "cell_type": "markdown",
   "id": "dfbff375",
   "metadata": {},
   "source": [
    "## Q1: In this question you have to scrape data using the filters available on the webpage You have to use the location and salary filter.\n",
    "\n",
    "You have to scrape data for “Data Scientist” designation for first 10 job results. \n",
    "\n",
    "You have to scrape the job-title, job-location, company name, experience required. \n",
    "\n",
    "The location filter to be used is “Delhi/NCR”. The salary filter to be used is “3-6” lakhs \n",
    "The task will be done as shown in the below steps: \n",
    "    \n",
    "**1. first get the web page https://www.naukri.com/**\n",
    "\n",
    "**2. Enter “Data Scientist” in “Skill, Designations, and Companies” field.** \n",
    "\n",
    "**3. Then click the search button.**\n",
    "\n",
    "**4. Then apply the location filter and salary filter by checking the respective boxes**\n",
    "\n",
    "**5. Then scrape the data for the first 10 jobs results you get.**\n",
    "\n",
    "**6. Finally create a dataframe of the scraped data.** "
   ]
  },
  {
   "cell_type": "code",
   "execution_count": 1,
   "id": "2c5300e7",
   "metadata": {},
   "outputs": [],
   "source": [
    "import selenium\n",
    "from selenium import webdriver\n",
    "from selenium.webdriver.common.by import By\n",
    "import time\n",
    "import pandas as pd\n",
    "import warnings\n",
    "warnings.filterwarnings(\"ignore\")\n"
   ]
  },
  {
   "cell_type": "code",
   "execution_count": 28,
   "id": "fd9daa4f",
   "metadata": {},
   "outputs": [],
   "source": [
    "#Initializing a chromebrowser using webdriver\n",
    "\n",
    "driver=webdriver.Chrome()"
   ]
  },
  {
   "cell_type": "code",
   "execution_count": 29,
   "id": "3007d2ab",
   "metadata": {},
   "outputs": [],
   "source": [
    "#getting the webpage\n",
    "\n",
    "driver.get(\"https://www.naukri.com/\")"
   ]
  },
  {
   "cell_type": "code",
   "execution_count": 30,
   "id": "c61bc82d",
   "metadata": {},
   "outputs": [],
   "source": [
    "#Entering Data Scientist using class name  \n",
    "\n",
    "job_title=driver.find_element(By.CLASS_NAME,\"suggestor-input \")\n",
    "job_title.send_keys(\"Data Scientist\")"
   ]
  },
  {
   "cell_type": "code",
   "execution_count": 31,
   "id": "90aa0af7",
   "metadata": {},
   "outputs": [],
   "source": [
    "#Clicking search button using class name\n",
    "\n",
    "search_button = driver.find_element(By.CLASS_NAME,\"qsbSubmit\")\n",
    "search_button.click()"
   ]
  },
  {
   "cell_type": "code",
   "execution_count": 32,
   "id": "3e4b5b3d",
   "metadata": {},
   "outputs": [],
   "source": [
    "#filtering location with XPATH\n",
    "\n",
    "location_filter=driver.find_element(By.XPATH,\"/html/body/div/div/main/div[1]/div[1]/div/div/div[2]/div[4]/div[2]/div[2]/label/i\")\n",
    "location_filter.click()"
   ]
  },
  {
   "cell_type": "code",
   "execution_count": 33,
   "id": "8b170353",
   "metadata": {},
   "outputs": [],
   "source": [
    "#filtering salary with XPATH\n",
    "\n",
    "salary_filter=driver.find_element(By.XPATH,\"/html/body/div/div/main/div[1]/div[1]/div/div/div[2]/div[4]/div[2]/div[2]/label/i\")\n",
    "salary_filter.click()"
   ]
  },
  {
   "cell_type": "code",
   "execution_count": 60,
   "id": "ecb5da88",
   "metadata": {},
   "outputs": [],
   "source": [
    "#Assigning empty lists to store job information\n",
    "\n",
    "job_title=[]\n",
    "job_location=[]\n",
    "company_name=[]\n",
    "experience_required=[]"
   ]
  },
  {
   "cell_type": "code",
   "execution_count": 61,
   "id": "bc284c8b",
   "metadata": {},
   "outputs": [],
   "source": [
    "#For job_title(using XPATH)\n",
    "\n",
    "title_tags=driver.find_elements(By.XPATH,'//div[@class=\"cust-job-tuple layout-wrapper lay-2 sjw__tuple \"]/div/a')\n",
    "for i in title_tags:\n",
    "    title=i.text\n",
    "    job_title.append(title)"
   ]
  },
  {
   "cell_type": "code",
   "execution_count": 62,
   "id": "f580ea11",
   "metadata": {},
   "outputs": [],
   "source": [
    "#to scrap first 10 datas\n",
    "\n",
    "job_title=job_title[:10]"
   ]
  },
  {
   "cell_type": "code",
   "execution_count": 63,
   "id": "0520977d",
   "metadata": {},
   "outputs": [
    {
     "data": {
      "text/plain": [
       "10"
      ]
     },
     "execution_count": 63,
     "metadata": {},
     "output_type": "execute_result"
    }
   ],
   "source": [
    "#length for job_title\n",
    "\n",
    "len(job_title)"
   ]
  },
  {
   "cell_type": "code",
   "execution_count": 64,
   "id": "af442a3c",
   "metadata": {},
   "outputs": [
    {
     "data": {
      "text/plain": [
       "['Data Scientist',\n",
       " 'Senior Data Scientist/ Data Scientist',\n",
       " 'Data Scientist',\n",
       " 'Python Data Scientist',\n",
       " 'Associate Data Scientist',\n",
       " 'Associate Data Scientist',\n",
       " 'Lead Data Scientist',\n",
       " 'Data Scientist',\n",
       " 'Lead Customer Success - Data Scientist',\n",
       " 'Data Scientist']"
      ]
     },
     "execution_count": 64,
     "metadata": {},
     "output_type": "execute_result"
    }
   ],
   "source": [
    "#scraped first 10 job_title\n",
    "\n",
    "job_title"
   ]
  },
  {
   "cell_type": "code",
   "execution_count": 65,
   "id": "bf38ed98",
   "metadata": {},
   "outputs": [],
   "source": [
    "#For job_location(using XPATH)\n",
    "\n",
    "location_tags=driver.find_elements(By.XPATH,'//span[@class=\"locWdth\"]')\n",
    "for i in location_tags:\n",
    "    location=i.text\n",
    "    job_location.append(location)"
   ]
  },
  {
   "cell_type": "code",
   "execution_count": 66,
   "id": "50778d8c",
   "metadata": {},
   "outputs": [],
   "source": [
    "#to scrap first 10 datas\n",
    "\n",
    "job_location=job_location[:10]"
   ]
  },
  {
   "cell_type": "code",
   "execution_count": 67,
   "id": "477b85e4",
   "metadata": {},
   "outputs": [
    {
     "data": {
      "text/plain": [
       "10"
      ]
     },
     "execution_count": 67,
     "metadata": {},
     "output_type": "execute_result"
    }
   ],
   "source": [
    "#length for job_location\n",
    "\n",
    "\n",
    "len(job_location)"
   ]
  },
  {
   "cell_type": "code",
   "execution_count": 68,
   "id": "20a2fdbf",
   "metadata": {},
   "outputs": [
    {
     "data": {
      "text/plain": [
       "['Kolkata, Mumbai, New Delhi, Hyderabad, Pune, Chennai, Bengaluru',\n",
       " 'Mumbai, Pune, Chennai, Gurugram, Bengaluru',\n",
       " 'Gurugram, Bengaluru',\n",
       " 'Kolkata, Mumbai, New Delhi, Hyderabad, Pune, Chennai, Bengaluru',\n",
       " 'Kolkata, Mumbai, New Delhi, Hyderabad, Pune, Chennai, Bengaluru',\n",
       " 'Kolkata, Mumbai, New Delhi, Hyderabad, Pune, Chennai, Bengaluru',\n",
       " 'Kolkata, Mumbai, New Delhi, Hyderabad/Secunderabad, Pune, Chennai, Bangalore/Bengaluru',\n",
       " 'Kolkata, Mumbai, New Delhi, Hyderabad, Pune, Chennai, Bengaluru',\n",
       " 'Pune, Gurugram',\n",
       " 'Noida']"
      ]
     },
     "execution_count": 68,
     "metadata": {},
     "output_type": "execute_result"
    }
   ],
   "source": [
    "#scraped first 10 job_location\n",
    "\n",
    "\n",
    "job_location"
   ]
  },
  {
   "cell_type": "code",
   "execution_count": 69,
   "id": "cc6c54d3",
   "metadata": {},
   "outputs": [],
   "source": [
    "#For company_name(using XPATH)\n",
    "\n",
    "company_tags=driver.find_elements(By.XPATH,'//div[@class=\" row2\"]/span/a[1]')\n",
    "for i in company_tags:\n",
    "    company=i.text\n",
    "    company_name.append(company)"
   ]
  },
  {
   "cell_type": "code",
   "execution_count": 70,
   "id": "ec4783db",
   "metadata": {},
   "outputs": [],
   "source": [
    "#to scrap first 10 datas\n",
    "\n",
    "company_name=company_name[:10]"
   ]
  },
  {
   "cell_type": "code",
   "execution_count": 71,
   "id": "24be7cb1",
   "metadata": {},
   "outputs": [
    {
     "data": {
      "text/plain": [
       "10"
      ]
     },
     "execution_count": 71,
     "metadata": {},
     "output_type": "execute_result"
    }
   ],
   "source": [
    "#length forcompany_name\n",
    "\n",
    "len(company_name)"
   ]
  },
  {
   "cell_type": "code",
   "execution_count": 72,
   "id": "181ca50d",
   "metadata": {},
   "outputs": [
    {
     "data": {
      "text/plain": [
       "['Scienaptic Systems',\n",
       " 'Neal Analytics',\n",
       " 'Blackbuck',\n",
       " 'Wizaltia Hr Solutions',\n",
       " 'Kmart',\n",
       " 'KAS Services',\n",
       " 'Elitefit.ai',\n",
       " 'Fort Technologies',\n",
       " 'ZS Associates',\n",
       " 'Times Internet']"
      ]
     },
     "execution_count": 72,
     "metadata": {},
     "output_type": "execute_result"
    }
   ],
   "source": [
    "#scraped first 10 company_name\n",
    "\n",
    "company_name"
   ]
  },
  {
   "cell_type": "code",
   "execution_count": 73,
   "id": "9b353340",
   "metadata": {},
   "outputs": [],
   "source": [
    "#For experience_required(using XPATH)\n",
    "\n",
    "experience_tags=driver.find_elements(By.XPATH,'//span[@class=\"expwdth\"]')\n",
    "for i in experience_tags:\n",
    "    experience=i.text\n",
    "    experience_required.append(experience)"
   ]
  },
  {
   "cell_type": "code",
   "execution_count": 74,
   "id": "aa0e7f96",
   "metadata": {},
   "outputs": [],
   "source": [
    "#to scrap first 10 datas\n",
    "\n",
    "experience_required=experience_required[:10]"
   ]
  },
  {
   "cell_type": "code",
   "execution_count": 75,
   "id": "e4e0931b",
   "metadata": {},
   "outputs": [
    {
     "data": {
      "text/plain": [
       "10"
      ]
     },
     "execution_count": 75,
     "metadata": {},
     "output_type": "execute_result"
    }
   ],
   "source": [
    "#length for experience_required\n",
    "\n",
    "len(experience_required)"
   ]
  },
  {
   "cell_type": "code",
   "execution_count": 76,
   "id": "3102d4d6",
   "metadata": {},
   "outputs": [
    {
     "data": {
      "text/plain": [
       "['2-7 Yrs',\n",
       " '3-7 Yrs',\n",
       " '3-7 Yrs',\n",
       " '2-7 Yrs',\n",
       " '1-2 Yrs',\n",
       " '1-2 Yrs',\n",
       " '3-7 Yrs',\n",
       " '1-3 Yrs',\n",
       " '2-4 Yrs',\n",
       " '3-8 Yrs']"
      ]
     },
     "execution_count": 76,
     "metadata": {},
     "output_type": "execute_result"
    }
   ],
   "source": [
    "#scraped first 10 experience_required\n",
    "\n",
    "experience_required"
   ]
  },
  {
   "cell_type": "code",
   "execution_count": 77,
   "id": "f903bcfc",
   "metadata": {},
   "outputs": [],
   "source": [
    "#Data Frame for first 10 \"Data Scientists\" jobs in Delhi/NCR for “3-6” lakhs \n",
    "\n",
    "df_data_scientists=pd.DataFrame({\"Job_title\":job_title,\"Job_location\":job_location,\"Company_name\":company_name,\"Experience_required\":experience_required})"
   ]
  },
  {
   "cell_type": "code",
   "execution_count": 78,
   "id": "d5060176",
   "metadata": {},
   "outputs": [
    {
     "data": {
      "text/html": [
       "<div>\n",
       "<style scoped>\n",
       "    .dataframe tbody tr th:only-of-type {\n",
       "        vertical-align: middle;\n",
       "    }\n",
       "\n",
       "    .dataframe tbody tr th {\n",
       "        vertical-align: top;\n",
       "    }\n",
       "\n",
       "    .dataframe thead th {\n",
       "        text-align: right;\n",
       "    }\n",
       "</style>\n",
       "<table border=\"1\" class=\"dataframe\">\n",
       "  <thead>\n",
       "    <tr style=\"text-align: right;\">\n",
       "      <th></th>\n",
       "      <th>Job_title</th>\n",
       "      <th>Job_location</th>\n",
       "      <th>Company_name</th>\n",
       "      <th>Experience_required</th>\n",
       "    </tr>\n",
       "  </thead>\n",
       "  <tbody>\n",
       "    <tr>\n",
       "      <th>0</th>\n",
       "      <td>Data Scientist</td>\n",
       "      <td>Kolkata, Mumbai, New Delhi, Hyderabad, Pune, C...</td>\n",
       "      <td>Scienaptic Systems</td>\n",
       "      <td>2-7 Yrs</td>\n",
       "    </tr>\n",
       "    <tr>\n",
       "      <th>1</th>\n",
       "      <td>Senior Data Scientist/ Data Scientist</td>\n",
       "      <td>Mumbai, Pune, Chennai, Gurugram, Bengaluru</td>\n",
       "      <td>Neal Analytics</td>\n",
       "      <td>3-7 Yrs</td>\n",
       "    </tr>\n",
       "    <tr>\n",
       "      <th>2</th>\n",
       "      <td>Data Scientist</td>\n",
       "      <td>Gurugram, Bengaluru</td>\n",
       "      <td>Blackbuck</td>\n",
       "      <td>3-7 Yrs</td>\n",
       "    </tr>\n",
       "    <tr>\n",
       "      <th>3</th>\n",
       "      <td>Python Data Scientist</td>\n",
       "      <td>Kolkata, Mumbai, New Delhi, Hyderabad, Pune, C...</td>\n",
       "      <td>Wizaltia Hr Solutions</td>\n",
       "      <td>2-7 Yrs</td>\n",
       "    </tr>\n",
       "    <tr>\n",
       "      <th>4</th>\n",
       "      <td>Associate Data Scientist</td>\n",
       "      <td>Kolkata, Mumbai, New Delhi, Hyderabad, Pune, C...</td>\n",
       "      <td>Kmart</td>\n",
       "      <td>1-2 Yrs</td>\n",
       "    </tr>\n",
       "    <tr>\n",
       "      <th>5</th>\n",
       "      <td>Associate Data Scientist</td>\n",
       "      <td>Kolkata, Mumbai, New Delhi, Hyderabad, Pune, C...</td>\n",
       "      <td>KAS Services</td>\n",
       "      <td>1-2 Yrs</td>\n",
       "    </tr>\n",
       "    <tr>\n",
       "      <th>6</th>\n",
       "      <td>Lead Data Scientist</td>\n",
       "      <td>Kolkata, Mumbai, New Delhi, Hyderabad/Secunder...</td>\n",
       "      <td>Elitefit.ai</td>\n",
       "      <td>3-7 Yrs</td>\n",
       "    </tr>\n",
       "    <tr>\n",
       "      <th>7</th>\n",
       "      <td>Data Scientist</td>\n",
       "      <td>Kolkata, Mumbai, New Delhi, Hyderabad, Pune, C...</td>\n",
       "      <td>Fort Technologies</td>\n",
       "      <td>1-3 Yrs</td>\n",
       "    </tr>\n",
       "    <tr>\n",
       "      <th>8</th>\n",
       "      <td>Lead Customer Success - Data Scientist</td>\n",
       "      <td>Pune, Gurugram</td>\n",
       "      <td>ZS Associates</td>\n",
       "      <td>2-4 Yrs</td>\n",
       "    </tr>\n",
       "    <tr>\n",
       "      <th>9</th>\n",
       "      <td>Data Scientist</td>\n",
       "      <td>Noida</td>\n",
       "      <td>Times Internet</td>\n",
       "      <td>3-8 Yrs</td>\n",
       "    </tr>\n",
       "  </tbody>\n",
       "</table>\n",
       "</div>"
      ],
      "text/plain": [
       "                                Job_title  \\\n",
       "0                          Data Scientist   \n",
       "1   Senior Data Scientist/ Data Scientist   \n",
       "2                          Data Scientist   \n",
       "3                   Python Data Scientist   \n",
       "4                Associate Data Scientist   \n",
       "5                Associate Data Scientist   \n",
       "6                     Lead Data Scientist   \n",
       "7                          Data Scientist   \n",
       "8  Lead Customer Success - Data Scientist   \n",
       "9                          Data Scientist   \n",
       "\n",
       "                                        Job_location           Company_name  \\\n",
       "0  Kolkata, Mumbai, New Delhi, Hyderabad, Pune, C...     Scienaptic Systems   \n",
       "1         Mumbai, Pune, Chennai, Gurugram, Bengaluru         Neal Analytics   \n",
       "2                                Gurugram, Bengaluru              Blackbuck   \n",
       "3  Kolkata, Mumbai, New Delhi, Hyderabad, Pune, C...  Wizaltia Hr Solutions   \n",
       "4  Kolkata, Mumbai, New Delhi, Hyderabad, Pune, C...                  Kmart   \n",
       "5  Kolkata, Mumbai, New Delhi, Hyderabad, Pune, C...           KAS Services   \n",
       "6  Kolkata, Mumbai, New Delhi, Hyderabad/Secunder...            Elitefit.ai   \n",
       "7  Kolkata, Mumbai, New Delhi, Hyderabad, Pune, C...      Fort Technologies   \n",
       "8                                     Pune, Gurugram          ZS Associates   \n",
       "9                                              Noida         Times Internet   \n",
       "\n",
       "  Experience_required  \n",
       "0             2-7 Yrs  \n",
       "1             3-7 Yrs  \n",
       "2             3-7 Yrs  \n",
       "3             2-7 Yrs  \n",
       "4             1-2 Yrs  \n",
       "5             1-2 Yrs  \n",
       "6             3-7 Yrs  \n",
       "7             1-3 Yrs  \n",
       "8             2-4 Yrs  \n",
       "9             3-8 Yrs  "
      ]
     },
     "execution_count": 78,
     "metadata": {},
     "output_type": "execute_result"
    }
   ],
   "source": [
    "df_data_scientists"
   ]
  },
  {
   "cell_type": "markdown",
   "id": "503efcd0",
   "metadata": {},
   "source": [
    "### Q2: Write a python program to scrape data for “Data Scientist” Job position in “Bangalore” location. You have to scrape the  job-title, job-location, company_name, experience_required. You have to scrape first 10 jobs data.\n",
    "\n",
    "This task will be done in following steps:\n",
    "    \n",
    "**1. First get the webpage https://www.shine.com/**\n",
    "    \n",
    "**2. Enter “Data Analyst” in “Job title, Skills” field and enter “Bangalore” in “enter the location” field.**\n",
    "\n",
    "**3. Then click the searchbutton.** \n",
    "\n",
    "**4. Then scrape the data for the first 10 jobs results you get.**\n",
    "\n",
    "**5. Finally create a dataframe of the scraped data.**"
   ]
  },
  {
   "cell_type": "code",
   "execution_count": 2,
   "id": "46817c0a",
   "metadata": {},
   "outputs": [],
   "source": [
    "#Initializing a chromebrowser using webdriver\n",
    "\n",
    "driver=webdriver.Chrome()"
   ]
  },
  {
   "cell_type": "code",
   "execution_count": 3,
   "id": "3ee385c1",
   "metadata": {},
   "outputs": [],
   "source": [
    "#getting the webpage\n",
    "\n",
    "driver.get(\"https://www.shine.com/\")"
   ]
  },
  {
   "cell_type": "code",
   "execution_count": 6,
   "id": "2d6bf63f",
   "metadata": {},
   "outputs": [],
   "source": [
    "#Entering Data Scientist using class name  \n",
    "\n",
    "job_title=driver.find_element(By.CLASS_NAME,\"form-control  \")\n",
    "job_title.send_keys(\"Data Scientist\")"
   ]
  },
  {
   "cell_type": "code",
   "execution_count": 7,
   "id": "9658a652",
   "metadata": {},
   "outputs": [],
   "source": [
    "#Entering Bangalore using XPATH  \n",
    "\n",
    "job_location=driver.find_element(By.XPATH,'/html/body/div/div[4]/div/div[2]/div[2]/div/form/div/div[1]/ul/li[2]/div/input')\n",
    "job_location.send_keys(\"Bangalore\")"
   ]
  },
  {
   "cell_type": "code",
   "execution_count": 9,
   "id": "96f5781f",
   "metadata": {},
   "outputs": [],
   "source": [
    "#Clicking search button using XPATH\n",
    "\n",
    "search_button = driver.find_element(By.XPATH,'/html/body/div/div[4]/div/div[2]/div[2]/div/form/div/div[2]/div/button')\n",
    "search_button.click()"
   ]
  },
  {
   "cell_type": "code",
   "execution_count": 10,
   "id": "a42fb6fe",
   "metadata": {},
   "outputs": [],
   "source": [
    "#Assigning empty lists to store job information           \n",
    "\n",
    "job_title=[]\n",
    "job_location=[]\n",
    "company_name=[]\n",
    "experience_required=[]"
   ]
  },
  {
   "cell_type": "code",
   "execution_count": 11,
   "id": "2c55f16f",
   "metadata": {},
   "outputs": [],
   "source": [
    "#For job_title(using XPATH)\n",
    "\n",
    "title_tags=driver.find_elements(By.XPATH,'//strong[@class=\"jobCard_pReplaceH2__xWmHg\"]/a')\n",
    "for i in title_tags:\n",
    "    title=i.text\n",
    "    job_title.append(title)"
   ]
  },
  {
   "cell_type": "code",
   "execution_count": 12,
   "id": "b11c8c94",
   "metadata": {},
   "outputs": [],
   "source": [
    "#to scrap first 10 datas\n",
    "\n",
    "job_title=job_title[:10]"
   ]
  },
  {
   "cell_type": "code",
   "execution_count": 13,
   "id": "a2cbab0f",
   "metadata": {},
   "outputs": [
    {
     "data": {
      "text/plain": [
       "10"
      ]
     },
     "execution_count": 13,
     "metadata": {},
     "output_type": "execute_result"
    }
   ],
   "source": [
    "#length for job_title\n",
    "\n",
    "len(job_title)"
   ]
  },
  {
   "cell_type": "code",
   "execution_count": 14,
   "id": "2bcfc4b4",
   "metadata": {},
   "outputs": [
    {
     "data": {
      "text/plain": [
       "['Data Scientist',\n",
       " 'Data Scientist Urgent Recruitment',\n",
       " 'Data Scientist Opening',\n",
       " 'Data Scientist Recruitment',\n",
       " 'Data Scientist Vacancy',\n",
       " 'Hiring For Data Scientist',\n",
       " 'Data Scientist Opening',\n",
       " 'Data Scientist Opening',\n",
       " 'Data Scientist Recruitment',\n",
       " 'ML Data Scientist']"
      ]
     },
     "execution_count": 14,
     "metadata": {},
     "output_type": "execute_result"
    }
   ],
   "source": [
    "#scraped first 10 job_title\n",
    "\n",
    "job_title"
   ]
  },
  {
   "cell_type": "code",
   "execution_count": 15,
   "id": "374fe505",
   "metadata": {},
   "outputs": [],
   "source": [
    "#For job_location(using XPATH)\n",
    "\n",
    "location_tags=driver.find_elements(By.XPATH,'//div[@class=\" jobCard_jobCard_lists_item__YxRkV jobCard_locationIcon__zrWt2\"]')\n",
    "for i in location_tags:\n",
    "    location=i.text\n",
    "    job_location.append(location)"
   ]
  },
  {
   "cell_type": "code",
   "execution_count": 16,
   "id": "1bce225c",
   "metadata": {},
   "outputs": [],
   "source": [
    "#to scrap first 10 datas\n",
    "\n",
    "job_location=job_location[:10]"
   ]
  },
  {
   "cell_type": "code",
   "execution_count": 17,
   "id": "fd62fc93",
   "metadata": {},
   "outputs": [
    {
     "data": {
      "text/plain": [
       "10"
      ]
     },
     "execution_count": 17,
     "metadata": {},
     "output_type": "execute_result"
    }
   ],
   "source": [
    "#length for job_location\n",
    "\n",
    "\n",
    "len(job_location)"
   ]
  },
  {
   "cell_type": "code",
   "execution_count": 26,
   "id": "803ef264",
   "metadata": {},
   "outputs": [
    {
     "data": {
      "text/plain": [
       "['Bangalore\\n+4',\n",
       " 'Bangalore\\n+13',\n",
       " 'Bangalore\\n+13',\n",
       " 'Bangalore\\n+12',\n",
       " 'Bangalore\\n+13',\n",
       " 'Bangalore\\n+13',\n",
       " 'Bangalore\\n+15',\n",
       " 'Bangalore\\n+15',\n",
       " 'Bangalore\\n+9',\n",
       " 'Bangalore\\n+3']"
      ]
     },
     "execution_count": 26,
     "metadata": {},
     "output_type": "execute_result"
    }
   ],
   "source": [
    "#scraped first 10 job_location\n",
    "\n",
    "\n",
    "job_location"
   ]
  },
  {
   "cell_type": "code",
   "execution_count": 29,
   "id": "aec0fc92",
   "metadata": {},
   "outputs": [
    {
     "data": {
      "text/plain": [
       "['Bangalore',\n",
       " 'Bangalore',\n",
       " 'Bangalore',\n",
       " 'Bangalore',\n",
       " 'Bangalore',\n",
       " 'Bangalore',\n",
       " 'Bangalore',\n",
       " 'Bangalore',\n",
       " 'Bangalore',\n",
       " 'Bangalore']"
      ]
     },
     "execution_count": 29,
     "metadata": {},
     "output_type": "execute_result"
    }
   ],
   "source": [
    "#cleaning unwanted data after \"Bangalore\"\n",
    "\n",
    "extracted_job_location =[ \"Bangalore\" for _ in job_location]\n",
    "\n",
    "extracted_job_location"
   ]
  },
  {
   "cell_type": "code",
   "execution_count": 30,
   "id": "72934a67",
   "metadata": {},
   "outputs": [],
   "source": [
    "#For company_name(using XPATH)\n",
    "\n",
    "company_tags=driver.find_elements(By.XPATH,'//div[@class=\"jobCard_jobCard_cName__mYnow\"]/span')\n",
    "for i in company_tags:\n",
    "    company=i.text\n",
    "    company_name.append(company)"
   ]
  },
  {
   "cell_type": "code",
   "execution_count": 31,
   "id": "6a15372e",
   "metadata": {},
   "outputs": [],
   "source": [
    "#to scrap first 10 datas\n",
    "\n",
    "company_name=company_name[:10]"
   ]
  },
  {
   "cell_type": "code",
   "execution_count": 32,
   "id": "414202ff",
   "metadata": {},
   "outputs": [
    {
     "data": {
      "text/plain": [
       "10"
      ]
     },
     "execution_count": 32,
     "metadata": {},
     "output_type": "execute_result"
    }
   ],
   "source": [
    "#length forcompany_name\n",
    "\n",
    "len(company_name)"
   ]
  },
  {
   "cell_type": "code",
   "execution_count": 33,
   "id": "70c2da2a",
   "metadata": {},
   "outputs": [
    {
     "data": {
      "text/plain": [
       "['alike thoughts solutions private li...',\n",
       " 'divya staffing solution',\n",
       " 'divya staffing solution',\n",
       " 'radhika enterprises',\n",
       " 'divya staffing solution',\n",
       " 'divya staffing solution',\n",
       " 'renuka interprises',\n",
       " 'renuka interprises',\n",
       " 'radhika enterprises',\n",
       " 'gujarat facility services hiring fo...']"
      ]
     },
     "execution_count": 33,
     "metadata": {},
     "output_type": "execute_result"
    }
   ],
   "source": [
    "#scraped first 10 company_name\n",
    "\n",
    "company_name"
   ]
  },
  {
   "cell_type": "code",
   "execution_count": 34,
   "id": "f3bcc99d",
   "metadata": {},
   "outputs": [],
   "source": [
    "#For experience_required(using XPATH)\n",
    "\n",
    "experience_tags=driver.find_elements(By.XPATH,'//div[@class=\" jobCard_jobCard_lists_item__YxRkV jobCard_jobIcon__3FB1t\"]')\n",
    "for i in experience_tags:\n",
    "    experience=i.text\n",
    "    experience_required.append(experience)"
   ]
  },
  {
   "cell_type": "code",
   "execution_count": 35,
   "id": "6d231e80",
   "metadata": {},
   "outputs": [],
   "source": [
    "#to scrap first 10 datas\n",
    "\n",
    "experience_required=experience_required[:10]"
   ]
  },
  {
   "cell_type": "code",
   "execution_count": 36,
   "id": "594b4ff0",
   "metadata": {},
   "outputs": [
    {
     "data": {
      "text/plain": [
       "10"
      ]
     },
     "execution_count": 36,
     "metadata": {},
     "output_type": "execute_result"
    }
   ],
   "source": [
    "#length for experience_required\n",
    "\n",
    "len(experience_required)"
   ]
  },
  {
   "cell_type": "code",
   "execution_count": 37,
   "id": "b268a924",
   "metadata": {},
   "outputs": [
    {
     "data": {
      "text/plain": [
       "['5 to 10 Yrs',\n",
       " '0 to 4 Yrs',\n",
       " '0 to 4 Yrs',\n",
       " '0 to 4 Yrs',\n",
       " '0 to 4 Yrs',\n",
       " '0 to 4 Yrs',\n",
       " '0 to 4 Yrs',\n",
       " '0 to 4 Yrs',\n",
       " '0 to 4 Yrs',\n",
       " '5 to 8 Yrs']"
      ]
     },
     "execution_count": 37,
     "metadata": {},
     "output_type": "execute_result"
    }
   ],
   "source": [
    "#scraped first 10 experience_required\n",
    "\n",
    "experience_required"
   ]
  },
  {
   "cell_type": "code",
   "execution_count": 40,
   "id": "9252cd67",
   "metadata": {},
   "outputs": [],
   "source": [
    "#Data Frame for first 10 \"Data Scientists\" jobs in \"Bengalore\"  \n",
    "\n",
    "df_data_scientists=pd.DataFrame({\"Job_title\":job_title,\"Job_location\":extracted_job_location,\"Company_name\":company_name,\"Experience_required\":experience_required})"
   ]
  },
  {
   "cell_type": "code",
   "execution_count": 41,
   "id": "159bc2a0",
   "metadata": {},
   "outputs": [
    {
     "data": {
      "text/html": [
       "<div>\n",
       "<style scoped>\n",
       "    .dataframe tbody tr th:only-of-type {\n",
       "        vertical-align: middle;\n",
       "    }\n",
       "\n",
       "    .dataframe tbody tr th {\n",
       "        vertical-align: top;\n",
       "    }\n",
       "\n",
       "    .dataframe thead th {\n",
       "        text-align: right;\n",
       "    }\n",
       "</style>\n",
       "<table border=\"1\" class=\"dataframe\">\n",
       "  <thead>\n",
       "    <tr style=\"text-align: right;\">\n",
       "      <th></th>\n",
       "      <th>Job_title</th>\n",
       "      <th>Job_location</th>\n",
       "      <th>Company_name</th>\n",
       "      <th>Experience_required</th>\n",
       "    </tr>\n",
       "  </thead>\n",
       "  <tbody>\n",
       "    <tr>\n",
       "      <th>0</th>\n",
       "      <td>Data Scientist</td>\n",
       "      <td>Bangalore</td>\n",
       "      <td>alike thoughts solutions private li...</td>\n",
       "      <td>5 to 10 Yrs</td>\n",
       "    </tr>\n",
       "    <tr>\n",
       "      <th>1</th>\n",
       "      <td>Data Scientist Urgent Recruitment</td>\n",
       "      <td>Bangalore</td>\n",
       "      <td>divya staffing solution</td>\n",
       "      <td>0 to 4 Yrs</td>\n",
       "    </tr>\n",
       "    <tr>\n",
       "      <th>2</th>\n",
       "      <td>Data Scientist Opening</td>\n",
       "      <td>Bangalore</td>\n",
       "      <td>divya staffing solution</td>\n",
       "      <td>0 to 4 Yrs</td>\n",
       "    </tr>\n",
       "    <tr>\n",
       "      <th>3</th>\n",
       "      <td>Data Scientist Recruitment</td>\n",
       "      <td>Bangalore</td>\n",
       "      <td>radhika enterprises</td>\n",
       "      <td>0 to 4 Yrs</td>\n",
       "    </tr>\n",
       "    <tr>\n",
       "      <th>4</th>\n",
       "      <td>Data Scientist Vacancy</td>\n",
       "      <td>Bangalore</td>\n",
       "      <td>divya staffing solution</td>\n",
       "      <td>0 to 4 Yrs</td>\n",
       "    </tr>\n",
       "    <tr>\n",
       "      <th>5</th>\n",
       "      <td>Hiring For Data Scientist</td>\n",
       "      <td>Bangalore</td>\n",
       "      <td>divya staffing solution</td>\n",
       "      <td>0 to 4 Yrs</td>\n",
       "    </tr>\n",
       "    <tr>\n",
       "      <th>6</th>\n",
       "      <td>Data Scientist Opening</td>\n",
       "      <td>Bangalore</td>\n",
       "      <td>renuka interprises</td>\n",
       "      <td>0 to 4 Yrs</td>\n",
       "    </tr>\n",
       "    <tr>\n",
       "      <th>7</th>\n",
       "      <td>Data Scientist Opening</td>\n",
       "      <td>Bangalore</td>\n",
       "      <td>renuka interprises</td>\n",
       "      <td>0 to 4 Yrs</td>\n",
       "    </tr>\n",
       "    <tr>\n",
       "      <th>8</th>\n",
       "      <td>Data Scientist Recruitment</td>\n",
       "      <td>Bangalore</td>\n",
       "      <td>radhika enterprises</td>\n",
       "      <td>0 to 4 Yrs</td>\n",
       "    </tr>\n",
       "    <tr>\n",
       "      <th>9</th>\n",
       "      <td>ML Data Scientist</td>\n",
       "      <td>Bangalore</td>\n",
       "      <td>gujarat facility services hiring fo...</td>\n",
       "      <td>5 to 8 Yrs</td>\n",
       "    </tr>\n",
       "  </tbody>\n",
       "</table>\n",
       "</div>"
      ],
      "text/plain": [
       "                           Job_title Job_location  \\\n",
       "0                     Data Scientist    Bangalore   \n",
       "1  Data Scientist Urgent Recruitment    Bangalore   \n",
       "2             Data Scientist Opening    Bangalore   \n",
       "3         Data Scientist Recruitment    Bangalore   \n",
       "4             Data Scientist Vacancy    Bangalore   \n",
       "5          Hiring For Data Scientist    Bangalore   \n",
       "6             Data Scientist Opening    Bangalore   \n",
       "7             Data Scientist Opening    Bangalore   \n",
       "8         Data Scientist Recruitment    Bangalore   \n",
       "9                  ML Data Scientist    Bangalore   \n",
       "\n",
       "                             Company_name Experience_required  \n",
       "0  alike thoughts solutions private li...         5 to 10 Yrs  \n",
       "1                 divya staffing solution          0 to 4 Yrs  \n",
       "2                 divya staffing solution          0 to 4 Yrs  \n",
       "3                     radhika enterprises          0 to 4 Yrs  \n",
       "4                 divya staffing solution          0 to 4 Yrs  \n",
       "5                 divya staffing solution          0 to 4 Yrs  \n",
       "6                      renuka interprises          0 to 4 Yrs  \n",
       "7                      renuka interprises          0 to 4 Yrs  \n",
       "8                     radhika enterprises          0 to 4 Yrs  \n",
       "9  gujarat facility services hiring fo...          5 to 8 Yrs  "
      ]
     },
     "execution_count": 41,
     "metadata": {},
     "output_type": "execute_result"
    }
   ],
   "source": [
    "df_data_scientists"
   ]
  },
  {
   "cell_type": "markdown",
   "id": "fde69088",
   "metadata": {},
   "source": [
    "### Q3: Scrape 100 reviews data from flipkart.com for iphone11 phone. You have to go the link: \n",
    "https://www.flipkart.com/apple-iphone-11-black-64-gb/product-reviews/itm4e5041ba101fd?pid=MOBFWQ6BXGJCEYNY&lid=LSTMOBFWQ6BXGJCEYNYZXSHRJ&marketplace=FLIPKART\n",
    "\n",
    "\n",
    "As shown in the above page you have to scrape the tick marked attributes. These are:\n",
    "\n",
    "**1. Rating**\n",
    "\n",
    "**2. Review summary**\n",
    "\n",
    "**3. Full review**\n",
    "\n",
    "**4. You have to scrape this data for first 100reviews.**\n"
   ]
  },
  {
   "cell_type": "code",
   "execution_count": 115,
   "id": "63f98061",
   "metadata": {},
   "outputs": [],
   "source": [
    "#Initializing a chromebrowser using webdriver\n",
    "\n",
    "driver=webdriver.Chrome()\n"
   ]
  },
  {
   "cell_type": "code",
   "execution_count": 116,
   "id": "7ef6e130",
   "metadata": {},
   "outputs": [],
   "source": [
    "#getting the webpage    \n",
    "\n",
    "driver.get('https://www.flipkart.com/apple-iphone-11-black-64-gb/product-reviews/itm4e5041ba101fd?pid=MOBFWQ6BXGJCEYNY&lid=LSTMOBFWQ6BXGJCEYNYZXSHRJ&marketplace=FLIPKART')"
   ]
  },
  {
   "cell_type": "code",
   "execution_count": 117,
   "id": "dc08a57d",
   "metadata": {},
   "outputs": [],
   "source": [
    "#Assigning empty lists to store review information\n",
    "\n",
    "rating=[]\n",
    "review_summary=[]\n",
    "full_review=[]"
   ]
  },
  {
   "cell_type": "code",
   "execution_count": 119,
   "id": "00e03293",
   "metadata": {},
   "outputs": [],
   "source": [
    "for page in range(0,10):\n",
    "    rating_tags=driver.find_elements(By.XPATH,'//div[@class=\"_3LWZlK _1BLPMq\"]') #for rating using(XPATH)\n",
    "    for i in rating_tags:\n",
    "        rating.append(i.text)\n",
    "    review_tags=driver.find_elements(By.XPATH,'//p[@class=\"_2-N8zT\"]')  #for review_summary using(XPATH)\n",
    "    for i in review_tags:\n",
    "        review_summary.append(i.text)\n",
    "    full_tags=driver.find_elements(By.XPATH,'//div[@class=\"t-ZTKy\"]/div/div') #for full_review using(XPATH)\n",
    "    for i in full_tags:\n",
    "        full_review.append(i.text)  \n",
    "    next_button=driver.find_element(By.XPATH,'/html/body/div/div/div[3]/div/div/div[2]/div[13]/div/div/nav/a[11]') #for next_button using(XPATH)\n",
    "    next_button.click()\n",
    "    time.sleep(3) #Introduce 3 second delay\n",
    "    "
   ]
  },
  {
   "cell_type": "code",
   "execution_count": 120,
   "id": "e07253eb",
   "metadata": {},
   "outputs": [
    {
     "data": {
      "text/plain": [
       "110"
      ]
     },
     "execution_count": 120,
     "metadata": {},
     "output_type": "execute_result"
    }
   ],
   "source": [
    "#lenth for rating after scrapped from website\n",
    "\n",
    "len(rating)"
   ]
  },
  {
   "cell_type": "code",
   "execution_count": 121,
   "id": "a70e7b2f",
   "metadata": {},
   "outputs": [
    {
     "data": {
      "text/plain": [
       "110"
      ]
     },
     "execution_count": 121,
     "metadata": {},
     "output_type": "execute_result"
    }
   ],
   "source": [
    "#lenth for review_summary after scrapped from website\n",
    "\n",
    "\n",
    "len(review_summary)"
   ]
  },
  {
   "cell_type": "code",
   "execution_count": 122,
   "id": "d8ba2bb5",
   "metadata": {},
   "outputs": [
    {
     "data": {
      "text/plain": [
       "110"
      ]
     },
     "execution_count": 122,
     "metadata": {},
     "output_type": "execute_result"
    }
   ],
   "source": [
    "#lenth for full_review after scrapped from website\n",
    "\n",
    "len(full_review)"
   ]
  },
  {
   "cell_type": "code",
   "execution_count": 123,
   "id": "78250769",
   "metadata": {},
   "outputs": [],
   "source": [
    "#from rating ,scrapping first 100 rating\n",
    "\n",
    "rating=rating[:100]"
   ]
  },
  {
   "cell_type": "code",
   "execution_count": 124,
   "id": "41faf32f",
   "metadata": {},
   "outputs": [
    {
     "data": {
      "text/plain": [
       "100"
      ]
     },
     "execution_count": 124,
     "metadata": {},
     "output_type": "execute_result"
    }
   ],
   "source": [
    "len(rating)"
   ]
  },
  {
   "cell_type": "code",
   "execution_count": 125,
   "id": "4f831fae",
   "metadata": {},
   "outputs": [],
   "source": [
    "#from review_summary ,scrapping first 100 review_summary\n",
    "\n",
    "review_summary=review_summary[:100]"
   ]
  },
  {
   "cell_type": "code",
   "execution_count": 126,
   "id": "9085aae6",
   "metadata": {},
   "outputs": [
    {
     "data": {
      "text/plain": [
       "100"
      ]
     },
     "execution_count": 126,
     "metadata": {},
     "output_type": "execute_result"
    }
   ],
   "source": [
    "len(review_summary)"
   ]
  },
  {
   "cell_type": "code",
   "execution_count": 127,
   "id": "05156e90",
   "metadata": {},
   "outputs": [],
   "source": [
    "#from full_review ,scrapping first 100 full_review\n",
    "\n",
    "full_review=full_review[:100]"
   ]
  },
  {
   "cell_type": "code",
   "execution_count": 128,
   "id": "48f02442",
   "metadata": {},
   "outputs": [
    {
     "data": {
      "text/plain": [
       "100"
      ]
     },
     "execution_count": 128,
     "metadata": {},
     "output_type": "execute_result"
    }
   ],
   "source": [
    "len(full_review)"
   ]
  },
  {
   "cell_type": "code",
   "execution_count": 130,
   "id": "38bf252f",
   "metadata": {},
   "outputs": [],
   "source": [
    "#Data frame for reviews of iphone 11 black 64gb \n",
    "\n",
    "df_iphone11=pd.DataFrame({'Rating':rating,'Review_summary':review_summary,'Full_review':full_review})"
   ]
  },
  {
   "cell_type": "code",
   "execution_count": 131,
   "id": "2ca3f547",
   "metadata": {},
   "outputs": [
    {
     "data": {
      "text/html": [
       "<div>\n",
       "<style scoped>\n",
       "    .dataframe tbody tr th:only-of-type {\n",
       "        vertical-align: middle;\n",
       "    }\n",
       "\n",
       "    .dataframe tbody tr th {\n",
       "        vertical-align: top;\n",
       "    }\n",
       "\n",
       "    .dataframe thead th {\n",
       "        text-align: right;\n",
       "    }\n",
       "</style>\n",
       "<table border=\"1\" class=\"dataframe\">\n",
       "  <thead>\n",
       "    <tr style=\"text-align: right;\">\n",
       "      <th></th>\n",
       "      <th>Rating</th>\n",
       "      <th>Review_summary</th>\n",
       "      <th>Full_review</th>\n",
       "    </tr>\n",
       "  </thead>\n",
       "  <tbody>\n",
       "    <tr>\n",
       "      <th>0</th>\n",
       "      <td>5</td>\n",
       "      <td>Perfect product!</td>\n",
       "      <td>Photos super</td>\n",
       "    </tr>\n",
       "    <tr>\n",
       "      <th>1</th>\n",
       "      <td>5</td>\n",
       "      <td>Classy product</td>\n",
       "      <td>Camera is awesome\\nBest battery backup\\nA perf...</td>\n",
       "    </tr>\n",
       "    <tr>\n",
       "      <th>2</th>\n",
       "      <td>5</td>\n",
       "      <td>Best in the market!</td>\n",
       "      <td>Good Camera</td>\n",
       "    </tr>\n",
       "    <tr>\n",
       "      <th>3</th>\n",
       "      <td>5</td>\n",
       "      <td>Worth every penny</td>\n",
       "      <td>Feeling awesome after getting the delivery of ...</td>\n",
       "    </tr>\n",
       "    <tr>\n",
       "      <th>4</th>\n",
       "      <td>5</td>\n",
       "      <td>Excellent</td>\n",
       "      <td>NYC</td>\n",
       "    </tr>\n",
       "    <tr>\n",
       "      <th>...</th>\n",
       "      <td>...</td>\n",
       "      <td>...</td>\n",
       "      <td>...</td>\n",
       "    </tr>\n",
       "    <tr>\n",
       "      <th>95</th>\n",
       "      <td>4</td>\n",
       "      <td>Really Nice</td>\n",
       "      <td>Great phone and camera and timely delivery by ...</td>\n",
       "    </tr>\n",
       "    <tr>\n",
       "      <th>96</th>\n",
       "      <td>4</td>\n",
       "      <td>Good quality product</td>\n",
       "      <td>Awesome camera, smooth and fast UI, display is...</td>\n",
       "    </tr>\n",
       "    <tr>\n",
       "      <th>97</th>\n",
       "      <td>5</td>\n",
       "      <td>Just wow!</td>\n",
       "      <td>Just Wow🥰🤍</td>\n",
       "    </tr>\n",
       "    <tr>\n",
       "      <th>98</th>\n",
       "      <td>5</td>\n",
       "      <td>Excellent</td>\n",
       "      <td>Value for money</td>\n",
       "    </tr>\n",
       "    <tr>\n",
       "      <th>99</th>\n",
       "      <td>5</td>\n",
       "      <td>Best in the market!</td>\n",
       "      <td>The only thing i didnt like about the phone is...</td>\n",
       "    </tr>\n",
       "  </tbody>\n",
       "</table>\n",
       "<p>100 rows × 3 columns</p>\n",
       "</div>"
      ],
      "text/plain": [
       "   Rating        Review_summary  \\\n",
       "0       5      Perfect product!   \n",
       "1       5        Classy product   \n",
       "2       5   Best in the market!   \n",
       "3       5     Worth every penny   \n",
       "4       5             Excellent   \n",
       "..    ...                   ...   \n",
       "95      4           Really Nice   \n",
       "96      4  Good quality product   \n",
       "97      5             Just wow!   \n",
       "98      5             Excellent   \n",
       "99      5   Best in the market!   \n",
       "\n",
       "                                          Full_review  \n",
       "0                                        Photos super  \n",
       "1   Camera is awesome\\nBest battery backup\\nA perf...  \n",
       "2                                         Good Camera  \n",
       "3   Feeling awesome after getting the delivery of ...  \n",
       "4                                                 NYC  \n",
       "..                                                ...  \n",
       "95  Great phone and camera and timely delivery by ...  \n",
       "96  Awesome camera, smooth and fast UI, display is...  \n",
       "97                                         Just Wow🥰🤍  \n",
       "98                                    Value for money  \n",
       "99  The only thing i didnt like about the phone is...  \n",
       "\n",
       "[100 rows x 3 columns]"
      ]
     },
     "execution_count": 131,
     "metadata": {},
     "output_type": "execute_result"
    }
   ],
   "source": [
    "df_iphone11"
   ]
  },
  {
   "cell_type": "markdown",
   "id": "8e67bd50",
   "metadata": {},
   "source": [
    "### Q4: Scrape data for first 100 sneakers you find when you visit flipkart.com and search for “sneakers” in the search field.\n",
    "\n",
    "You have to scrape 3 attributes of each sneaker:\n",
    "\n",
    "**1. Brand**\n",
    "\n",
    "**2. ProductDescription**\n",
    "\n",
    "**3. Price**\n",
    "\n",
    "As shown in the below image, you have to scrape the above attributes."
   ]
  },
  {
   "cell_type": "code",
   "execution_count": 132,
   "id": "0579f76a",
   "metadata": {},
   "outputs": [],
   "source": [
    "#Initializing a chromebrowser using webdriver\n",
    "\n",
    "driver=webdriver.Chrome()"
   ]
  },
  {
   "cell_type": "code",
   "execution_count": 133,
   "id": "b351106b",
   "metadata": {},
   "outputs": [],
   "source": [
    "#getting the webpage\n",
    "\n",
    "driver.get(\"https://www.flipkart.com/\")"
   ]
  },
  {
   "cell_type": "code",
   "execution_count": 134,
   "id": "d3b2223e",
   "metadata": {},
   "outputs": [],
   "source": [
    "#Entering Sneakers using class name  \n",
    "\n",
    "sneakers=driver.find_element(By.CLASS_NAME,\"Pke_EE\")\n",
    "sneakers.send_keys(\"sneakers\")"
   ]
  },
  {
   "cell_type": "code",
   "execution_count": 135,
   "id": "01559288",
   "metadata": {},
   "outputs": [],
   "source": [
    "#Clicking search button using class name\n",
    "\n",
    "search_button = driver.find_element(By.CLASS_NAME,\"_2iLD__\")\n",
    "search_button.click()"
   ]
  },
  {
   "cell_type": "code",
   "execution_count": 136,
   "id": "1b3791e8",
   "metadata": {},
   "outputs": [],
   "source": [
    "#Assigning empty lists to store product information\n",
    "\n",
    "brand=[]\n",
    "product_description=[]\n",
    "price=[]"
   ]
  },
  {
   "cell_type": "code",
   "execution_count": 137,
   "id": "5706300e",
   "metadata": {},
   "outputs": [],
   "source": [
    "for page in range(0,3):\n",
    "    brand_tags=driver.find_elements(By.XPATH,'//div[@class=\"_2WkVRV\"]') #for brand using(XPATH)\n",
    "    for i in brand_tags:\n",
    "        brand.append(i.text)\n",
    "    product_tags=driver.find_elements(By.XPATH,'//div[@class=\"_2B099V\"]/a[1]')  #for product_description using(XPATH)\n",
    "    for i in product_tags:\n",
    "        product_description.append(i.text)\n",
    "    price_tags=driver.find_elements(By.XPATH,'//div[@class=\"_30jeq3\"]') #for price using(XPATH)\n",
    "    for i in price_tags:\n",
    "        price.append(i.text)  \n",
    "    next_button=driver.find_element(By.XPATH,'/html/body/div/div/div[3]/div[1]/div[2]/div[12]/div/div/nav/a[11]') #for next_button using(XPATH)\n",
    "    next_button.click()\n",
    "    time.sleep(3) #Introduce 3 second delay"
   ]
  },
  {
   "cell_type": "code",
   "execution_count": 138,
   "id": "f870f715",
   "metadata": {},
   "outputs": [
    {
     "data": {
      "text/plain": [
       "120"
      ]
     },
     "execution_count": 138,
     "metadata": {},
     "output_type": "execute_result"
    }
   ],
   "source": [
    "#lenth for brand after scrapped from website\n",
    "\n",
    "len(brand)"
   ]
  },
  {
   "cell_type": "code",
   "execution_count": 139,
   "id": "3bd7d1a4",
   "metadata": {},
   "outputs": [
    {
     "data": {
      "text/plain": [
       "120"
      ]
     },
     "execution_count": 139,
     "metadata": {},
     "output_type": "execute_result"
    }
   ],
   "source": [
    "#lenth for product_descriptionafter scrapped from website\n",
    "\n",
    "len(product_description)"
   ]
  },
  {
   "cell_type": "code",
   "execution_count": 140,
   "id": "769d0d37",
   "metadata": {},
   "outputs": [
    {
     "data": {
      "text/plain": [
       "120"
      ]
     },
     "execution_count": 140,
     "metadata": {},
     "output_type": "execute_result"
    }
   ],
   "source": [
    "#lenth for price after scrapped from website\n",
    "\n",
    "len(price)"
   ]
  },
  {
   "cell_type": "code",
   "execution_count": 141,
   "id": "8acfdc2d",
   "metadata": {},
   "outputs": [
    {
     "data": {
      "text/plain": [
       "100"
      ]
     },
     "execution_count": 141,
     "metadata": {},
     "output_type": "execute_result"
    }
   ],
   "source": [
    "#from brand ,scrapping first 100 brand\n",
    "\n",
    "brand=brand[:100]\n",
    "\n",
    "len(brand)"
   ]
  },
  {
   "cell_type": "code",
   "execution_count": 142,
   "id": "f046780f",
   "metadata": {},
   "outputs": [
    {
     "data": {
      "text/plain": [
       "100"
      ]
     },
     "execution_count": 142,
     "metadata": {},
     "output_type": "execute_result"
    }
   ],
   "source": [
    "#from product_description ,scrapping first 100 product_description \n",
    "\n",
    "product_description=product_description[:100]\n",
    "\n",
    "len(product_description)"
   ]
  },
  {
   "cell_type": "code",
   "execution_count": 143,
   "id": "89cfa03a",
   "metadata": {},
   "outputs": [
    {
     "data": {
      "text/plain": [
       "100"
      ]
     },
     "execution_count": 143,
     "metadata": {},
     "output_type": "execute_result"
    }
   ],
   "source": [
    "#from price,scrapping first 100 price\n",
    "\n",
    "price=price[:100]\n",
    "\n",
    "len(price)"
   ]
  },
  {
   "cell_type": "code",
   "execution_count": 144,
   "id": "cce575b0",
   "metadata": {},
   "outputs": [],
   "source": [
    "#Data frame for first 100 sneakers in \"https://www.flipkart.com/\" website\n",
    "\n",
    "df_for_sneakers=pd.DataFrame({\"Brand\":brand,\"Product_description\":product_description,\"Price\":price})"
   ]
  },
  {
   "cell_type": "code",
   "execution_count": 145,
   "id": "5e88d39f",
   "metadata": {},
   "outputs": [
    {
     "data": {
      "text/html": [
       "<div>\n",
       "<style scoped>\n",
       "    .dataframe tbody tr th:only-of-type {\n",
       "        vertical-align: middle;\n",
       "    }\n",
       "\n",
       "    .dataframe tbody tr th {\n",
       "        vertical-align: top;\n",
       "    }\n",
       "\n",
       "    .dataframe thead th {\n",
       "        text-align: right;\n",
       "    }\n",
       "</style>\n",
       "<table border=\"1\" class=\"dataframe\">\n",
       "  <thead>\n",
       "    <tr style=\"text-align: right;\">\n",
       "      <th></th>\n",
       "      <th>Brand</th>\n",
       "      <th>Product_description</th>\n",
       "      <th>Price</th>\n",
       "    </tr>\n",
       "  </thead>\n",
       "  <tbody>\n",
       "    <tr>\n",
       "      <th>0</th>\n",
       "      <td>Kraasa</td>\n",
       "      <td>GROOVY Mid-Top Casual Chunky Streetwear Fashio...</td>\n",
       "      <td>₹499</td>\n",
       "    </tr>\n",
       "    <tr>\n",
       "      <th>1</th>\n",
       "      <td>BRUTON</td>\n",
       "      <td>!Combo Pack Of 2 Casual Shoes! Sneakers For Men</td>\n",
       "      <td>₹470</td>\n",
       "    </tr>\n",
       "    <tr>\n",
       "      <th>2</th>\n",
       "      <td>URBANBOX</td>\n",
       "      <td>Trending Stylish Casual Outdoor Shoes Sneakers...</td>\n",
       "      <td>₹299</td>\n",
       "    </tr>\n",
       "    <tr>\n",
       "      <th>3</th>\n",
       "      <td>RED TAPE</td>\n",
       "      <td>Casual Sneakers Shoes for Men | Soft Cushioned...</td>\n",
       "      <td>₹1,179</td>\n",
       "    </tr>\n",
       "    <tr>\n",
       "      <th>4</th>\n",
       "      <td>aadi</td>\n",
       "      <td>Synthetic Leather |Lightweight|Comfort|Summer|...</td>\n",
       "      <td>₹323</td>\n",
       "    </tr>\n",
       "    <tr>\n",
       "      <th>...</th>\n",
       "      <td>...</td>\n",
       "      <td>...</td>\n",
       "      <td>...</td>\n",
       "    </tr>\n",
       "    <tr>\n",
       "      <th>95</th>\n",
       "      <td>PUMA</td>\n",
       "      <td>RS-0 Sound SD Sneakers For Men</td>\n",
       "      <td>₹3,199</td>\n",
       "    </tr>\n",
       "    <tr>\n",
       "      <th>96</th>\n",
       "      <td>asian</td>\n",
       "      <td>Tarzan-06 Gym,Sports,Walking,Stylissh With Ext...</td>\n",
       "      <td>₹749</td>\n",
       "    </tr>\n",
       "    <tr>\n",
       "      <th>97</th>\n",
       "      <td>PUMA</td>\n",
       "      <td>Glanza v2 Sneakers For Men</td>\n",
       "      <td>₹1,799</td>\n",
       "    </tr>\n",
       "    <tr>\n",
       "      <th>98</th>\n",
       "      <td>New Balance</td>\n",
       "      <td>2002 Sneakers For Men</td>\n",
       "      <td>₹7,800</td>\n",
       "    </tr>\n",
       "    <tr>\n",
       "      <th>99</th>\n",
       "      <td>BRUTON</td>\n",
       "      <td>Exclusive Sneaker Shoes Sneakers For Men</td>\n",
       "      <td>₹352</td>\n",
       "    </tr>\n",
       "  </tbody>\n",
       "</table>\n",
       "<p>100 rows × 3 columns</p>\n",
       "</div>"
      ],
      "text/plain": [
       "          Brand                                Product_description   Price\n",
       "0        Kraasa  GROOVY Mid-Top Casual Chunky Streetwear Fashio...    ₹499\n",
       "1        BRUTON    !Combo Pack Of 2 Casual Shoes! Sneakers For Men    ₹470\n",
       "2      URBANBOX  Trending Stylish Casual Outdoor Shoes Sneakers...    ₹299\n",
       "3      RED TAPE  Casual Sneakers Shoes for Men | Soft Cushioned...  ₹1,179\n",
       "4          aadi  Synthetic Leather |Lightweight|Comfort|Summer|...    ₹323\n",
       "..          ...                                                ...     ...\n",
       "95         PUMA                     RS-0 Sound SD Sneakers For Men  ₹3,199\n",
       "96        asian  Tarzan-06 Gym,Sports,Walking,Stylissh With Ext...    ₹749\n",
       "97         PUMA                         Glanza v2 Sneakers For Men  ₹1,799\n",
       "98  New Balance                              2002 Sneakers For Men  ₹7,800\n",
       "99       BRUTON           Exclusive Sneaker Shoes Sneakers For Men    ₹352\n",
       "\n",
       "[100 rows x 3 columns]"
      ]
     },
     "execution_count": 145,
     "metadata": {},
     "output_type": "execute_result"
    }
   ],
   "source": [
    "df_for_sneakers"
   ]
  },
  {
   "cell_type": "markdown",
   "id": "e152e527",
   "metadata": {},
   "source": [
    "### Q5: Go to webpage https://www.amazon.in/ Enter “Laptop” in the search field and then click the search icon. Then set CPU Type filter to “Intel Core i7” as shown in the below image:\n",
    "    \n",
    "Aftersetting the filters scrape first 10 laptops data. You have to scrape 3 attributes for each laptop:\n",
    "    \n",
    "**1. Title**\n",
    "\n",
    "**2. Ratings**\n",
    "\n",
    "**3. Price**"
   ]
  },
  {
   "cell_type": "code",
   "execution_count": 2,
   "id": "6ff2e771",
   "metadata": {},
   "outputs": [],
   "source": [
    "#Initializing a chromebrowser using webdriver\n",
    "\n",
    "driver=webdriver.Chrome()\n"
   ]
  },
  {
   "cell_type": "code",
   "execution_count": 3,
   "id": "82101805",
   "metadata": {},
   "outputs": [],
   "source": [
    "#getting the webpage    \n",
    "\n",
    "driver.get('https://www.amazon.in/')"
   ]
  },
  {
   "cell_type": "code",
   "execution_count": 4,
   "id": "00ddad92",
   "metadata": {},
   "outputs": [],
   "source": [
    "#Entering laptop using XPATH \n",
    "\n",
    "laptop=driver.find_element(By.XPATH,\"/html/body/div[1]/header/div/div[1]/div[2]/div/form/div[2]/div[1]/input\")\n",
    "laptop.send_keys(\"Laptop\")"
   ]
  },
  {
   "cell_type": "code",
   "execution_count": 5,
   "id": "a98fb0fe",
   "metadata": {},
   "outputs": [],
   "source": [
    "#Clicking search button using class XPATH\n",
    "\n",
    "search_button = driver.find_element(By.XPATH,'/html/body/div[1]/header/div/div[1]/div[2]/div/form/div[3]/div')\n",
    "search_button.click()"
   ]
  },
  {
   "cell_type": "code",
   "execution_count": 6,
   "id": "b069576b",
   "metadata": {},
   "outputs": [],
   "source": [
    "#filtering CPU Type filter to \"Intel Core i7\" with XPATH\n",
    "\n",
    "cpu_filter=driver.find_element(By.XPATH,\"/html/body/div[1]/div[1]/div[1]/div[2]/div/div[3]/span/div[1]/div/div/div[6]/ul[19]/span/span[9]/li/span/a/div/label/i\")\n",
    "cpu_filter.click()"
   ]
  },
  {
   "cell_type": "code",
   "execution_count": 25,
   "id": "3e6214a5",
   "metadata": {},
   "outputs": [],
   "source": [
    "laptop_title=[]\n",
    "laptop_ratings=[]\n",
    "laptop_price=[]"
   ]
  },
  {
   "cell_type": "code",
   "execution_count": 26,
   "id": "649ddfad",
   "metadata": {},
   "outputs": [],
   "source": [
    "#For laptop_title(using XPATH)\n",
    "\n",
    "title_tags=driver.find_elements(By.XPATH,'//h2[@class=\"a-size-mini a-spacing-none a-color-base s-line-clamp-2\"]')\n",
    "for i in title_tags:\n",
    "    title=i.text\n",
    "    laptop_title.append(title)"
   ]
  },
  {
   "cell_type": "code",
   "execution_count": 27,
   "id": "868c40fe",
   "metadata": {},
   "outputs": [
    {
     "data": {
      "text/plain": [
       "24"
      ]
     },
     "execution_count": 27,
     "metadata": {},
     "output_type": "execute_result"
    }
   ],
   "source": [
    "len(laptop_title)"
   ]
  },
  {
   "cell_type": "code",
   "execution_count": 28,
   "id": "be299186",
   "metadata": {},
   "outputs": [],
   "source": [
    "#to scrap first 10 datas\n",
    "\n",
    "laptop_title=laptop_title[:10]"
   ]
  },
  {
   "cell_type": "code",
   "execution_count": 29,
   "id": "6a70c2c5",
   "metadata": {},
   "outputs": [
    {
     "data": {
      "text/plain": [
       "['ASUS TUF Gaming F15, 15.6\"(39.62 cms) FHD 144Hz, Intel Core i7-11800H 11th Gen, 4GB NVIDIA GeForce RTX 3050 Ti, Gaming Laptop (16GB/512GB SSD/Windows 11/90WHrs Battery/Black/2.30 Kg), FX506HE-HN382W',\n",
       " 'MSI Modern 14, Intel 12th Gen. i7-1255U, 36CM FHD 60Hz Laptop (16GB/512GB NVMe SSD/Windows 11 Home/Intel Iris Xe Graphics/Classic Black/1.4Kg), C12M-459IN',\n",
       " 'ASUS Vivobook 15, Intel Core i7-12650H 12th Gen, 15.6\" (39.62 cm) FHD, Thin and Light Laptop (16GB/512GB/Win11/Office 2021/Blue/1.7 kg), X1502ZA-EJ741WS',\n",
       " 'Lenovo ThinkBook 15 Intel 12th Gen Core i7 15.6\" (39.62cm) FHD IPS 300 Nits Antiglare Thin and Light Laptop (16GB/512GB SSD/Windows 11 Home/Backlit/Mineral Grey/1Y Premier Support/1.7 Kg), 21DJA0Y0IN',\n",
       " 'HP Pavilion 14 12th Gen Intel Core i7 16GB SDRAM/1TB SSD 14 inch(35.6cm) FHD,IPS,Micro-Edge Display/Intel Iris Xe Graphics/B&O/Win 11/Alexa Built-in/Backlit KB/FPR/MSO 2021/Natural Silver,14-dv2015TU',\n",
       " 'ZEBRONICS Laptop PRO Series Z NBC 5S, Intel Core 12th Gen i7 Processor (16GB RAM | 512GB SSD), 15.6-Inch (39.6 CM) IPS Display, (Ultra Slim | 38.5 Wh Large Battery |Windows 11 |Midnight Blue |1.76 Kg)',\n",
       " 'ASUS TUF Gaming F15 (2023) 90WHr Battery, Intel Core i7-12700H 12th Gen, 15.6\" FHD 144Hz, 8GB RTX 4060, Gaming Laptop (16GB/512GB SSD/Windows 11//1-Zone RGB/Gray/2.20 Kg), FX507ZV-LP094W',\n",
       " 'Dell G15 5530 Gaming Laptop, Intel i7-13650HX/16GB/1TB SSD/NVIDIA RTX 3050, 6 GB GDDR6/15.6\" (39.62cm) FHD AG 120Hz 250 nits/Backlit KB RGB/Dark Shadow Grey/Win 11+MSO\\'21/15 Month McAfee/2.65kg',\n",
       " 'Lenovo IdeaPad Slim 3 Intel Core i7 11th Gen 15.6\" (39.62cm) FHD Laptop (16GB/512GB SSD/Win 11/Office 2021/2 Years Warranty/Arctic Grey/1.65Kg), 82H803B6IN',\n",
       " 'HP Laptop 15s, 12th Gen Intel Core i7-1255U, 15.6-inch (39.6 cm), FHD, 16GB DDR4, 512GB SSD, Intel Iris Xe Graphics, Backlit KB, Thin & Light (Win 11, MSO 2021, Silver, 1.69 kg), fq5190TU']"
      ]
     },
     "execution_count": 29,
     "metadata": {},
     "output_type": "execute_result"
    }
   ],
   "source": [
    "laptop_title"
   ]
  },
  {
   "cell_type": "markdown",
   "id": "9eb23403",
   "metadata": {},
   "source": [
    "### I tried more ways to get ratings of the laptop ,it always showing ' ' like this in the output(in following cell)"
   ]
  },
  {
   "cell_type": "code",
   "execution_count": 30,
   "id": "fae98896",
   "metadata": {},
   "outputs": [],
   "source": [
    "#For rating(using XPATH)\n",
    "\n",
    "rating_tags=driver.find_elements(By.XPATH,'//span[@class=\"a-icon-alt\"]')\n",
    "for i in rating_tags:\n",
    "    rating=i.text\n",
    "    laptop_ratings.append(rating)"
   ]
  },
  {
   "cell_type": "code",
   "execution_count": 31,
   "id": "cb1a1d2d",
   "metadata": {},
   "outputs": [
    {
     "data": {
      "text/plain": [
       "['',\n",
       " '',\n",
       " '',\n",
       " '',\n",
       " '',\n",
       " '',\n",
       " '',\n",
       " '',\n",
       " '',\n",
       " '',\n",
       " '',\n",
       " '',\n",
       " '',\n",
       " '',\n",
       " '',\n",
       " '',\n",
       " '',\n",
       " '',\n",
       " '',\n",
       " '',\n",
       " '',\n",
       " '',\n",
       " '',\n",
       " '',\n",
       " '',\n",
       " '',\n",
       " '',\n",
       " '',\n",
       " '',\n",
       " '',\n",
       " '']"
      ]
     },
     "execution_count": 31,
     "metadata": {},
     "output_type": "execute_result"
    }
   ],
   "source": [
    "laptop_ratings"
   ]
  },
  {
   "cell_type": "code",
   "execution_count": 32,
   "id": "f4005d47",
   "metadata": {},
   "outputs": [],
   "source": [
    "#For laptop_price(using XPATH)\n",
    "\n",
    "price_tags=driver.find_elements(By.XPATH,'//span[@class=\"a-price-whole\"]')\n",
    "for i in price_tags:\n",
    "    price=i.text\n",
    "    laptop_price.append(price)"
   ]
  },
  {
   "cell_type": "code",
   "execution_count": 33,
   "id": "834c06ff",
   "metadata": {},
   "outputs": [
    {
     "data": {
      "text/plain": [
       "['69,990',\n",
       " '49,650',\n",
       " '59,990',\n",
       " '1,14,590',\n",
       " '57,990',\n",
       " '76,990',\n",
       " '39,990',\n",
       " '99,990',\n",
       " '99,990',\n",
       " '59,400',\n",
       " '69,000',\n",
       " '1,60,829',\n",
       " '68,990',\n",
       " '81,990',\n",
       " '71,990',\n",
       " '82,990',\n",
       " '79,990',\n",
       " '87,230',\n",
       " '90,070',\n",
       " '89,990',\n",
       " '93,990',\n",
       " '87,990',\n",
       " '99,990',\n",
       " '78,490',\n",
       " '95,490']"
      ]
     },
     "execution_count": 33,
     "metadata": {},
     "output_type": "execute_result"
    }
   ],
   "source": [
    "laptop_price"
   ]
  },
  {
   "cell_type": "code",
   "execution_count": 35,
   "id": "510479fe",
   "metadata": {},
   "outputs": [],
   "source": [
    "len(laptop_price)\n",
    "\n",
    "#in this laptop price there is one unwanted sponsered data so ,removing it\n",
    "\n",
    "laptop_price.remove('1,14,590')"
   ]
  },
  {
   "cell_type": "code",
   "execution_count": 36,
   "id": "9353da5c",
   "metadata": {},
   "outputs": [
    {
     "data": {
      "text/plain": [
       "24"
      ]
     },
     "execution_count": 36,
     "metadata": {},
     "output_type": "execute_result"
    }
   ],
   "source": [
    "#after removing unwanted data\n",
    "\n",
    "len(laptop_price)"
   ]
  },
  {
   "cell_type": "code",
   "execution_count": 37,
   "id": "27b58fbd",
   "metadata": {},
   "outputs": [],
   "source": [
    "#to scrap first 10 datas\n",
    "\n",
    "laptop_price=laptop_price[:10]"
   ]
  },
  {
   "cell_type": "code",
   "execution_count": 38,
   "id": "e521c5ae",
   "metadata": {},
   "outputs": [],
   "source": [
    "#data frame for laptop(title,price) except rating\n",
    "\n",
    "df_laptop_intel_core_i7=pd.DataFrame({'Laptop_title':laptop_title,'Laptop_price':laptop_price})"
   ]
  },
  {
   "cell_type": "code",
   "execution_count": 39,
   "id": "05e0aaf2",
   "metadata": {},
   "outputs": [
    {
     "data": {
      "text/html": [
       "<div>\n",
       "<style scoped>\n",
       "    .dataframe tbody tr th:only-of-type {\n",
       "        vertical-align: middle;\n",
       "    }\n",
       "\n",
       "    .dataframe tbody tr th {\n",
       "        vertical-align: top;\n",
       "    }\n",
       "\n",
       "    .dataframe thead th {\n",
       "        text-align: right;\n",
       "    }\n",
       "</style>\n",
       "<table border=\"1\" class=\"dataframe\">\n",
       "  <thead>\n",
       "    <tr style=\"text-align: right;\">\n",
       "      <th></th>\n",
       "      <th>Laptop_title</th>\n",
       "      <th>Laptop_price</th>\n",
       "    </tr>\n",
       "  </thead>\n",
       "  <tbody>\n",
       "    <tr>\n",
       "      <th>0</th>\n",
       "      <td>ASUS TUF Gaming F15, 15.6\"(39.62 cms) FHD 144H...</td>\n",
       "      <td>69,990</td>\n",
       "    </tr>\n",
       "    <tr>\n",
       "      <th>1</th>\n",
       "      <td>MSI Modern 14, Intel 12th Gen. i7-1255U, 36CM ...</td>\n",
       "      <td>49,650</td>\n",
       "    </tr>\n",
       "    <tr>\n",
       "      <th>2</th>\n",
       "      <td>ASUS Vivobook 15, Intel Core i7-12650H 12th Ge...</td>\n",
       "      <td>59,990</td>\n",
       "    </tr>\n",
       "    <tr>\n",
       "      <th>3</th>\n",
       "      <td>Lenovo ThinkBook 15 Intel 12th Gen Core i7 15....</td>\n",
       "      <td>57,990</td>\n",
       "    </tr>\n",
       "    <tr>\n",
       "      <th>4</th>\n",
       "      <td>HP Pavilion 14 12th Gen Intel Core i7 16GB SDR...</td>\n",
       "      <td>76,990</td>\n",
       "    </tr>\n",
       "    <tr>\n",
       "      <th>5</th>\n",
       "      <td>ZEBRONICS Laptop PRO Series Z NBC 5S, Intel Co...</td>\n",
       "      <td>39,990</td>\n",
       "    </tr>\n",
       "    <tr>\n",
       "      <th>6</th>\n",
       "      <td>ASUS TUF Gaming F15 (2023) 90WHr Battery, Inte...</td>\n",
       "      <td>99,990</td>\n",
       "    </tr>\n",
       "    <tr>\n",
       "      <th>7</th>\n",
       "      <td>Dell G15 5530 Gaming Laptop, Intel i7-13650HX/...</td>\n",
       "      <td>99,990</td>\n",
       "    </tr>\n",
       "    <tr>\n",
       "      <th>8</th>\n",
       "      <td>Lenovo IdeaPad Slim 3 Intel Core i7 11th Gen 1...</td>\n",
       "      <td>59,400</td>\n",
       "    </tr>\n",
       "    <tr>\n",
       "      <th>9</th>\n",
       "      <td>HP Laptop 15s, 12th Gen Intel Core i7-1255U, 1...</td>\n",
       "      <td>69,000</td>\n",
       "    </tr>\n",
       "  </tbody>\n",
       "</table>\n",
       "</div>"
      ],
      "text/plain": [
       "                                        Laptop_title Laptop_price\n",
       "0  ASUS TUF Gaming F15, 15.6\"(39.62 cms) FHD 144H...       69,990\n",
       "1  MSI Modern 14, Intel 12th Gen. i7-1255U, 36CM ...       49,650\n",
       "2  ASUS Vivobook 15, Intel Core i7-12650H 12th Ge...       59,990\n",
       "3  Lenovo ThinkBook 15 Intel 12th Gen Core i7 15....       57,990\n",
       "4  HP Pavilion 14 12th Gen Intel Core i7 16GB SDR...       76,990\n",
       "5  ZEBRONICS Laptop PRO Series Z NBC 5S, Intel Co...       39,990\n",
       "6  ASUS TUF Gaming F15 (2023) 90WHr Battery, Inte...       99,990\n",
       "7  Dell G15 5530 Gaming Laptop, Intel i7-13650HX/...       99,990\n",
       "8  Lenovo IdeaPad Slim 3 Intel Core i7 11th Gen 1...       59,400\n",
       "9  HP Laptop 15s, 12th Gen Intel Core i7-1255U, 1...       69,000"
      ]
     },
     "execution_count": 39,
     "metadata": {},
     "output_type": "execute_result"
    }
   ],
   "source": [
    "df_laptop_intel_core_i7"
   ]
  },
  {
   "cell_type": "markdown",
   "id": "16863db6",
   "metadata": {},
   "source": [
    "### Q6: Write a python program to scrape data for Top 1000 Quotes of All Time.\n",
    "\n",
    "The above task will be done in following steps:\n",
    "\n",
    "**1. First get the webpage https://www.azquotes.com/**\n",
    "\n",
    "**2. Click on TopQuote**\n",
    "\n",
    "**3. Than scrap a)Quote b) Author c) Type Of Quotes**\n"
   ]
  },
  {
   "cell_type": "code",
   "execution_count": 21,
   "id": "43568ee7",
   "metadata": {},
   "outputs": [],
   "source": [
    "#Initializing a chromebrowser using webdriver\n",
    "\n",
    "driver=webdriver.Chrome()\n"
   ]
  },
  {
   "cell_type": "code",
   "execution_count": 22,
   "id": "cc6abd0b",
   "metadata": {},
   "outputs": [],
   "source": [
    "#getting the webpage    \n",
    "\n",
    "driver.get('https://www.azquotes.com/')"
   ]
  },
  {
   "cell_type": "code",
   "execution_count": 23,
   "id": "59419db2",
   "metadata": {},
   "outputs": [],
   "source": [
    "#Clicking TopQuote using class XPATH\n",
    "\n",
    "TopQuote = driver.find_element(By.XPATH,'/html/body/div[1]/div[1]/div[1]/div/div[3]/ul/li[5]/a')\n",
    "TopQuote.click()"
   ]
  },
  {
   "cell_type": "code",
   "execution_count": 25,
   "id": "f944d61a",
   "metadata": {},
   "outputs": [],
   "source": [
    "quote=[]\n",
    "author=[]\n",
    "types_of_quotes=[]\n"
   ]
  },
  {
   "cell_type": "code",
   "execution_count": 26,
   "id": "72341051",
   "metadata": {},
   "outputs": [],
   "source": [
    "for page in range(0,10):\n",
    "    quote_tags=driver.find_elements(By.XPATH,'//a[@class=\"title\"]') #for quote using(XPATH)\n",
    "    for i in quote_tags:\n",
    "        quote.append(i.text)\n",
    "    author_tags=driver.find_elements(By.XPATH,'//div[@class=\"author\"]')  #for author using(XPATH)\n",
    "    for i in author_tags:\n",
    "        author.append(i.text)\n",
    "    types_of_quotes_tags=driver.find_elements(By.XPATH,'//div[@class=\"tags\"]') #for types_of_quotes using(XPATH)\n",
    "    for i in types_of_quotes_tags:\n",
    "        types_of_quotes.append(i.text)  \n",
    "    next_button=driver.find_element(By.XPATH,'/html/body/div[1]/div[2]/div/div/div/div[1]/div/div[3]/li[12]/a') #for next_button using(XPATH)\n",
    "    next_button.click()\n",
    "    time.sleep(3)"
   ]
  },
  {
   "cell_type": "code",
   "execution_count": 27,
   "id": "3143c2bb",
   "metadata": {},
   "outputs": [
    {
     "data": {
      "text/plain": [
       "1000"
      ]
     },
     "execution_count": 27,
     "metadata": {},
     "output_type": "execute_result"
    }
   ],
   "source": [
    "len(quote) #lenth for quote after scrapped from website"
   ]
  },
  {
   "cell_type": "code",
   "execution_count": 28,
   "id": "3cb9ec47",
   "metadata": {},
   "outputs": [
    {
     "data": {
      "text/plain": [
       "1000"
      ]
     },
     "execution_count": 28,
     "metadata": {},
     "output_type": "execute_result"
    }
   ],
   "source": [
    "len(author) #lenth for author after scrapped from website"
   ]
  },
  {
   "cell_type": "code",
   "execution_count": 29,
   "id": "0b7d2ef8",
   "metadata": {},
   "outputs": [
    {
     "data": {
      "text/plain": [
       "1000"
      ]
     },
     "execution_count": 29,
     "metadata": {},
     "output_type": "execute_result"
    }
   ],
   "source": [
    "len(types_of_quotes) #lenth for types_of_quotes after scrapped from website"
   ]
  },
  {
   "cell_type": "code",
   "execution_count": 32,
   "id": "08f7bc4e",
   "metadata": {},
   "outputs": [],
   "source": [
    "df_top_quotes=pd.DataFrame({\"Quote\":quote,\"Author\":author,\"Types_of_quotes\":types_of_quotes})"
   ]
  },
  {
   "cell_type": "code",
   "execution_count": 33,
   "id": "b9601296",
   "metadata": {},
   "outputs": [
    {
     "data": {
      "text/html": [
       "<div>\n",
       "<style scoped>\n",
       "    .dataframe tbody tr th:only-of-type {\n",
       "        vertical-align: middle;\n",
       "    }\n",
       "\n",
       "    .dataframe tbody tr th {\n",
       "        vertical-align: top;\n",
       "    }\n",
       "\n",
       "    .dataframe thead th {\n",
       "        text-align: right;\n",
       "    }\n",
       "</style>\n",
       "<table border=\"1\" class=\"dataframe\">\n",
       "  <thead>\n",
       "    <tr style=\"text-align: right;\">\n",
       "      <th></th>\n",
       "      <th>Quote</th>\n",
       "      <th>Author</th>\n",
       "      <th>Types_of_quotes</th>\n",
       "    </tr>\n",
       "  </thead>\n",
       "  <tbody>\n",
       "    <tr>\n",
       "      <th>0</th>\n",
       "      <td>The essence of strategy is choosing what not t...</td>\n",
       "      <td>Michael Porter</td>\n",
       "      <td>Essence, Deep Thought, Transcendentalism</td>\n",
       "    </tr>\n",
       "    <tr>\n",
       "      <th>1</th>\n",
       "      <td>One cannot and must not try to erase the past ...</td>\n",
       "      <td>Golda Meir</td>\n",
       "      <td>Inspiration, Past, Trying</td>\n",
       "    </tr>\n",
       "    <tr>\n",
       "      <th>2</th>\n",
       "      <td>Patriotism means to stand by the country. It d...</td>\n",
       "      <td>Theodore Roosevelt</td>\n",
       "      <td>Country, Peace, War</td>\n",
       "    </tr>\n",
       "    <tr>\n",
       "      <th>3</th>\n",
       "      <td>Death is something inevitable. When a man has ...</td>\n",
       "      <td>Nelson Mandela</td>\n",
       "      <td>Inspirational, Motivational, Death</td>\n",
       "    </tr>\n",
       "    <tr>\n",
       "      <th>4</th>\n",
       "      <td>You have to love a nation that celebrates its ...</td>\n",
       "      <td>Erma Bombeck</td>\n",
       "      <td>4th Of July, Food, Patriotic</td>\n",
       "    </tr>\n",
       "    <tr>\n",
       "      <th>...</th>\n",
       "      <td>...</td>\n",
       "      <td>...</td>\n",
       "      <td>...</td>\n",
       "    </tr>\n",
       "    <tr>\n",
       "      <th>995</th>\n",
       "      <td>Regret for the things we did can be tempered b...</td>\n",
       "      <td>Sydney J. Harris</td>\n",
       "      <td>Love, Inspirational, Motivational</td>\n",
       "    </tr>\n",
       "    <tr>\n",
       "      <th>996</th>\n",
       "      <td>America... just a nation of two hundred millio...</td>\n",
       "      <td>Hunter S. Thompson</td>\n",
       "      <td>Gun, Two, Qualms About</td>\n",
       "    </tr>\n",
       "    <tr>\n",
       "      <th>997</th>\n",
       "      <td>For every disciplined effort there is a multip...</td>\n",
       "      <td>Jim Rohn</td>\n",
       "      <td>Inspirational, Greatness, Best Effort</td>\n",
       "    </tr>\n",
       "    <tr>\n",
       "      <th>998</th>\n",
       "      <td>The spiritual journey is individual, highly pe...</td>\n",
       "      <td>Ram Dass</td>\n",
       "      <td>Spiritual, Truth, Yoga</td>\n",
       "    </tr>\n",
       "    <tr>\n",
       "      <th>999</th>\n",
       "      <td>The mind is not a vessel to be filled but a fi...</td>\n",
       "      <td>Plutarch</td>\n",
       "      <td>Inspirational, Leadership, Education</td>\n",
       "    </tr>\n",
       "  </tbody>\n",
       "</table>\n",
       "<p>1000 rows × 3 columns</p>\n",
       "</div>"
      ],
      "text/plain": [
       "                                                 Quote              Author  \\\n",
       "0    The essence of strategy is choosing what not t...      Michael Porter   \n",
       "1    One cannot and must not try to erase the past ...          Golda Meir   \n",
       "2    Patriotism means to stand by the country. It d...  Theodore Roosevelt   \n",
       "3    Death is something inevitable. When a man has ...      Nelson Mandela   \n",
       "4    You have to love a nation that celebrates its ...        Erma Bombeck   \n",
       "..                                                 ...                 ...   \n",
       "995  Regret for the things we did can be tempered b...    Sydney J. Harris   \n",
       "996  America... just a nation of two hundred millio...  Hunter S. Thompson   \n",
       "997  For every disciplined effort there is a multip...            Jim Rohn   \n",
       "998  The spiritual journey is individual, highly pe...            Ram Dass   \n",
       "999  The mind is not a vessel to be filled but a fi...            Plutarch   \n",
       "\n",
       "                              Types_of_quotes  \n",
       "0    Essence, Deep Thought, Transcendentalism  \n",
       "1                   Inspiration, Past, Trying  \n",
       "2                         Country, Peace, War  \n",
       "3          Inspirational, Motivational, Death  \n",
       "4                4th Of July, Food, Patriotic  \n",
       "..                                        ...  \n",
       "995         Love, Inspirational, Motivational  \n",
       "996                    Gun, Two, Qualms About  \n",
       "997     Inspirational, Greatness, Best Effort  \n",
       "998                    Spiritual, Truth, Yoga  \n",
       "999      Inspirational, Leadership, Education  \n",
       "\n",
       "[1000 rows x 3 columns]"
      ]
     },
     "execution_count": 33,
     "metadata": {},
     "output_type": "execute_result"
    }
   ],
   "source": [
    "df_top_quotes"
   ]
  },
  {
   "cell_type": "markdown",
   "id": "deac46c0",
   "metadata": {},
   "source": [
    "## Q7: Write a python program to display list of respected former Prime Ministers of India \n",
    "    \n",
    "**(i.e. Name,Born-Dead, Term of office, Remarks)**\n",
    "\n",
    "from https://www.jagranjosh.com/general-knowledge/list-of-all-prime-ministers-of-india-1473165149-1\n",
    "\n",
    "scrap the mentioned data and make the DataFrame"
   ]
  },
  {
   "cell_type": "code",
   "execution_count": 102,
   "id": "8e7001e0",
   "metadata": {},
   "outputs": [],
   "source": [
    "#Initializing a chromebrowser using webdriver\n",
    "\n",
    "driver=webdriver.Chrome()"
   ]
  },
  {
   "cell_type": "code",
   "execution_count": 103,
   "id": "5e9f8af0",
   "metadata": {},
   "outputs": [],
   "source": [
    "#getting the webpage\n",
    "\n",
    "driver.get(\"https://www.jagranjosh.com/general-knowledge/list-of-all-prime-ministers-of-india-1473165149-1\")"
   ]
  },
  {
   "cell_type": "code",
   "execution_count": 116,
   "id": "962b87cc",
   "metadata": {},
   "outputs": [],
   "source": [
    "#Assigning empty lists to store former_prime_minister information\n",
    "\n",
    "former_prime_ministers=[]"
   ]
  },
  {
   "cell_type": "markdown",
   "id": "336dddb8",
   "metadata": {},
   "source": [
    "## for former_prime_minister(using XPATH)(Note: i tried to get one by one information(like.,Name,Born-Dead, Term of office, Remarks) but in this website it is not shown so,i tried in different way )"
   ]
  },
  {
   "cell_type": "code",
   "execution_count": 117,
   "id": "6fd6f4ca",
   "metadata": {},
   "outputs": [],
   "source": [
    "pm_tags=driver.find_elements(By.XPATH,'//td') \n",
    "for i in pm_tags:\n",
    "    pm=i.text.replace('\\n','  ')\n",
    "    former_prime_ministers.append(pm)"
   ]
  },
  {
   "cell_type": "code",
   "execution_count": 118,
   "id": "c8f6ea8f",
   "metadata": {},
   "outputs": [
    {
     "data": {
      "text/plain": [
       "['1.',\n",
       " 'Jawahar Lal Nehru',\n",
       " '(1889–1964)',\n",
       " '15 August 1947 to 27 May 1964  16 years, 286 days',\n",
       " 'The first prime minister of India and the longest-serving PM of India, the first to die in office.',\n",
       " '2.',\n",
       " 'Gulzarilal Nanda (Acting)',\n",
       " '(1898-1998)',\n",
       " '27 May 1964 to 9 June 1964,  13 days',\n",
       " 'First acting PM of India',\n",
       " '3.',\n",
       " 'Lal Bahadur Shastri',\n",
       " '(1904–1966)',\n",
       " '9 June 1964 to 11 January 1966  1 year, 216 days',\n",
       " \"He has given the slogan of 'Jai Jawan Jai Kisan' during the Indo-Pak war of 1965\",\n",
       " '4. ',\n",
       " 'Gulzari Lal Nanda  (Acting)',\n",
       " '(1898-1998)',\n",
       " '11 January 1966 to 24 January 1966  13 days',\n",
       " '-',\n",
       " '5.',\n",
       " 'Indira Gandhi',\n",
       " '(1917–1984)',\n",
       " '24 January 1966 to 24 March 1977  11 years, 59 days',\n",
       " 'First female Prime Minister of India',\n",
       " '6.',\n",
       " 'Morarji Desai',\n",
       " '(1896–1995)',\n",
       " '24 March 1977 to  28 July 1979   2 year, 126 days',\n",
       " 'Oldest to become PM (81 years old) and first to resign from office',\n",
       " '7.',\n",
       " 'Charan Singh',\n",
       " '(1902–1987)',\n",
       " '28 July 1979 to 14 January 1980  170 days',\n",
       " 'Only PM who did not face the Parliament',\n",
       " '8.',\n",
       " 'Indira Gandhi',\n",
       " '(1917–1984)',\n",
       " '14 January 1980 to 31 October 1984  4 years, 291 days',\n",
       " 'The first lady who served as PM for the second term',\n",
       " '9.',\n",
       " 'Rajiv Gandhi',\n",
       " '(1944–1991)',\n",
       " '31 October 1984 to 2 December 1989  5 years, 32 days',\n",
       " 'Youngest to become PM (40 years old)',\n",
       " '10.',\n",
       " 'V. P. Singh',\n",
       " '(1931–2008)',\n",
       " '2 December 1989 to 10 November 1990  343 days',\n",
       " 'First PM to step down after a vote of no confidence',\n",
       " '11.',\n",
       " 'Chandra Shekhar',\n",
       " '(1927–2007)',\n",
       " '10 November 1990 to 21 June 1991  223 days',\n",
       " 'He belongs to  Samajwadi Janata Party',\n",
       " '12.',\n",
       " 'P. V. Narasimha Rao',\n",
       " '(1921–2004)',\n",
       " '21 June 1991 to 16 May 1996  4 years, 330 days',\n",
       " 'First PM from South India',\n",
       " '13.',\n",
       " 'Atal Bihari Vajpayee',\n",
       " '(1924- 2018)',\n",
       " '16 May 1996 to 1 June 1996  16 days',\n",
       " 'PM for shortest tenure',\n",
       " '14.',\n",
       " 'H. D. Deve Gowda',\n",
       " '(born 1933)',\n",
       " '1 June 1996 to 21 April 1997  324 days',\n",
       " 'He belongs to  Janata Dal',\n",
       " '15.',\n",
       " 'Inder Kumar Gujral',\n",
       " '(1919–2012)',\n",
       " '21 April 1997 to 19 March 1998   332 days',\n",
       " '------',\n",
       " '16.',\n",
       " 'Atal Bihari Vajpayee',\n",
       " '(1924-2018)',\n",
       " '19 March 1998 to 22 May 2004   6 years, 64 days',\n",
       " ' The first non-congress PM who completed a full term as PM',\n",
       " '17.',\n",
       " 'Manmohan Singh',\n",
       " '(born 1932)',\n",
       " '22 May 2004 to 26 May 2014     10 years, 4 days',\n",
       " ' First Sikh PM',\n",
       " '18.',\n",
       " 'Narendra Modi',\n",
       " '(born 1950)',\n",
       " '26 May 2014 - 2019',\n",
       " '4th Prime Minister of India who served two consecutive tenures',\n",
       " '19.',\n",
       " 'Narendra Modi',\n",
       " '(born 1950)',\n",
       " '30 May 2019- Incumbent',\n",
       " 'First non-congress PM with two consecutive tenures',\n",
       " 'List of all Presidents of India',\n",
       " 'List of Nicknames of Indian Prime Ministers']"
      ]
     },
     "execution_count": 118,
     "metadata": {},
     "output_type": "execute_result"
    }
   ],
   "source": [
    "former_prime_ministers"
   ]
  },
  {
   "cell_type": "code",
   "execution_count": 125,
   "id": "153ab2a2",
   "metadata": {},
   "outputs": [],
   "source": [
    "#making multiple lists in a list to make dataframe\n",
    "\n",
    "former_prime_ministers=[['1.',\n",
    " 'Jawahar Lal Nehru',\n",
    " '(1889–1964)',\n",
    " '15 August 1947 to 27 May 1964 16 years, 286 days',\n",
    " 'The first prime minister of India and the longest-serving PM of India, the first to die in office.'],\n",
    " ['2.',\n",
    " 'Gulzarilal Nanda (Acting)',\n",
    " '(1898-1998)',\n",
    " '27 May 1964 to 9 June 1964,13 days',\n",
    " 'First acting PM of India'],\n",
    " ['3.',\n",
    " 'Lal Bahadur Shastri',\n",
    " '(1904–1966)',\n",
    " '9 June 1964 to 11 January 1966 1 year, 216 days',\n",
    " \"He has given the slogan of 'Jai Jawan Jai Kisan' during the Indo-Pak war of 1965\"],\n",
    " ['4. ',\n",
    " 'Gulzari Lal Nanda  (Acting)',\n",
    " '(1898-1998)',\n",
    " '11 January 1966 to 24 January 1966 13 days',\n",
    " '-'],\n",
    " ['5.',\n",
    " 'Indira Gandhi',\n",
    " '(1917–1984)',\n",
    " '24 January 1966 to 24 March 1977 11 years, 59 days',\n",
    " 'First female Prime Minister of India'],\n",
    " ['6.',\n",
    " 'Morarji Desai',\n",
    " '(1896–1995)',\n",
    " '24 March 1977 to  28 July 1979 2 year, 126 days',\n",
    " 'Oldest to become PM (81 years old) and first to resign from office'],\n",
    " ['7.',\n",
    " 'Charan Singh',\n",
    " '(1902–1987)',\n",
    " '28 July 1979 to 14 January 1980 170 days',\n",
    " 'Only PM who did not face the Parliament'],\n",
    " ['8.',\n",
    " 'Indira Gandhi',\n",
    " '(1917–1984)',\n",
    " '14 January 1980 to 31 October 1984 4 years, 291 days',\n",
    " 'The first lady who served as PM for the second term'],\n",
    " ['9.',\n",
    " 'Rajiv Gandhi',\n",
    " '(1944–1991)',\n",
    " '31 October 1984 to 2 December 1989 5 years, 32 days',\n",
    " 'Youngest to become PM (40 years old)'],\n",
    " ['10.',\n",
    " 'V. P. Singh',\n",
    " '(1931–2008)',\n",
    " '2 December 1989 to 10 November 1990 343 days',\n",
    " 'First PM to step down after a vote of no confidence'],\n",
    " ['11.',\n",
    " 'Chandra Shekhar',\n",
    " '(1927–2007)',\n",
    " '10 November 1990 to 21 June 1991 223 days',\n",
    " 'He belongs to  Samajwadi Janata Party'],\n",
    " ['12.',\n",
    " 'P. V. Narasimha Rao',\n",
    " '(1921–2004)',\n",
    " '21 June 1991 to 16 May 1996 4 years, 330 days',\n",
    " 'First PM from South India'],\n",
    " ['13.',\n",
    " 'Atal Bihari Vajpayee',\n",
    " '(1924- 2018)',\n",
    " '16 May 1996 to 1 June 1996 16 days',\n",
    " 'PM for shortest tenure'],\n",
    " ['14.',\n",
    " 'H. D. Deve Gowda',\n",
    " '(born 1933)',\n",
    " '1 June 1996 to 21 April 1997 324 days',\n",
    " 'He belongs to  Janata Dal'],\n",
    " ['15.',\n",
    " 'Inder Kumar Gujral',\n",
    " '(1919–2012)',\n",
    " '21 April 1997 to 19 March 1998 332 days',\n",
    " '------'],\n",
    " ['16.',\n",
    " 'Atal Bihari Vajpayee',\n",
    " '(1924-2018)',\n",
    " '19 March 1998 to 22 May 2004 6 years, 64 days',\n",
    " ' The first non-congress PM who completed a full term as PM'],\n",
    " ['17.',\n",
    " 'Manmohan Singh',\n",
    " '(born 1932)',\n",
    " '22 May 2004 to 26 May 2014  10 years, 4 days',\n",
    " ' First Sikh PM'],\n",
    " ['18.',\n",
    " 'Narendra Modi',\n",
    " '(born 1950)',\n",
    " '26 May 2014 - 2019',\n",
    " '4th Prime Minister of India who served two consecutive tenures'],\n",
    " ['19.',\n",
    " 'Narendra Modi',\n",
    " '(born 1950)',\n",
    " '30 May 2019- Incumbent',\n",
    " 'First non-congress PM with two consecutive tenures']]"
   ]
  },
  {
   "cell_type": "code",
   "execution_count": 126,
   "id": "d931d20d",
   "metadata": {},
   "outputs": [],
   "source": [
    "df_former_prime_ministers=pd.DataFrame(former_prime_ministers,columns=['S.N','PM Name','Born-Dead','Terms of office','Remark'])"
   ]
  },
  {
   "cell_type": "code",
   "execution_count": 128,
   "id": "e706d49c",
   "metadata": {},
   "outputs": [],
   "source": [
    "#Unwanted s.no. , so dropped it\n",
    "\n",
    "df_former_prime_ministers.drop(columns=['S.N'],inplace=True)\n",
    "\n"
   ]
  },
  {
   "cell_type": "code",
   "execution_count": 130,
   "id": "93f925d1",
   "metadata": {},
   "outputs": [
    {
     "data": {
      "text/html": [
       "<div>\n",
       "<style scoped>\n",
       "    .dataframe tbody tr th:only-of-type {\n",
       "        vertical-align: middle;\n",
       "    }\n",
       "\n",
       "    .dataframe tbody tr th {\n",
       "        vertical-align: top;\n",
       "    }\n",
       "\n",
       "    .dataframe thead th {\n",
       "        text-align: right;\n",
       "    }\n",
       "</style>\n",
       "<table border=\"1\" class=\"dataframe\">\n",
       "  <thead>\n",
       "    <tr style=\"text-align: right;\">\n",
       "      <th></th>\n",
       "      <th>PM Name</th>\n",
       "      <th>Born-Dead</th>\n",
       "      <th>Terms of office</th>\n",
       "      <th>Remark</th>\n",
       "    </tr>\n",
       "  </thead>\n",
       "  <tbody>\n",
       "    <tr>\n",
       "      <th>0</th>\n",
       "      <td>Jawahar Lal Nehru</td>\n",
       "      <td>(1889–1964)</td>\n",
       "      <td>15 August 1947 to 27 May 1964 16 years, 286 days</td>\n",
       "      <td>The first prime minister of India and the long...</td>\n",
       "    </tr>\n",
       "    <tr>\n",
       "      <th>1</th>\n",
       "      <td>Gulzarilal Nanda (Acting)</td>\n",
       "      <td>(1898-1998)</td>\n",
       "      <td>27 May 1964 to 9 June 1964,13 days</td>\n",
       "      <td>First acting PM of India</td>\n",
       "    </tr>\n",
       "    <tr>\n",
       "      <th>2</th>\n",
       "      <td>Lal Bahadur Shastri</td>\n",
       "      <td>(1904–1966)</td>\n",
       "      <td>9 June 1964 to 11 January 1966 1 year, 216 days</td>\n",
       "      <td>He has given the slogan of 'Jai Jawan Jai Kisa...</td>\n",
       "    </tr>\n",
       "    <tr>\n",
       "      <th>3</th>\n",
       "      <td>Gulzari Lal Nanda  (Acting)</td>\n",
       "      <td>(1898-1998)</td>\n",
       "      <td>11 January 1966 to 24 January 1966 13 days</td>\n",
       "      <td>-</td>\n",
       "    </tr>\n",
       "    <tr>\n",
       "      <th>4</th>\n",
       "      <td>Indira Gandhi</td>\n",
       "      <td>(1917–1984)</td>\n",
       "      <td>24 January 1966 to 24 March 1977 11 years, 59 ...</td>\n",
       "      <td>First female Prime Minister of India</td>\n",
       "    </tr>\n",
       "    <tr>\n",
       "      <th>5</th>\n",
       "      <td>Morarji Desai</td>\n",
       "      <td>(1896–1995)</td>\n",
       "      <td>24 March 1977 to  28 July 1979 2 year, 126 days</td>\n",
       "      <td>Oldest to become PM (81 years old) and first t...</td>\n",
       "    </tr>\n",
       "    <tr>\n",
       "      <th>6</th>\n",
       "      <td>Charan Singh</td>\n",
       "      <td>(1902–1987)</td>\n",
       "      <td>28 July 1979 to 14 January 1980 170 days</td>\n",
       "      <td>Only PM who did not face the Parliament</td>\n",
       "    </tr>\n",
       "    <tr>\n",
       "      <th>7</th>\n",
       "      <td>Indira Gandhi</td>\n",
       "      <td>(1917–1984)</td>\n",
       "      <td>14 January 1980 to 31 October 1984 4 years, 29...</td>\n",
       "      <td>The first lady who served as PM for the second...</td>\n",
       "    </tr>\n",
       "    <tr>\n",
       "      <th>8</th>\n",
       "      <td>Rajiv Gandhi</td>\n",
       "      <td>(1944–1991)</td>\n",
       "      <td>31 October 1984 to 2 December 1989 5 years, 32...</td>\n",
       "      <td>Youngest to become PM (40 years old)</td>\n",
       "    </tr>\n",
       "    <tr>\n",
       "      <th>9</th>\n",
       "      <td>V. P. Singh</td>\n",
       "      <td>(1931–2008)</td>\n",
       "      <td>2 December 1989 to 10 November 1990 343 days</td>\n",
       "      <td>First PM to step down after a vote of no confi...</td>\n",
       "    </tr>\n",
       "    <tr>\n",
       "      <th>10</th>\n",
       "      <td>Chandra Shekhar</td>\n",
       "      <td>(1927–2007)</td>\n",
       "      <td>10 November 1990 to 21 June 1991 223 days</td>\n",
       "      <td>He belongs to  Samajwadi Janata Party</td>\n",
       "    </tr>\n",
       "    <tr>\n",
       "      <th>11</th>\n",
       "      <td>P. V. Narasimha Rao</td>\n",
       "      <td>(1921–2004)</td>\n",
       "      <td>21 June 1991 to 16 May 1996 4 years, 330 days</td>\n",
       "      <td>First PM from South India</td>\n",
       "    </tr>\n",
       "    <tr>\n",
       "      <th>12</th>\n",
       "      <td>Atal Bihari Vajpayee</td>\n",
       "      <td>(1924- 2018)</td>\n",
       "      <td>16 May 1996 to 1 June 1996 16 days</td>\n",
       "      <td>PM for shortest tenure</td>\n",
       "    </tr>\n",
       "    <tr>\n",
       "      <th>13</th>\n",
       "      <td>H. D. Deve Gowda</td>\n",
       "      <td>(born 1933)</td>\n",
       "      <td>1 June 1996 to 21 April 1997 324 days</td>\n",
       "      <td>He belongs to  Janata Dal</td>\n",
       "    </tr>\n",
       "    <tr>\n",
       "      <th>14</th>\n",
       "      <td>Inder Kumar Gujral</td>\n",
       "      <td>(1919–2012)</td>\n",
       "      <td>21 April 1997 to 19 March 1998 332 days</td>\n",
       "      <td>------</td>\n",
       "    </tr>\n",
       "    <tr>\n",
       "      <th>15</th>\n",
       "      <td>Atal Bihari Vajpayee</td>\n",
       "      <td>(1924-2018)</td>\n",
       "      <td>19 March 1998 to 22 May 2004 6 years, 64 days</td>\n",
       "      <td>The first non-congress PM who completed a ful...</td>\n",
       "    </tr>\n",
       "    <tr>\n",
       "      <th>16</th>\n",
       "      <td>Manmohan Singh</td>\n",
       "      <td>(born 1932)</td>\n",
       "      <td>22 May 2004 to 26 May 2014  10 years, 4 days</td>\n",
       "      <td>First Sikh PM</td>\n",
       "    </tr>\n",
       "    <tr>\n",
       "      <th>17</th>\n",
       "      <td>Narendra Modi</td>\n",
       "      <td>(born 1950)</td>\n",
       "      <td>26 May 2014 - 2019</td>\n",
       "      <td>4th Prime Minister of India who served two con...</td>\n",
       "    </tr>\n",
       "    <tr>\n",
       "      <th>18</th>\n",
       "      <td>Narendra Modi</td>\n",
       "      <td>(born 1950)</td>\n",
       "      <td>30 May 2019- Incumbent</td>\n",
       "      <td>First non-congress PM with two consecutive ten...</td>\n",
       "    </tr>\n",
       "  </tbody>\n",
       "</table>\n",
       "</div>"
      ],
      "text/plain": [
       "                        PM Name     Born-Dead  \\\n",
       "0             Jawahar Lal Nehru   (1889–1964)   \n",
       "1     Gulzarilal Nanda (Acting)   (1898-1998)   \n",
       "2           Lal Bahadur Shastri   (1904–1966)   \n",
       "3   Gulzari Lal Nanda  (Acting)   (1898-1998)   \n",
       "4                 Indira Gandhi   (1917–1984)   \n",
       "5                 Morarji Desai   (1896–1995)   \n",
       "6                  Charan Singh   (1902–1987)   \n",
       "7                 Indira Gandhi   (1917–1984)   \n",
       "8                  Rajiv Gandhi   (1944–1991)   \n",
       "9                   V. P. Singh   (1931–2008)   \n",
       "10              Chandra Shekhar   (1927–2007)   \n",
       "11          P. V. Narasimha Rao   (1921–2004)   \n",
       "12         Atal Bihari Vajpayee  (1924- 2018)   \n",
       "13             H. D. Deve Gowda   (born 1933)   \n",
       "14           Inder Kumar Gujral   (1919–2012)   \n",
       "15         Atal Bihari Vajpayee   (1924-2018)   \n",
       "16               Manmohan Singh   (born 1932)   \n",
       "17                Narendra Modi   (born 1950)   \n",
       "18                Narendra Modi   (born 1950)   \n",
       "\n",
       "                                      Terms of office  \\\n",
       "0    15 August 1947 to 27 May 1964 16 years, 286 days   \n",
       "1                  27 May 1964 to 9 June 1964,13 days   \n",
       "2     9 June 1964 to 11 January 1966 1 year, 216 days   \n",
       "3          11 January 1966 to 24 January 1966 13 days   \n",
       "4   24 January 1966 to 24 March 1977 11 years, 59 ...   \n",
       "5     24 March 1977 to  28 July 1979 2 year, 126 days   \n",
       "6            28 July 1979 to 14 January 1980 170 days   \n",
       "7   14 January 1980 to 31 October 1984 4 years, 29...   \n",
       "8   31 October 1984 to 2 December 1989 5 years, 32...   \n",
       "9        2 December 1989 to 10 November 1990 343 days   \n",
       "10          10 November 1990 to 21 June 1991 223 days   \n",
       "11      21 June 1991 to 16 May 1996 4 years, 330 days   \n",
       "12                 16 May 1996 to 1 June 1996 16 days   \n",
       "13              1 June 1996 to 21 April 1997 324 days   \n",
       "14            21 April 1997 to 19 March 1998 332 days   \n",
       "15      19 March 1998 to 22 May 2004 6 years, 64 days   \n",
       "16       22 May 2004 to 26 May 2014  10 years, 4 days   \n",
       "17                                 26 May 2014 - 2019   \n",
       "18                             30 May 2019- Incumbent   \n",
       "\n",
       "                                               Remark  \n",
       "0   The first prime minister of India and the long...  \n",
       "1                            First acting PM of India  \n",
       "2   He has given the slogan of 'Jai Jawan Jai Kisa...  \n",
       "3                                                   -  \n",
       "4                First female Prime Minister of India  \n",
       "5   Oldest to become PM (81 years old) and first t...  \n",
       "6             Only PM who did not face the Parliament  \n",
       "7   The first lady who served as PM for the second...  \n",
       "8                Youngest to become PM (40 years old)  \n",
       "9   First PM to step down after a vote of no confi...  \n",
       "10              He belongs to  Samajwadi Janata Party  \n",
       "11                          First PM from South India  \n",
       "12                             PM for shortest tenure  \n",
       "13                          He belongs to  Janata Dal  \n",
       "14                                             ------  \n",
       "15   The first non-congress PM who completed a ful...  \n",
       "16                                      First Sikh PM  \n",
       "17  4th Prime Minister of India who served two con...  \n",
       "18  First non-congress PM with two consecutive ten...  "
      ]
     },
     "execution_count": 130,
     "metadata": {},
     "output_type": "execute_result"
    }
   ],
   "source": [
    "#DataFrame for former prime ministers\n",
    "\n",
    "df_former_prime_ministers"
   ]
  },
  {
   "cell_type": "markdown",
   "id": "641a7ce2",
   "metadata": {},
   "source": [
    "### Q8: Write a python program to display list of 50 Most expensive cars in the world\n",
    "\n",
    "(i.e. Car name and Price) from https://www.motor1.com/\n",
    "\n",
    "This task will be done in following steps:\n",
    "\n",
    "**1. First get the webpage https://www.motor1.com/**\n",
    "\n",
    "**2. Then You have to type in the search bar ’50 most expensive cars’**\n",
    "\n",
    "**3. Then click on 50 most expensive carsin the world..**\n",
    "\n",
    "**4. Then scrap thementioned data and make the dataframe**"
   ]
  },
  {
   "cell_type": "code",
   "execution_count": 46,
   "id": "b1ea8d9d",
   "metadata": {},
   "outputs": [],
   "source": [
    "#Initializing a chromebrowser using webdriver\n",
    "\n",
    "driver=webdriver.Chrome()"
   ]
  },
  {
   "cell_type": "code",
   "execution_count": 47,
   "id": "14ffec74",
   "metadata": {},
   "outputs": [],
   "source": [
    "#getting the webpage\n",
    "\n",
    "driver.get(\"https://www.motor1.com/\")"
   ]
  },
  {
   "cell_type": "code",
   "execution_count": 49,
   "id": "aeb13c23",
   "metadata": {},
   "outputs": [],
   "source": [
    "#Entering 50 most expensive cars using XPATH  \n",
    "\n",
    "expensive_car=driver.find_element(By.XPATH,'/html/body/div[9]/div[2]/div/div/div[3]/div/div/div/form/input')\n",
    "expensive_car.send_keys(\"50 most expensive cars\")"
   ]
  },
  {
   "cell_type": "code",
   "execution_count": 50,
   "id": "7d579b30",
   "metadata": {},
   "outputs": [],
   "source": [
    "#Clicking search button using XPATH \n",
    "\n",
    "search_button = driver.find_element(By.XPATH ,'/html/body/div[9]/div[2]/div/div/div[3]/div/div/div/form/button[1]')\n",
    "search_button.click()"
   ]
  },
  {
   "cell_type": "code",
   "execution_count": 51,
   "id": "4290b652",
   "metadata": {},
   "outputs": [],
   "source": [
    "#Clicking 50 most expensive cars in the world using XPATH \n",
    "\n",
    "most_expensive = driver.find_element(By.XPATH ,'/html/body/div[9]/div[9]/div/div[1]/div/div/div[1]/div/div[1]')\n",
    "most_expensive.click()"
   ]
  },
  {
   "cell_type": "code",
   "execution_count": 60,
   "id": "ccbfac05",
   "metadata": {},
   "outputs": [],
   "source": [
    "#Assigning empty lists to store car name and price\n",
    "\n",
    "car_name=[]\n",
    "car_price=[]\n"
   ]
  },
  {
   "cell_type": "code",
   "execution_count": 61,
   "id": "41873306",
   "metadata": {},
   "outputs": [],
   "source": [
    "#For car_name(using XPATH)\n",
    "\n",
    "car_name_tags=driver.find_elements(By.XPATH,'//h3[@class=\"subheader\"]')\n",
    "for i in car_name_tags:\n",
    "    name=i.text\n",
    "    car_name.append(name)"
   ]
  },
  {
   "cell_type": "code",
   "execution_count": 62,
   "id": "2ed3c7a8",
   "metadata": {},
   "outputs": [
    {
     "data": {
      "text/plain": [
       "51"
      ]
     },
     "execution_count": 62,
     "metadata": {},
     "output_type": "execute_result"
    }
   ],
   "source": [
    "len(car_name)"
   ]
  },
  {
   "cell_type": "code",
   "execution_count": 63,
   "id": "f0ac0453",
   "metadata": {},
   "outputs": [
    {
     "data": {
      "text/plain": [
       "50"
      ]
     },
     "execution_count": 63,
     "metadata": {},
     "output_type": "execute_result"
    }
   ],
   "source": [
    "# there is one scrap data from this car_name so limiting the list,\n",
    "\n",
    "car_name=car_name[:50]\n",
    "\n",
    "len(car_name)"
   ]
  },
  {
   "cell_type": "code",
   "execution_count": 64,
   "id": "b3ed6e96",
   "metadata": {},
   "outputs": [],
   "source": [
    "#For car_name(using XPATH)\n",
    "\n",
    "car_price_tags=driver.find_elements(By.XPATH,'//strong')\n",
    "for i in car_price_tags:\n",
    "    price=i.text\n",
    "    car_price.append(price)"
   ]
  },
  {
   "cell_type": "code",
   "execution_count": 66,
   "id": "a7dee71b",
   "metadata": {},
   "outputs": [
    {
     "data": {
      "text/plain": [
       "50"
      ]
     },
     "execution_count": 66,
     "metadata": {},
     "output_type": "execute_result"
    }
   ],
   "source": [
    "len(car_price)"
   ]
  },
  {
   "cell_type": "code",
   "execution_count": 69,
   "id": "c4c3e783",
   "metadata": {},
   "outputs": [],
   "source": [
    "#Data Frame for 50 Most expensive cars in the world\n",
    "\n",
    "df_50_most_expensive_cars =pd.DataFrame({\"Car_name\":car_name,\"Car_price\":car_price})"
   ]
  },
  {
   "cell_type": "code",
   "execution_count": 70,
   "id": "600ba888",
   "metadata": {},
   "outputs": [
    {
     "data": {
      "text/html": [
       "<div>\n",
       "<style scoped>\n",
       "    .dataframe tbody tr th:only-of-type {\n",
       "        vertical-align: middle;\n",
       "    }\n",
       "\n",
       "    .dataframe tbody tr th {\n",
       "        vertical-align: top;\n",
       "    }\n",
       "\n",
       "    .dataframe thead th {\n",
       "        text-align: right;\n",
       "    }\n",
       "</style>\n",
       "<table border=\"1\" class=\"dataframe\">\n",
       "  <thead>\n",
       "    <tr style=\"text-align: right;\">\n",
       "      <th></th>\n",
       "      <th>Car_name</th>\n",
       "      <th>Car_price</th>\n",
       "    </tr>\n",
       "  </thead>\n",
       "  <tbody>\n",
       "    <tr>\n",
       "      <th>0</th>\n",
       "      <td>Aston Martin Valour</td>\n",
       "      <td>Price: $1.5 Million</td>\n",
       "    </tr>\n",
       "    <tr>\n",
       "      <th>1</th>\n",
       "      <td>McLaren Elva</td>\n",
       "      <td>Price: $1.7 Million</td>\n",
       "    </tr>\n",
       "    <tr>\n",
       "      <th>2</th>\n",
       "      <td>Czinger 21C</td>\n",
       "      <td>Price: $1.7 Million</td>\n",
       "    </tr>\n",
       "    <tr>\n",
       "      <th>3</th>\n",
       "      <td>Ferrari Monza</td>\n",
       "      <td>Price: $1.7 Million</td>\n",
       "    </tr>\n",
       "    <tr>\n",
       "      <th>4</th>\n",
       "      <td>Gordon Murray T.33</td>\n",
       "      <td>Price: $1.7 Million</td>\n",
       "    </tr>\n",
       "    <tr>\n",
       "      <th>5</th>\n",
       "      <td>Koenigsegg Gemera</td>\n",
       "      <td>Price: $1.7 Million</td>\n",
       "    </tr>\n",
       "    <tr>\n",
       "      <th>6</th>\n",
       "      <td>Zenvo TSR-S</td>\n",
       "      <td>Price: $1.7 Million</td>\n",
       "    </tr>\n",
       "    <tr>\n",
       "      <th>7</th>\n",
       "      <td>Hennessey Venom F5</td>\n",
       "      <td>Price: $1.8 Million</td>\n",
       "    </tr>\n",
       "    <tr>\n",
       "      <th>8</th>\n",
       "      <td>Bentley Bacalar</td>\n",
       "      <td>Price: $1.9 Million</td>\n",
       "    </tr>\n",
       "    <tr>\n",
       "      <th>9</th>\n",
       "      <td>Hispano Suiza Carmen Boulogne</td>\n",
       "      <td>Price: $1.9 Million</td>\n",
       "    </tr>\n",
       "    <tr>\n",
       "      <th>10</th>\n",
       "      <td>Bentley Mulliner Batur</td>\n",
       "      <td>Price: $2.0 Million</td>\n",
       "    </tr>\n",
       "    <tr>\n",
       "      <th>11</th>\n",
       "      <td>Deus Vayanne</td>\n",
       "      <td>Price: $2.0 Million</td>\n",
       "    </tr>\n",
       "    <tr>\n",
       "      <th>12</th>\n",
       "      <td>SSC Tuatara</td>\n",
       "      <td>Price: $2.0 Million</td>\n",
       "    </tr>\n",
       "    <tr>\n",
       "      <th>13</th>\n",
       "      <td>Lotus Evija</td>\n",
       "      <td>Price: $2.1 Million</td>\n",
       "    </tr>\n",
       "    <tr>\n",
       "      <th>14</th>\n",
       "      <td>Aston Martin Vulcan</td>\n",
       "      <td>Price: $2.3 Million</td>\n",
       "    </tr>\n",
       "    <tr>\n",
       "      <th>15</th>\n",
       "      <td>Delage D12</td>\n",
       "      <td>Price: $2.3 Million</td>\n",
       "    </tr>\n",
       "    <tr>\n",
       "      <th>16</th>\n",
       "      <td>Ferrari Daytona SP3</td>\n",
       "      <td>Price: $2.3 Million</td>\n",
       "    </tr>\n",
       "    <tr>\n",
       "      <th>17</th>\n",
       "      <td>McLaren Speedtail</td>\n",
       "      <td>Price: $2.3 Million</td>\n",
       "    </tr>\n",
       "    <tr>\n",
       "      <th>18</th>\n",
       "      <td>Rimac Nevera</td>\n",
       "      <td>Price: $2.4 Million</td>\n",
       "    </tr>\n",
       "    <tr>\n",
       "      <th>19</th>\n",
       "      <td>Pagani Utopia</td>\n",
       "      <td>Price: $2.5 Million</td>\n",
       "    </tr>\n",
       "    <tr>\n",
       "      <th>20</th>\n",
       "      <td>Pininfarina Battista</td>\n",
       "      <td>Price: $2.5 Million</td>\n",
       "    </tr>\n",
       "    <tr>\n",
       "      <th>21</th>\n",
       "      <td>Gordon Murray T.50</td>\n",
       "      <td>Price: $2.6 Million</td>\n",
       "    </tr>\n",
       "    <tr>\n",
       "      <th>22</th>\n",
       "      <td>Lamborghini Countach</td>\n",
       "      <td>Price: $2.6 Million</td>\n",
       "    </tr>\n",
       "    <tr>\n",
       "      <th>23</th>\n",
       "      <td>Mercedes-AMG Project One</td>\n",
       "      <td>Price: $2.7 Million</td>\n",
       "    </tr>\n",
       "    <tr>\n",
       "      <th>24</th>\n",
       "      <td>Zenvo Aurora</td>\n",
       "      <td>Price: $2.8 Million</td>\n",
       "    </tr>\n",
       "    <tr>\n",
       "      <th>25</th>\n",
       "      <td>Aston Martin Victor</td>\n",
       "      <td>Price: $3.0 Million</td>\n",
       "    </tr>\n",
       "    <tr>\n",
       "      <th>26</th>\n",
       "      <td>Hennessey Venom F5 Roadster</td>\n",
       "      <td>$3.0 Million</td>\n",
       "    </tr>\n",
       "    <tr>\n",
       "      <th>27</th>\n",
       "      <td>Koenigsegg Jesko</td>\n",
       "      <td>Price: $3.0 Million</td>\n",
       "    </tr>\n",
       "    <tr>\n",
       "      <th>28</th>\n",
       "      <td>Aston Martin Valkyrie</td>\n",
       "      <td>Price: $3.2 Million</td>\n",
       "    </tr>\n",
       "    <tr>\n",
       "      <th>29</th>\n",
       "      <td>W Motors Lykan Hypersport</td>\n",
       "      <td>Price: $3.4 Million</td>\n",
       "    </tr>\n",
       "    <tr>\n",
       "      <th>30</th>\n",
       "      <td>McLaren Solus</td>\n",
       "      <td>$3.5 Million</td>\n",
       "    </tr>\n",
       "    <tr>\n",
       "      <th>31</th>\n",
       "      <td>Lamborghini Sian</td>\n",
       "      <td>Price: $3.6 million</td>\n",
       "    </tr>\n",
       "    <tr>\n",
       "      <th>32</th>\n",
       "      <td>Koenigsegg CC850</td>\n",
       "      <td>Price: $3.7 Million</td>\n",
       "    </tr>\n",
       "    <tr>\n",
       "      <th>33</th>\n",
       "      <td>Bugatti Chiron Super Sport 300+</td>\n",
       "      <td>Price: $3.9 Million</td>\n",
       "    </tr>\n",
       "    <tr>\n",
       "      <th>34</th>\n",
       "      <td>Lamborghini Veneno</td>\n",
       "      <td>Price: $4.5 Million</td>\n",
       "    </tr>\n",
       "    <tr>\n",
       "      <th>35</th>\n",
       "      <td>Bugatti Bolide</td>\n",
       "      <td>Price: $4.7 Million</td>\n",
       "    </tr>\n",
       "    <tr>\n",
       "      <th>36</th>\n",
       "      <td>Pininfarina B95 Speedster</td>\n",
       "      <td>Price: $4.8 Million</td>\n",
       "    </tr>\n",
       "    <tr>\n",
       "      <th>37</th>\n",
       "      <td>Bugatti Mistral</td>\n",
       "      <td>Price: $5.0 Million</td>\n",
       "    </tr>\n",
       "    <tr>\n",
       "      <th>38</th>\n",
       "      <td>Pagani Huayra Imola</td>\n",
       "      <td>Price: $5.4 Million</td>\n",
       "    </tr>\n",
       "    <tr>\n",
       "      <th>39</th>\n",
       "      <td>Bugatti Divo</td>\n",
       "      <td>Price: $5.8 Million</td>\n",
       "    </tr>\n",
       "    <tr>\n",
       "      <th>40</th>\n",
       "      <td>SP Automotive Chaos</td>\n",
       "      <td>Price: $6.4 Million</td>\n",
       "    </tr>\n",
       "    <tr>\n",
       "      <th>41</th>\n",
       "      <td>Pagani Codalunga</td>\n",
       "      <td>Price: $7.4 Million</td>\n",
       "    </tr>\n",
       "    <tr>\n",
       "      <th>42</th>\n",
       "      <td>777 Hypercar</td>\n",
       "      <td>Price: $7.5 Million</td>\n",
       "    </tr>\n",
       "    <tr>\n",
       "      <th>43</th>\n",
       "      <td>Mercedes-Maybach Exelero</td>\n",
       "      <td>Price: $8.0 Million</td>\n",
       "    </tr>\n",
       "    <tr>\n",
       "      <th>44</th>\n",
       "      <td>Bugatti Centodieci</td>\n",
       "      <td>Price: $9.0 Million</td>\n",
       "    </tr>\n",
       "    <tr>\n",
       "      <th>45</th>\n",
       "      <td>Bugatti Chiron Profilée</td>\n",
       "      <td>Price: $10.8 Million</td>\n",
       "    </tr>\n",
       "    <tr>\n",
       "      <th>46</th>\n",
       "      <td>Rolls-Royce Sweptail</td>\n",
       "      <td>Price: $12.8 Million</td>\n",
       "    </tr>\n",
       "    <tr>\n",
       "      <th>47</th>\n",
       "      <td>Bugatti La Voiture Noire</td>\n",
       "      <td>Price: $13.4 Million</td>\n",
       "    </tr>\n",
       "    <tr>\n",
       "      <th>48</th>\n",
       "      <td>Rolls-Royce Boat Tail*</td>\n",
       "      <td>Price: $28.0 Million (est.)</td>\n",
       "    </tr>\n",
       "    <tr>\n",
       "      <th>49</th>\n",
       "      <td>Rolls-Royce La Rose Noire Droptail</td>\n",
       "      <td>Price: $30 Million (est.)</td>\n",
       "    </tr>\n",
       "  </tbody>\n",
       "</table>\n",
       "</div>"
      ],
      "text/plain": [
       "                              Car_name                    Car_price\n",
       "0                  Aston Martin Valour          Price: $1.5 Million\n",
       "1                         McLaren Elva          Price: $1.7 Million\n",
       "2                          Czinger 21C          Price: $1.7 Million\n",
       "3                        Ferrari Monza          Price: $1.7 Million\n",
       "4                   Gordon Murray T.33          Price: $1.7 Million\n",
       "5                    Koenigsegg Gemera          Price: $1.7 Million\n",
       "6                          Zenvo TSR-S          Price: $1.7 Million\n",
       "7                   Hennessey Venom F5          Price: $1.8 Million\n",
       "8                      Bentley Bacalar          Price: $1.9 Million\n",
       "9        Hispano Suiza Carmen Boulogne          Price: $1.9 Million\n",
       "10              Bentley Mulliner Batur          Price: $2.0 Million\n",
       "11                        Deus Vayanne          Price: $2.0 Million\n",
       "12                         SSC Tuatara          Price: $2.0 Million\n",
       "13                         Lotus Evija          Price: $2.1 Million\n",
       "14                 Aston Martin Vulcan          Price: $2.3 Million\n",
       "15                          Delage D12          Price: $2.3 Million\n",
       "16                 Ferrari Daytona SP3          Price: $2.3 Million\n",
       "17                   McLaren Speedtail          Price: $2.3 Million\n",
       "18                        Rimac Nevera          Price: $2.4 Million\n",
       "19                       Pagani Utopia          Price: $2.5 Million\n",
       "20                Pininfarina Battista          Price: $2.5 Million\n",
       "21                  Gordon Murray T.50          Price: $2.6 Million\n",
       "22                Lamborghini Countach          Price: $2.6 Million\n",
       "23            Mercedes-AMG Project One          Price: $2.7 Million\n",
       "24                        Zenvo Aurora          Price: $2.8 Million\n",
       "25                 Aston Martin Victor          Price: $3.0 Million\n",
       "26         Hennessey Venom F5 Roadster                 $3.0 Million\n",
       "27                    Koenigsegg Jesko          Price: $3.0 Million\n",
       "28               Aston Martin Valkyrie          Price: $3.2 Million\n",
       "29           W Motors Lykan Hypersport          Price: $3.4 Million\n",
       "30                       McLaren Solus                 $3.5 Million\n",
       "31                    Lamborghini Sian          Price: $3.6 million\n",
       "32                    Koenigsegg CC850          Price: $3.7 Million\n",
       "33     Bugatti Chiron Super Sport 300+          Price: $3.9 Million\n",
       "34                  Lamborghini Veneno          Price: $4.5 Million\n",
       "35                      Bugatti Bolide          Price: $4.7 Million\n",
       "36           Pininfarina B95 Speedster          Price: $4.8 Million\n",
       "37                     Bugatti Mistral          Price: $5.0 Million\n",
       "38                 Pagani Huayra Imola          Price: $5.4 Million\n",
       "39                        Bugatti Divo          Price: $5.8 Million\n",
       "40                 SP Automotive Chaos          Price: $6.4 Million\n",
       "41                    Pagani Codalunga          Price: $7.4 Million\n",
       "42                        777 Hypercar          Price: $7.5 Million\n",
       "43            Mercedes-Maybach Exelero          Price: $8.0 Million\n",
       "44                  Bugatti Centodieci          Price: $9.0 Million\n",
       "45             Bugatti Chiron Profilée         Price: $10.8 Million\n",
       "46                Rolls-Royce Sweptail         Price: $12.8 Million\n",
       "47            Bugatti La Voiture Noire         Price: $13.4 Million\n",
       "48              Rolls-Royce Boat Tail*  Price: $28.0 Million (est.)\n",
       "49  Rolls-Royce La Rose Noire Droptail    Price: $30 Million (est.)"
      ]
     },
     "execution_count": 70,
     "metadata": {},
     "output_type": "execute_result"
    }
   ],
   "source": [
    "df_50_most_expensive_cars"
   ]
  },
  {
   "cell_type": "code",
   "execution_count": null,
   "id": "d9633565",
   "metadata": {},
   "outputs": [],
   "source": []
  }
 ],
 "metadata": {
  "kernelspec": {
   "display_name": "Python 3 (ipykernel)",
   "language": "python",
   "name": "python3"
  },
  "language_info": {
   "codemirror_mode": {
    "name": "ipython",
    "version": 3
   },
   "file_extension": ".py",
   "mimetype": "text/x-python",
   "name": "python",
   "nbconvert_exporter": "python",
   "pygments_lexer": "ipython3",
   "version": "3.11.5"
  }
 },
 "nbformat": 4,
 "nbformat_minor": 5
}
