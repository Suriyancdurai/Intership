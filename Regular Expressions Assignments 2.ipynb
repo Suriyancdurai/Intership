{
 "cells": [
  {
   "cell_type": "code",
   "execution_count": 1,
   "id": "0e052509",
   "metadata": {},
   "outputs": [],
   "source": [
    "import re"
   ]
  },
  {
   "cell_type": "markdown",
   "id": "ac89060d",
   "metadata": {},
   "source": [
    "# Question 1\n",
    "Write a Python program to replace all occurrences of a space, comma, or dot with a colon.\n",
    "Sample Text- 'Python Exercises, PHP exercises.'\n",
    "Expected Output: Python:Exercises::PHP:exercises:\n"
   ]
  },
  {
   "cell_type": "code",
   "execution_count": 4,
   "id": "88edd8de",
   "metadata": {},
   "outputs": [
    {
     "name": "stdout",
     "output_type": "stream",
     "text": [
      "Python:Exercises:PHP:exercises:\n"
     ]
    }
   ],
   "source": [
    "sample_text = \"Python Exercises,PHP exercises.\"\n",
    "\n",
    "replace_space_comma_dot = re.sub(\"\\W+\",\":\",sample_text)\n",
    "                                 \n",
    "print(replace_space_comma_dot)                                 "
   ]
  },
  {
   "cell_type": "code",
   "execution_count": 54,
   "id": "525775f8",
   "metadata": {},
   "outputs": [],
   "source": [
    "import pandas as pd"
   ]
  },
  {
   "cell_type": "markdown",
   "id": "cc6c937c",
   "metadata": {},
   "source": [
    "# Question 2\n",
    "Create a dataframe using the dictionary below and remove everything (commas (,), !, XXXX, ;, etc.) from the columns except words.\n",
    "Dictionary- {'SUMMARY' : ['hello, world!', 'XXXXX test', '123four, five:; six...']}\n",
    "Expected output-\n",
    "\n",
    "0      hello world\n",
    "\n",
    "1             test\n",
    "\n",
    "2    four five six\n"
   ]
  },
  {
   "cell_type": "code",
   "execution_count": 55,
   "id": "8f40b80c",
   "metadata": {},
   "outputs": [
    {
     "data": {
      "text/html": [
       "<div>\n",
       "<style scoped>\n",
       "    .dataframe tbody tr th:only-of-type {\n",
       "        vertical-align: middle;\n",
       "    }\n",
       "\n",
       "    .dataframe tbody tr th {\n",
       "        vertical-align: top;\n",
       "    }\n",
       "\n",
       "    .dataframe thead th {\n",
       "        text-align: right;\n",
       "    }\n",
       "</style>\n",
       "<table border=\"1\" class=\"dataframe\">\n",
       "  <thead>\n",
       "    <tr style=\"text-align: right;\">\n",
       "      <th></th>\n",
       "      <th>SUMMARY</th>\n",
       "    </tr>\n",
       "  </thead>\n",
       "  <tbody>\n",
       "    <tr>\n",
       "      <th>0</th>\n",
       "      <td>hello, world!</td>\n",
       "    </tr>\n",
       "    <tr>\n",
       "      <th>1</th>\n",
       "      <td>XXXXX test</td>\n",
       "    </tr>\n",
       "    <tr>\n",
       "      <th>2</th>\n",
       "      <td>123four,five:;six...</td>\n",
       "    </tr>\n",
       "  </tbody>\n",
       "</table>\n",
       "</div>"
      ],
      "text/plain": [
       "                SUMMARY\n",
       "0         hello, world!\n",
       "1            XXXXX test\n",
       "2  123four,five:;six..."
      ]
     },
     "execution_count": 55,
     "metadata": {},
     "output_type": "execute_result"
    }
   ],
   "source": [
    "df = pd.DataFrame({'SUMMARY':['hello, world!','XXXXX test','123four,five:;six...']})\n",
    "\n",
    "df"
   ]
  },
  {
   "cell_type": "code",
   "execution_count": 73,
   "id": "2b17b3d7",
   "metadata": {},
   "outputs": [],
   "source": [
    "pattern ='[^a-z\\s]'"
   ]
  },
  {
   "cell_type": "code",
   "execution_count": 74,
   "id": "008b8f51",
   "metadata": {},
   "outputs": [],
   "source": [
    "df['SUMMARY'] = df['SUMMARY'].str.replace(pattern,'',regex=True)"
   ]
  },
  {
   "cell_type": "code",
   "execution_count": 75,
   "id": "d4315c3e",
   "metadata": {},
   "outputs": [
    {
     "name": "stdout",
     "output_type": "stream",
     "text": [
      "       SUMMARY\n",
      "0  hello world\n",
      "1         test\n",
      "2  fourfivesix\n"
     ]
    }
   ],
   "source": [
    "print(df)"
   ]
  },
  {
   "cell_type": "markdown",
   "id": "2f4f4840",
   "metadata": {},
   "source": [
    "# Question 3\n",
    "Create a function in python to find all words that are at least 4 characters long in a string. The use of the re.compile() method is mandatory"
   ]
  },
  {
   "cell_type": "code",
   "execution_count": 85,
   "id": "981cd402",
   "metadata": {},
   "outputs": [],
   "source": [
    "def find_four_characters(string):\n",
    "    pattern=re.compile(r'\\b\\w{4}\\b')\n",
    "    matches = pattern.findall(string)\n",
    "    return matches"
   ]
  },
  {
   "cell_type": "code",
   "execution_count": 86,
   "id": "beaa733a",
   "metadata": {},
   "outputs": [
    {
     "data": {
      "text/plain": [
       "['Data', 'used', 'data']"
      ]
     },
     "execution_count": 86,
     "metadata": {},
     "output_type": "execute_result"
    }
   ],
   "source": [
    "find_four_characters(\"Data Science is used to analyse the data\")"
   ]
  },
  {
   "cell_type": "markdown",
   "id": "40c82282",
   "metadata": {},
   "source": [
    "# Question 4 \n",
    "Create a function in python to find all three, four, and five character words in a string. The use of the re.compile() method is mandatory."
   ]
  },
  {
   "cell_type": "code",
   "execution_count": 90,
   "id": "cbdaeff5",
   "metadata": {},
   "outputs": [],
   "source": [
    "def find_three_four_five_characters(string):\n",
    "    pattern=re.compile(r'\\b\\w{3,5}\\b')\n",
    "    matches = pattern.findall(string)\n",
    "    return matches"
   ]
  },
  {
   "cell_type": "code",
   "execution_count": 91,
   "id": "792641e8",
   "metadata": {},
   "outputs": [
    {
     "data": {
      "text/plain": [
       "['Data', 'used', 'the', 'data']"
      ]
     },
     "execution_count": 91,
     "metadata": {},
     "output_type": "execute_result"
    }
   ],
   "source": [
    "find_three_four_five_characters(\"Data Science is used to analyse the data\")"
   ]
  },
  {
   "cell_type": "markdown",
   "id": "22a1ac91",
   "metadata": {},
   "source": [
    "# Question 5\n",
    "Create a function in Python to remove the parenthesis in a list of strings. The use of the re.compile() method is mandatory.\n",
    "Sample Text: [\"example (.com)\", \"hr@fliprobo (.com)\", \"github (.com)\", \"Hello (Data Science World)\", \"Data (Scientist)\"]\n",
    "Expected Output:\n",
    "\n",
    "example.com\n",
    "\n",
    "hr@fliprobo.com\n",
    "\n",
    "github.com\n",
    "\n",
    "Hello Data Science World\n",
    "\n",
    "Data Scientist"
   ]
  },
  {
   "cell_type": "code",
   "execution_count": 161,
   "id": "33354de7",
   "metadata": {},
   "outputs": [],
   "source": [
    "def to_remove_parenthesis (strings):\n",
    "    \n",
    "    pattern = re.compile(r'\\(|\\)')\n",
    "    modified_strings = [pattern.sub(\"\",s)for s in strings]\n",
    "    return modified_strings\n",
    "        "
   ]
  },
  {
   "cell_type": "code",
   "execution_count": 162,
   "id": "8b6eb535",
   "metadata": {},
   "outputs": [],
   "source": [
    "strings=[\"example (.com)\",\"hr@fliprobo (.com)\",\"github (.com)\",\"Hello (Data Science World)\",\"Data (Scientist)\"]"
   ]
  },
  {
   "cell_type": "code",
   "execution_count": 163,
   "id": "ba635657",
   "metadata": {},
   "outputs": [
    {
     "name": "stdout",
     "output_type": "stream",
     "text": [
      "example .com\n",
      "hr@fliprobo .com\n",
      "github .com\n",
      "Hello Data Science World\n",
      "Data Scientist\n"
     ]
    }
   ],
   "source": [
    "expected_output=to_remove_parenthesis(strings)\n",
    "\n",
    "for s in expected_output:\n",
    "    print(s)"
   ]
  },
  {
   "cell_type": "markdown",
   "id": "f465e9c5",
   "metadata": {},
   "source": [
    "# Question 6\n",
    "Write a python program to remove the parenthesis area from the text stored in the text file using Regular Expression.\n",
    "Sample Text: [\"example (.com)\", \"hr@fliprobo (.com)\", \"github (.com)\", \"Hello (Data Science World)\", \"Data (Scientist)\"]\n",
    "\n",
    "Expected Output: [\"example\", \"hr@fliprobo\", \"github\", \"Hello\", \"Data\"]\n",
    "\n",
    "Note- Store given sample text in the text file and then to remove the parenthesis area from the text.\n"
   ]
  },
  {
   "cell_type": "code",
   "execution_count": 169,
   "id": "f2cb5859",
   "metadata": {},
   "outputs": [
    {
     "name": "stdout",
     "output_type": "stream",
     "text": [
      "Sample Text: [\"example\", \"hr@fliprobo\", \"github\", \"Hello\", \"Data\"]\n",
      "\n",
      "\n",
      "\n"
     ]
    }
   ],
   "source": [
    "with open(r\"C:\\Users\\surie\\OneDrive\\Documents\\file text.txt\") as file:\n",
    "    for text in file:\n",
    "        new_text = re.sub(r\"\\s*\\([^)]*\\)\",\"\",text)\n",
    "        print(new_text)"
   ]
  },
  {
   "cell_type": "markdown",
   "id": "325a4556",
   "metadata": {},
   "source": [
    "# Question 7\n",
    "Write a regular expression in Python to split a string into uppercase letters.\n",
    "Sample text: “ImportanceOfRegularExpressionsInPython”\n",
    "Expected Output: [‘Importance’, ‘Of’, ‘Regular’, ‘Expression’, ‘In’, ‘Python’]\n"
   ]
  },
  {
   "cell_type": "code",
   "execution_count": 178,
   "id": "19cab3aa",
   "metadata": {},
   "outputs": [
    {
     "name": "stdout",
     "output_type": "stream",
     "text": [
      "['Importance', 'Of', 'Regular', 'Expressions', 'In', 'Python']\n"
     ]
    }
   ],
   "source": [
    "Sample_text = \"\"\"ImportanceOfRegularExpressionsInPython\"\"\"\n",
    "\n",
    "pattern = r\"[A-Z][^A-Z]*\"\n",
    "\n",
    "result=re.findall(pattern,Sample_text)\n",
    "\n",
    "print(result)"
   ]
  },
  {
   "cell_type": "markdown",
   "id": "ceae9ea1",
   "metadata": {},
   "source": [
    "# Question 8- \n",
    "Create a function in python to insert spaces between words starting with numbers.\n",
    "\n",
    "Sample Text: “RegularExpression1IsAn2ImportantTopic3InPython\"\n",
    "\n",
    "Expected Output: RegularExpression 1IsAn 2ImportantTopic 3InPython\n"
   ]
  },
  {
   "cell_type": "code",
   "execution_count": 212,
   "id": "49684f32",
   "metadata": {},
   "outputs": [],
   "source": [
    "Sample_Text=\"\"\"RegularExpression1IsAn2ImportantTopic3InPython\"\"\"\n",
    "    \n",
    "    \n",
    "def insert_spaces(string):\n",
    "    modified_text = re.sub(r'(\\d)([A-Za-z]+)',r' \\1\\2',string)\n",
    "    return modified_text"
   ]
  },
  {
   "cell_type": "code",
   "execution_count": 213,
   "id": "0aaf2adb",
   "metadata": {},
   "outputs": [],
   "source": [
    "expected_output =insert_spaces(Sample_Text)"
   ]
  },
  {
   "cell_type": "code",
   "execution_count": 214,
   "id": "d43ffe2b",
   "metadata": {},
   "outputs": [
    {
     "name": "stdout",
     "output_type": "stream",
     "text": [
      "RegularExpression 1IsAn 2ImportantTopic 3InPython\n"
     ]
    }
   ],
   "source": [
    "print(expected_output)"
   ]
  },
  {
   "cell_type": "markdown",
   "id": "81257a9a",
   "metadata": {},
   "source": [
    "# Question 9\n",
    "Create a function in python to insert spaces between words starting with capital letters or with numbers.\n",
    "\n",
    "Sample Text: “RegularExpression1IsAn2ImportantTopic3InPython\"\n",
    "\n",
    "Expected Output:  RegularExpression 1 IsAn 2 ImportantTopic 3 InPython\n"
   ]
  },
  {
   "cell_type": "code",
   "execution_count": 215,
   "id": "76ba51fb",
   "metadata": {},
   "outputs": [],
   "source": [
    "Sample_Text=\"\"\"RegularExpression1IsAn2ImportantTopic3InPython\"\"\"\n",
    "    \n",
    "    \n",
    "def insert_spaces(string):\n",
    "    modified_text = re.sub(r'(\\d)([A-Za-z]+)',r' \\1 \\2',string)\n",
    "    return modified_text"
   ]
  },
  {
   "cell_type": "code",
   "execution_count": 217,
   "id": "3249d40a",
   "metadata": {},
   "outputs": [],
   "source": [
    "expected_output = insert_spaces(Sample_Text)"
   ]
  },
  {
   "cell_type": "code",
   "execution_count": 218,
   "id": "e6ccd7bb",
   "metadata": {},
   "outputs": [
    {
     "name": "stdout",
     "output_type": "stream",
     "text": [
      "RegularExpression 1 IsAn 2 ImportantTopic 3 InPython\n"
     ]
    }
   ],
   "source": [
    "print(expected_output)"
   ]
  },
  {
   "cell_type": "markdown",
   "id": "2beb1b22",
   "metadata": {},
   "source": [
    "# Question 10\n",
    "\n",
    "Use the github link below to read the data and create a dataframe. After creating the dataframe extract the first 6 letters of each country and store in the dataframe under a new column called first_five_letters.\n",
    "Github Link-  https://raw.githubusercontent.com/dsrscientist/DSData/master/happiness_score_dataset.csv\n"
   ]
  },
  {
   "cell_type": "code",
   "execution_count": 219,
   "id": "78bc361d",
   "metadata": {},
   "outputs": [],
   "source": [
    "data = pd.read_csv(\"https://raw.githubusercontent.com/dsrscientist/DSData/master/happiness_score_dataset.csv\")"
   ]
  },
  {
   "cell_type": "code",
   "execution_count": 220,
   "id": "a61a3b73",
   "metadata": {},
   "outputs": [
    {
     "data": {
      "text/html": [
       "<div>\n",
       "<style scoped>\n",
       "    .dataframe tbody tr th:only-of-type {\n",
       "        vertical-align: middle;\n",
       "    }\n",
       "\n",
       "    .dataframe tbody tr th {\n",
       "        vertical-align: top;\n",
       "    }\n",
       "\n",
       "    .dataframe thead th {\n",
       "        text-align: right;\n",
       "    }\n",
       "</style>\n",
       "<table border=\"1\" class=\"dataframe\">\n",
       "  <thead>\n",
       "    <tr style=\"text-align: right;\">\n",
       "      <th></th>\n",
       "      <th>Country</th>\n",
       "      <th>Region</th>\n",
       "      <th>Happiness Rank</th>\n",
       "      <th>Happiness Score</th>\n",
       "      <th>Standard Error</th>\n",
       "      <th>Economy (GDP per Capita)</th>\n",
       "      <th>Family</th>\n",
       "      <th>Health (Life Expectancy)</th>\n",
       "      <th>Freedom</th>\n",
       "      <th>Trust (Government Corruption)</th>\n",
       "      <th>Generosity</th>\n",
       "      <th>Dystopia Residual</th>\n",
       "    </tr>\n",
       "  </thead>\n",
       "  <tbody>\n",
       "    <tr>\n",
       "      <th>0</th>\n",
       "      <td>Switzerland</td>\n",
       "      <td>Western Europe</td>\n",
       "      <td>1</td>\n",
       "      <td>7.587</td>\n",
       "      <td>0.03411</td>\n",
       "      <td>1.39651</td>\n",
       "      <td>1.34951</td>\n",
       "      <td>0.94143</td>\n",
       "      <td>0.66557</td>\n",
       "      <td>0.41978</td>\n",
       "      <td>0.29678</td>\n",
       "      <td>2.51738</td>\n",
       "    </tr>\n",
       "    <tr>\n",
       "      <th>1</th>\n",
       "      <td>Iceland</td>\n",
       "      <td>Western Europe</td>\n",
       "      <td>2</td>\n",
       "      <td>7.561</td>\n",
       "      <td>0.04884</td>\n",
       "      <td>1.30232</td>\n",
       "      <td>1.40223</td>\n",
       "      <td>0.94784</td>\n",
       "      <td>0.62877</td>\n",
       "      <td>0.14145</td>\n",
       "      <td>0.43630</td>\n",
       "      <td>2.70201</td>\n",
       "    </tr>\n",
       "    <tr>\n",
       "      <th>2</th>\n",
       "      <td>Denmark</td>\n",
       "      <td>Western Europe</td>\n",
       "      <td>3</td>\n",
       "      <td>7.527</td>\n",
       "      <td>0.03328</td>\n",
       "      <td>1.32548</td>\n",
       "      <td>1.36058</td>\n",
       "      <td>0.87464</td>\n",
       "      <td>0.64938</td>\n",
       "      <td>0.48357</td>\n",
       "      <td>0.34139</td>\n",
       "      <td>2.49204</td>\n",
       "    </tr>\n",
       "    <tr>\n",
       "      <th>3</th>\n",
       "      <td>Norway</td>\n",
       "      <td>Western Europe</td>\n",
       "      <td>4</td>\n",
       "      <td>7.522</td>\n",
       "      <td>0.03880</td>\n",
       "      <td>1.45900</td>\n",
       "      <td>1.33095</td>\n",
       "      <td>0.88521</td>\n",
       "      <td>0.66973</td>\n",
       "      <td>0.36503</td>\n",
       "      <td>0.34699</td>\n",
       "      <td>2.46531</td>\n",
       "    </tr>\n",
       "    <tr>\n",
       "      <th>4</th>\n",
       "      <td>Canada</td>\n",
       "      <td>North America</td>\n",
       "      <td>5</td>\n",
       "      <td>7.427</td>\n",
       "      <td>0.03553</td>\n",
       "      <td>1.32629</td>\n",
       "      <td>1.32261</td>\n",
       "      <td>0.90563</td>\n",
       "      <td>0.63297</td>\n",
       "      <td>0.32957</td>\n",
       "      <td>0.45811</td>\n",
       "      <td>2.45176</td>\n",
       "    </tr>\n",
       "    <tr>\n",
       "      <th>...</th>\n",
       "      <td>...</td>\n",
       "      <td>...</td>\n",
       "      <td>...</td>\n",
       "      <td>...</td>\n",
       "      <td>...</td>\n",
       "      <td>...</td>\n",
       "      <td>...</td>\n",
       "      <td>...</td>\n",
       "      <td>...</td>\n",
       "      <td>...</td>\n",
       "      <td>...</td>\n",
       "      <td>...</td>\n",
       "    </tr>\n",
       "    <tr>\n",
       "      <th>153</th>\n",
       "      <td>Rwanda</td>\n",
       "      <td>Sub-Saharan Africa</td>\n",
       "      <td>154</td>\n",
       "      <td>3.465</td>\n",
       "      <td>0.03464</td>\n",
       "      <td>0.22208</td>\n",
       "      <td>0.77370</td>\n",
       "      <td>0.42864</td>\n",
       "      <td>0.59201</td>\n",
       "      <td>0.55191</td>\n",
       "      <td>0.22628</td>\n",
       "      <td>0.67042</td>\n",
       "    </tr>\n",
       "    <tr>\n",
       "      <th>154</th>\n",
       "      <td>Benin</td>\n",
       "      <td>Sub-Saharan Africa</td>\n",
       "      <td>155</td>\n",
       "      <td>3.340</td>\n",
       "      <td>0.03656</td>\n",
       "      <td>0.28665</td>\n",
       "      <td>0.35386</td>\n",
       "      <td>0.31910</td>\n",
       "      <td>0.48450</td>\n",
       "      <td>0.08010</td>\n",
       "      <td>0.18260</td>\n",
       "      <td>1.63328</td>\n",
       "    </tr>\n",
       "    <tr>\n",
       "      <th>155</th>\n",
       "      <td>Syria</td>\n",
       "      <td>Middle East and Northern Africa</td>\n",
       "      <td>156</td>\n",
       "      <td>3.006</td>\n",
       "      <td>0.05015</td>\n",
       "      <td>0.66320</td>\n",
       "      <td>0.47489</td>\n",
       "      <td>0.72193</td>\n",
       "      <td>0.15684</td>\n",
       "      <td>0.18906</td>\n",
       "      <td>0.47179</td>\n",
       "      <td>0.32858</td>\n",
       "    </tr>\n",
       "    <tr>\n",
       "      <th>156</th>\n",
       "      <td>Burundi</td>\n",
       "      <td>Sub-Saharan Africa</td>\n",
       "      <td>157</td>\n",
       "      <td>2.905</td>\n",
       "      <td>0.08658</td>\n",
       "      <td>0.01530</td>\n",
       "      <td>0.41587</td>\n",
       "      <td>0.22396</td>\n",
       "      <td>0.11850</td>\n",
       "      <td>0.10062</td>\n",
       "      <td>0.19727</td>\n",
       "      <td>1.83302</td>\n",
       "    </tr>\n",
       "    <tr>\n",
       "      <th>157</th>\n",
       "      <td>Togo</td>\n",
       "      <td>Sub-Saharan Africa</td>\n",
       "      <td>158</td>\n",
       "      <td>2.839</td>\n",
       "      <td>0.06727</td>\n",
       "      <td>0.20868</td>\n",
       "      <td>0.13995</td>\n",
       "      <td>0.28443</td>\n",
       "      <td>0.36453</td>\n",
       "      <td>0.10731</td>\n",
       "      <td>0.16681</td>\n",
       "      <td>1.56726</td>\n",
       "    </tr>\n",
       "  </tbody>\n",
       "</table>\n",
       "<p>158 rows × 12 columns</p>\n",
       "</div>"
      ],
      "text/plain": [
       "         Country                           Region  Happiness Rank  \\\n",
       "0    Switzerland                   Western Europe               1   \n",
       "1        Iceland                   Western Europe               2   \n",
       "2        Denmark                   Western Europe               3   \n",
       "3         Norway                   Western Europe               4   \n",
       "4         Canada                    North America               5   \n",
       "..           ...                              ...             ...   \n",
       "153       Rwanda               Sub-Saharan Africa             154   \n",
       "154        Benin               Sub-Saharan Africa             155   \n",
       "155        Syria  Middle East and Northern Africa             156   \n",
       "156      Burundi               Sub-Saharan Africa             157   \n",
       "157         Togo               Sub-Saharan Africa             158   \n",
       "\n",
       "     Happiness Score  Standard Error  Economy (GDP per Capita)   Family  \\\n",
       "0              7.587         0.03411                   1.39651  1.34951   \n",
       "1              7.561         0.04884                   1.30232  1.40223   \n",
       "2              7.527         0.03328                   1.32548  1.36058   \n",
       "3              7.522         0.03880                   1.45900  1.33095   \n",
       "4              7.427         0.03553                   1.32629  1.32261   \n",
       "..               ...             ...                       ...      ...   \n",
       "153            3.465         0.03464                   0.22208  0.77370   \n",
       "154            3.340         0.03656                   0.28665  0.35386   \n",
       "155            3.006         0.05015                   0.66320  0.47489   \n",
       "156            2.905         0.08658                   0.01530  0.41587   \n",
       "157            2.839         0.06727                   0.20868  0.13995   \n",
       "\n",
       "     Health (Life Expectancy)  Freedom  Trust (Government Corruption)  \\\n",
       "0                     0.94143  0.66557                        0.41978   \n",
       "1                     0.94784  0.62877                        0.14145   \n",
       "2                     0.87464  0.64938                        0.48357   \n",
       "3                     0.88521  0.66973                        0.36503   \n",
       "4                     0.90563  0.63297                        0.32957   \n",
       "..                        ...      ...                            ...   \n",
       "153                   0.42864  0.59201                        0.55191   \n",
       "154                   0.31910  0.48450                        0.08010   \n",
       "155                   0.72193  0.15684                        0.18906   \n",
       "156                   0.22396  0.11850                        0.10062   \n",
       "157                   0.28443  0.36453                        0.10731   \n",
       "\n",
       "     Generosity  Dystopia Residual  \n",
       "0       0.29678            2.51738  \n",
       "1       0.43630            2.70201  \n",
       "2       0.34139            2.49204  \n",
       "3       0.34699            2.46531  \n",
       "4       0.45811            2.45176  \n",
       "..          ...                ...  \n",
       "153     0.22628            0.67042  \n",
       "154     0.18260            1.63328  \n",
       "155     0.47179            0.32858  \n",
       "156     0.19727            1.83302  \n",
       "157     0.16681            1.56726  \n",
       "\n",
       "[158 rows x 12 columns]"
      ]
     },
     "execution_count": 220,
     "metadata": {},
     "output_type": "execute_result"
    }
   ],
   "source": [
    "data"
   ]
  },
  {
   "cell_type": "code",
   "execution_count": 233,
   "id": "f485d759",
   "metadata": {},
   "outputs": [],
   "source": [
    "data[\"first_six_letters\"] =data[\"Country\"].apply(lambda x:x[0:6])"
   ]
  },
  {
   "cell_type": "code",
   "execution_count": 242,
   "id": "b5ceb5dc",
   "metadata": {},
   "outputs": [
    {
     "data": {
      "text/html": [
       "<div>\n",
       "<style scoped>\n",
       "    .dataframe tbody tr th:only-of-type {\n",
       "        vertical-align: middle;\n",
       "    }\n",
       "\n",
       "    .dataframe tbody tr th {\n",
       "        vertical-align: top;\n",
       "    }\n",
       "\n",
       "    .dataframe thead th {\n",
       "        text-align: right;\n",
       "    }\n",
       "</style>\n",
       "<table border=\"1\" class=\"dataframe\">\n",
       "  <thead>\n",
       "    <tr style=\"text-align: right;\">\n",
       "      <th></th>\n",
       "      <th>Country</th>\n",
       "      <th>Region</th>\n",
       "      <th>Happiness Rank</th>\n",
       "      <th>Happiness Score</th>\n",
       "      <th>Standard Error</th>\n",
       "      <th>Economy (GDP per Capita)</th>\n",
       "      <th>Family</th>\n",
       "      <th>Health (Life Expectancy)</th>\n",
       "      <th>Freedom</th>\n",
       "      <th>Trust (Government Corruption)</th>\n",
       "      <th>Generosity</th>\n",
       "      <th>Dystopia Residual</th>\n",
       "      <th>first_six_letters</th>\n",
       "    </tr>\n",
       "  </thead>\n",
       "  <tbody>\n",
       "    <tr>\n",
       "      <th>0</th>\n",
       "      <td>Switzerland</td>\n",
       "      <td>Western Europe</td>\n",
       "      <td>1</td>\n",
       "      <td>7.587</td>\n",
       "      <td>0.03411</td>\n",
       "      <td>1.39651</td>\n",
       "      <td>1.34951</td>\n",
       "      <td>0.94143</td>\n",
       "      <td>0.66557</td>\n",
       "      <td>0.41978</td>\n",
       "      <td>0.29678</td>\n",
       "      <td>2.51738</td>\n",
       "      <td>Switze</td>\n",
       "    </tr>\n",
       "    <tr>\n",
       "      <th>1</th>\n",
       "      <td>Iceland</td>\n",
       "      <td>Western Europe</td>\n",
       "      <td>2</td>\n",
       "      <td>7.561</td>\n",
       "      <td>0.04884</td>\n",
       "      <td>1.30232</td>\n",
       "      <td>1.40223</td>\n",
       "      <td>0.94784</td>\n",
       "      <td>0.62877</td>\n",
       "      <td>0.14145</td>\n",
       "      <td>0.43630</td>\n",
       "      <td>2.70201</td>\n",
       "      <td>Icelan</td>\n",
       "    </tr>\n",
       "    <tr>\n",
       "      <th>2</th>\n",
       "      <td>Denmark</td>\n",
       "      <td>Western Europe</td>\n",
       "      <td>3</td>\n",
       "      <td>7.527</td>\n",
       "      <td>0.03328</td>\n",
       "      <td>1.32548</td>\n",
       "      <td>1.36058</td>\n",
       "      <td>0.87464</td>\n",
       "      <td>0.64938</td>\n",
       "      <td>0.48357</td>\n",
       "      <td>0.34139</td>\n",
       "      <td>2.49204</td>\n",
       "      <td>Denmar</td>\n",
       "    </tr>\n",
       "    <tr>\n",
       "      <th>3</th>\n",
       "      <td>Norway</td>\n",
       "      <td>Western Europe</td>\n",
       "      <td>4</td>\n",
       "      <td>7.522</td>\n",
       "      <td>0.03880</td>\n",
       "      <td>1.45900</td>\n",
       "      <td>1.33095</td>\n",
       "      <td>0.88521</td>\n",
       "      <td>0.66973</td>\n",
       "      <td>0.36503</td>\n",
       "      <td>0.34699</td>\n",
       "      <td>2.46531</td>\n",
       "      <td>Norway</td>\n",
       "    </tr>\n",
       "    <tr>\n",
       "      <th>4</th>\n",
       "      <td>Canada</td>\n",
       "      <td>North America</td>\n",
       "      <td>5</td>\n",
       "      <td>7.427</td>\n",
       "      <td>0.03553</td>\n",
       "      <td>1.32629</td>\n",
       "      <td>1.32261</td>\n",
       "      <td>0.90563</td>\n",
       "      <td>0.63297</td>\n",
       "      <td>0.32957</td>\n",
       "      <td>0.45811</td>\n",
       "      <td>2.45176</td>\n",
       "      <td>Canada</td>\n",
       "    </tr>\n",
       "    <tr>\n",
       "      <th>...</th>\n",
       "      <td>...</td>\n",
       "      <td>...</td>\n",
       "      <td>...</td>\n",
       "      <td>...</td>\n",
       "      <td>...</td>\n",
       "      <td>...</td>\n",
       "      <td>...</td>\n",
       "      <td>...</td>\n",
       "      <td>...</td>\n",
       "      <td>...</td>\n",
       "      <td>...</td>\n",
       "      <td>...</td>\n",
       "      <td>...</td>\n",
       "    </tr>\n",
       "    <tr>\n",
       "      <th>153</th>\n",
       "      <td>Rwanda</td>\n",
       "      <td>Sub-Saharan Africa</td>\n",
       "      <td>154</td>\n",
       "      <td>3.465</td>\n",
       "      <td>0.03464</td>\n",
       "      <td>0.22208</td>\n",
       "      <td>0.77370</td>\n",
       "      <td>0.42864</td>\n",
       "      <td>0.59201</td>\n",
       "      <td>0.55191</td>\n",
       "      <td>0.22628</td>\n",
       "      <td>0.67042</td>\n",
       "      <td>Rwanda</td>\n",
       "    </tr>\n",
       "    <tr>\n",
       "      <th>154</th>\n",
       "      <td>Benin</td>\n",
       "      <td>Sub-Saharan Africa</td>\n",
       "      <td>155</td>\n",
       "      <td>3.340</td>\n",
       "      <td>0.03656</td>\n",
       "      <td>0.28665</td>\n",
       "      <td>0.35386</td>\n",
       "      <td>0.31910</td>\n",
       "      <td>0.48450</td>\n",
       "      <td>0.08010</td>\n",
       "      <td>0.18260</td>\n",
       "      <td>1.63328</td>\n",
       "      <td>Benin</td>\n",
       "    </tr>\n",
       "    <tr>\n",
       "      <th>155</th>\n",
       "      <td>Syria</td>\n",
       "      <td>Middle East and Northern Africa</td>\n",
       "      <td>156</td>\n",
       "      <td>3.006</td>\n",
       "      <td>0.05015</td>\n",
       "      <td>0.66320</td>\n",
       "      <td>0.47489</td>\n",
       "      <td>0.72193</td>\n",
       "      <td>0.15684</td>\n",
       "      <td>0.18906</td>\n",
       "      <td>0.47179</td>\n",
       "      <td>0.32858</td>\n",
       "      <td>Syria</td>\n",
       "    </tr>\n",
       "    <tr>\n",
       "      <th>156</th>\n",
       "      <td>Burundi</td>\n",
       "      <td>Sub-Saharan Africa</td>\n",
       "      <td>157</td>\n",
       "      <td>2.905</td>\n",
       "      <td>0.08658</td>\n",
       "      <td>0.01530</td>\n",
       "      <td>0.41587</td>\n",
       "      <td>0.22396</td>\n",
       "      <td>0.11850</td>\n",
       "      <td>0.10062</td>\n",
       "      <td>0.19727</td>\n",
       "      <td>1.83302</td>\n",
       "      <td>Burund</td>\n",
       "    </tr>\n",
       "    <tr>\n",
       "      <th>157</th>\n",
       "      <td>Togo</td>\n",
       "      <td>Sub-Saharan Africa</td>\n",
       "      <td>158</td>\n",
       "      <td>2.839</td>\n",
       "      <td>0.06727</td>\n",
       "      <td>0.20868</td>\n",
       "      <td>0.13995</td>\n",
       "      <td>0.28443</td>\n",
       "      <td>0.36453</td>\n",
       "      <td>0.10731</td>\n",
       "      <td>0.16681</td>\n",
       "      <td>1.56726</td>\n",
       "      <td>Togo</td>\n",
       "    </tr>\n",
       "  </tbody>\n",
       "</table>\n",
       "<p>158 rows × 13 columns</p>\n",
       "</div>"
      ],
      "text/plain": [
       "         Country                           Region  Happiness Rank  \\\n",
       "0    Switzerland                   Western Europe               1   \n",
       "1        Iceland                   Western Europe               2   \n",
       "2        Denmark                   Western Europe               3   \n",
       "3         Norway                   Western Europe               4   \n",
       "4         Canada                    North America               5   \n",
       "..           ...                              ...             ...   \n",
       "153       Rwanda               Sub-Saharan Africa             154   \n",
       "154        Benin               Sub-Saharan Africa             155   \n",
       "155        Syria  Middle East and Northern Africa             156   \n",
       "156      Burundi               Sub-Saharan Africa             157   \n",
       "157         Togo               Sub-Saharan Africa             158   \n",
       "\n",
       "     Happiness Score  Standard Error  Economy (GDP per Capita)   Family  \\\n",
       "0              7.587         0.03411                   1.39651  1.34951   \n",
       "1              7.561         0.04884                   1.30232  1.40223   \n",
       "2              7.527         0.03328                   1.32548  1.36058   \n",
       "3              7.522         0.03880                   1.45900  1.33095   \n",
       "4              7.427         0.03553                   1.32629  1.32261   \n",
       "..               ...             ...                       ...      ...   \n",
       "153            3.465         0.03464                   0.22208  0.77370   \n",
       "154            3.340         0.03656                   0.28665  0.35386   \n",
       "155            3.006         0.05015                   0.66320  0.47489   \n",
       "156            2.905         0.08658                   0.01530  0.41587   \n",
       "157            2.839         0.06727                   0.20868  0.13995   \n",
       "\n",
       "     Health (Life Expectancy)  Freedom  Trust (Government Corruption)  \\\n",
       "0                     0.94143  0.66557                        0.41978   \n",
       "1                     0.94784  0.62877                        0.14145   \n",
       "2                     0.87464  0.64938                        0.48357   \n",
       "3                     0.88521  0.66973                        0.36503   \n",
       "4                     0.90563  0.63297                        0.32957   \n",
       "..                        ...      ...                            ...   \n",
       "153                   0.42864  0.59201                        0.55191   \n",
       "154                   0.31910  0.48450                        0.08010   \n",
       "155                   0.72193  0.15684                        0.18906   \n",
       "156                   0.22396  0.11850                        0.10062   \n",
       "157                   0.28443  0.36453                        0.10731   \n",
       "\n",
       "     Generosity  Dystopia Residual first_six_letters  \n",
       "0       0.29678            2.51738            Switze  \n",
       "1       0.43630            2.70201            Icelan  \n",
       "2       0.34139            2.49204            Denmar  \n",
       "3       0.34699            2.46531            Norway  \n",
       "4       0.45811            2.45176            Canada  \n",
       "..          ...                ...               ...  \n",
       "153     0.22628            0.67042            Rwanda  \n",
       "154     0.18260            1.63328             Benin  \n",
       "155     0.47179            0.32858             Syria  \n",
       "156     0.19727            1.83302            Burund  \n",
       "157     0.16681            1.56726              Togo  \n",
       "\n",
       "[158 rows x 13 columns]"
      ]
     },
     "execution_count": 242,
     "metadata": {},
     "output_type": "execute_result"
    }
   ],
   "source": [
    "data"
   ]
  },
  {
   "cell_type": "markdown",
   "id": "a5f498a6",
   "metadata": {},
   "source": [
    "# Question 11\n",
    "\n",
    "Write a Python program to match a string that contains only upper and lowercase letters, numbers, and underscores"
   ]
  },
  {
   "cell_type": "code",
   "execution_count": 243,
   "id": "618b7a2d",
   "metadata": {},
   "outputs": [],
   "source": [
    "def upp_low_num_underscores(text):\n",
    "    patterns = '^[a-zA-Z0-9_]*$'\n",
    "    if re.search(patterns,text):\n",
    "        return \"Found a match\"\n",
    "    else:\n",
    "        return \"Not matched!\"\n",
    "    "
   ]
  },
  {
   "cell_type": "code",
   "execution_count": 244,
   "id": "a49a20c0",
   "metadata": {},
   "outputs": [
    {
     "data": {
      "text/plain": [
       "'Not matched!'"
      ]
     },
     "execution_count": 244,
     "metadata": {},
     "output_type": "execute_result"
    }
   ],
   "source": [
    "upp_low_num_underscores(\"Data Science is used to analyse the data\")"
   ]
  },
  {
   "cell_type": "code",
   "execution_count": 245,
   "id": "55c4d4a5",
   "metadata": {},
   "outputs": [
    {
     "data": {
      "text/plain": [
       "'Found a match'"
      ]
     },
     "execution_count": 245,
     "metadata": {},
     "output_type": "execute_result"
    }
   ],
   "source": [
    "upp_low_num_underscores(\"Data_Science_is_number1_to_analyse_data\")"
   ]
  },
  {
   "cell_type": "markdown",
   "id": "fb014bdd",
   "metadata": {},
   "source": [
    "# Question 12\n",
    "Write a Python program where a string will start with a specific number. "
   ]
  },
  {
   "cell_type": "code",
   "execution_count": 249,
   "id": "6e166cb1",
   "metadata": {},
   "outputs": [],
   "source": [
    "def specific_number(number):\n",
    "    patterns = r'^7'\n",
    "    if re.search(patterns,number):\n",
    "        return True\n",
    "    else:\n",
    "        return False\n",
    "    "
   ]
  },
  {
   "cell_type": "code",
   "execution_count": 250,
   "id": "d306722a",
   "metadata": {},
   "outputs": [
    {
     "data": {
      "text/plain": [
       "True"
      ]
     },
     "execution_count": 250,
     "metadata": {},
     "output_type": "execute_result"
    }
   ],
   "source": [
    "specific_number(\"7_67777\")"
   ]
  },
  {
   "cell_type": "code",
   "execution_count": 252,
   "id": "a6f4ece6",
   "metadata": {},
   "outputs": [
    {
     "data": {
      "text/plain": [
       "False"
      ]
     },
     "execution_count": 252,
     "metadata": {},
     "output_type": "execute_result"
    }
   ],
   "source": [
    "specific_number(\"6888888\")"
   ]
  },
  {
   "cell_type": "markdown",
   "id": "3fc114c5",
   "metadata": {},
   "source": [
    "# Question 13\n",
    "Write a Python program to remove leading zeros from an IP address"
   ]
  },
  {
   "cell_type": "code",
   "execution_count": 253,
   "id": "69289ff2",
   "metadata": {},
   "outputs": [
    {
     "name": "stdout",
     "output_type": "stream",
     "text": [
      "567.90.7.98\n"
     ]
    }
   ],
   "source": [
    "ip_address = \"567.90.007.098\"\n",
    "\n",
    "remove_leading_zeros = re.sub(r'\\.[0]*',\".\",ip_address)\n",
    "\n",
    "print(remove_leading_zeros)"
   ]
  },
  {
   "cell_type": "markdown",
   "id": "d2f29b2a",
   "metadata": {},
   "source": [
    "# Question 14\n",
    "Write a regular expression in python to match a date string in the form of Month name followed by day number and year stored in a text file.\n",
    "\n",
    "Sample text :  ' On August 15th 1947 that India was declared independent from British colonialism, and the reins of control were handed over to the leaders of the Country’.\n",
    "\n",
    "Expected Output- August 15th 1947\n",
    "Note- Store given sample text in the text file and then extract the date string asked format\n"
   ]
  },
  {
   "cell_type": "code",
   "execution_count": 270,
   "id": "6888358e",
   "metadata": {},
   "outputs": [
    {
     "name": "stdout",
     "output_type": "stream",
     "text": [
      "August 15th 1947\n"
     ]
    }
   ],
   "source": [
    "with open(r\"C:\\Users\\surie\\OneDrive\\Documents\\August 15.txt\",\"r\") as file:\n",
    "    for text in file:\n",
    "        pattern=r\"\\b([A-Z][a-z]+) \\d{1,2}(?:st|nd|rd|th)? \\d{4}\\b\"\n",
    "        matches = re.search(pattern,text)\n",
    "        print(matches.group())\n",
    "        \n",
    "        \n",
    "        "
   ]
  },
  {
   "cell_type": "markdown",
   "id": "7e9518d2",
   "metadata": {},
   "source": [
    "# Question 15\n",
    "\n",
    "Write a Python program to search some literals strings in a string. \n",
    "\n",
    "Sample text : 'The quick brown fox jumps over the lazy dog.'\n",
    "\n",
    "Searched words : 'fox', 'dog', 'horse'\n"
   ]
  },
  {
   "cell_type": "code",
   "execution_count": 273,
   "id": "d7917222",
   "metadata": {},
   "outputs": [
    {
     "name": "stdout",
     "output_type": "stream",
     "text": [
      "Matched\n",
      "Matched\n",
      "Not Matched\n"
     ]
    }
   ],
   "source": [
    "patterns = [\"fox\",\"dog\",\"horse\"]\n",
    "\n",
    "Sample_Text = 'The quick brown fox jumps over the lazy dog.'\n",
    "    \n",
    "for pattern in patterns:\n",
    "    if re.search(pattern,Sample_Text):\n",
    "        print(\"Matched\")\n",
    "    else:\n",
    "        print(\"Not Matched\")\n",
    "    "
   ]
  },
  {
   "cell_type": "markdown",
   "id": "883b279d",
   "metadata": {},
   "source": [
    "# Question 16\n",
    "Write a Python program to search a literals string in a string and also find the location within the original string where the pattern occurs\n",
    "Sample text : 'The quick brown fox jumps over the lazy dog.'\n",
    "\n",
    "Searched words : 'fox'\n"
   ]
  },
  {
   "cell_type": "code",
   "execution_count": 282,
   "id": "c866ddf3",
   "metadata": {},
   "outputs": [
    {
     "name": "stdout",
     "output_type": "stream",
     "text": [
      "<re.Match object; span=(16, 19), match='fox'>\n"
     ]
    }
   ],
   "source": [
    "pattern =\"fox\"\n",
    "Sample_text = 'The quick brown fox jumps over the lazy dog.'\n",
    "    \n",
    "match = re.search(pattern,Sample_text)\n",
    "\n",
    "print(match)\n",
    "    "
   ]
  },
  {
   "cell_type": "markdown",
   "id": "2ad0dee8",
   "metadata": {},
   "source": [
    "# Question 17-\n",
    "Write a Python program to find the substrings within a string.\n",
    "\n",
    "Sample text : 'Python exercises, PHP exercises, C# exercises'\n",
    "\n",
    "Pattern : 'exercises'.\n"
   ]
  },
  {
   "cell_type": "code",
   "execution_count": 289,
   "id": "f25730b1",
   "metadata": {},
   "outputs": [
    {
     "name": "stdout",
     "output_type": "stream",
     "text": [
      "Substring within a string : exercises\n",
      "Substring within a string : exercises\n",
      "Substring within a string : exercises\n"
     ]
    }
   ],
   "source": [
    "patterns = \"exercises\"\n",
    "\n",
    "Sample_text = \"Python exercises, PHP exercises, C# exercises\"\n",
    "\n",
    "for match in re.findall(patterns,Sample_text):\n",
    "    print(\"Substring within a string :\",match)\n",
    "\n"
   ]
  },
  {
   "cell_type": "markdown",
   "id": "966b43bd",
   "metadata": {},
   "source": [
    "# Question 18-\n",
    "Write a Python program to find the occurrence and position of the substrings within a string."
   ]
  },
  {
   "cell_type": "code",
   "execution_count": 293,
   "id": "b6d203d5",
   "metadata": {},
   "outputs": [
    {
     "name": "stdout",
     "output_type": "stream",
     "text": [
      "Substring within a string : <re.Match object; span=(7, 16), match='exercises'> at 7 : 16\n",
      "Substring within a string : <re.Match object; span=(22, 31), match='exercises'> at 22 : 31\n",
      "Substring within a string : <re.Match object; span=(36, 45), match='exercises'> at 36 : 45\n"
     ]
    }
   ],
   "source": [
    "patterns = \"exercises\"\n",
    "\n",
    "Sample_text = \"Python exercises, PHP exercises, C# exercises\"\n",
    "\n",
    "for match in re.finditer(patterns,Sample_text):\n",
    "    s = match.start()\n",
    "    e = match.end()\n",
    "    print(\"Substring within a string :\",match,\"at\",s,\":\",e)"
   ]
  },
  {
   "cell_type": "markdown",
   "id": "4c74c49d",
   "metadata": {},
   "source": [
    "# Question 19\n",
    "Write a Python program to convert a date of yyyy-mm-dd format to dd-mm-yyyy format."
   ]
  },
  {
   "cell_type": "code",
   "execution_count": 4,
   "id": "aeb57ea5",
   "metadata": {},
   "outputs": [
    {
     "name": "stdout",
     "output_type": "stream",
     "text": [
      "Date of yyyy-mm-dd  2001-1-21 \n",
      "\n",
      "Date of dd-mm-yyyy 21-1-2001\n"
     ]
    }
   ],
   "source": [
    "def date_of_dd_mm_yyyy(date):\n",
    "    return re.sub(r'(\\d{4})-(\\d{1,2})-(\\d{1,2})','\\\\3-\\\\2-\\\\1',date)\n",
    "\n",
    "date = \"2001-1-21\"\n",
    "\n",
    "print(\"Date of yyyy-mm-dd \",date,'\\n')\n",
    "\n",
    "print(\"Date of dd-mm-yyyy\",date_of_dd_mm_yyyy(date))"
   ]
  },
  {
   "cell_type": "markdown",
   "id": "290e4400",
   "metadata": {},
   "source": [
    "# Question 20\n",
    "Create a function in python to find all decimal numbers with a precision of 1 or 2 in a string. The use of the re.compile() method is mandatory.\n",
    "\n",
    "Sample Text: \"01.12 0132.123 2.31875 145.8 3.01 27.25 0.25\"\n",
    "\n",
    "Expected Output: ['01.12', '145.8', '3.01', '27.25', '0.25']\n"
   ]
  },
  {
   "cell_type": "code",
   "execution_count": 61,
   "id": "48b5cd20",
   "metadata": {},
   "outputs": [],
   "source": [
    "def find_decimal_numbers(string):\n",
    "        pattern = re.compile(r\"\\d+\\.\\d{1,2}\")\n",
    "        decimal_numbers= pattern.findall(string)\n",
    "        return decimal_numbers"
   ]
  },
  {
   "cell_type": "code",
   "execution_count": 60,
   "id": "484d11d0",
   "metadata": {},
   "outputs": [
    {
     "data": {
      "text/plain": [
       "['01.12', '132.12', '2.31', '145.8', '3.01', '27.25', '0.25']"
      ]
     },
     "execution_count": 60,
     "metadata": {},
     "output_type": "execute_result"
    }
   ],
   "source": [
    "Sample_Text = \"01.12 0132.123 2.31875 145.8 3.01 27.25 0.25\"\n",
    "\n",
    "find_decimal_numbers(Sample_Text)"
   ]
  },
  {
   "cell_type": "markdown",
   "id": "3b66465b",
   "metadata": {},
   "source": [
    "# Question 21\n",
    "Write a Python program to separate and print the numbers and their position of a given string."
   ]
  },
  {
   "cell_type": "code",
   "execution_count": 77,
   "id": "ff194b1e",
   "metadata": {},
   "outputs": [
    {
     "name": "stdout",
     "output_type": "stream",
     "text": [
      "1 \n",
      "\n",
      "position of a string  : 93\n"
     ]
    }
   ],
   "source": [
    "string = \"\"\"Python is the easy language compared to the others and  also easy to learn,so only it is no. 1 used widely Everywhere\"\"\"\n",
    "\n",
    "\n",
    "for match in re.finditer(r\"(\\d+).(\\b[a-z]+\\b)\",string):\n",
    "    print(match.group(1),\"\\n\")\n",
    "    print(\"position of a string  :\",match.start())"
   ]
  },
  {
   "cell_type": "markdown",
   "id": "b207792d",
   "metadata": {},
   "source": [
    "# Question 22\n",
    "Write a regular expression in python program to extract maximum/largest numeric value from a string.\n",
    "\n",
    "Sample Text:  'My marks in each semester are: 947, 896, 926, 524, 734, 950, 642'\n",
    "\n",
    "Expected Output: 950\n",
    "\n"
   ]
  },
  {
   "cell_type": "code",
   "execution_count": 78,
   "id": "5f443d24",
   "metadata": {},
   "outputs": [],
   "source": [
    "sample_text ='My marks in each semester are: 947, 896, 926, 524, 734, 950, 642'"
   ]
  },
  {
   "cell_type": "code",
   "execution_count": 79,
   "id": "f1f92f2f",
   "metadata": {},
   "outputs": [
    {
     "name": "stdout",
     "output_type": "stream",
     "text": [
      "['947', '896', '926', '524', '734', '950', '642']\n"
     ]
    }
   ],
   "source": [
    "numeric_values = re.findall(r'\\d+',sample_text)\n",
    "\n",
    "print(numeric_values)"
   ]
  },
  {
   "cell_type": "code",
   "execution_count": 81,
   "id": "c155a17c",
   "metadata": {},
   "outputs": [
    {
     "name": "stdout",
     "output_type": "stream",
     "text": [
      "950\n"
     ]
    }
   ],
   "source": [
    "max_value = max(numeric_values)\n",
    "\n",
    "print(max_value)"
   ]
  },
  {
   "cell_type": "markdown",
   "id": "490db948",
   "metadata": {},
   "source": [
    "# Question 23\n",
    "Create a function in python to insert spaces between words starting with capital letters.\n",
    "\n",
    "Sample Text: “RegularExpressionIsAnImportantTopicInPython\"\n",
    "\n",
    "Expected Output: Regular Expression Is An Important Topic In Python\n"
   ]
  },
  {
   "cell_type": "code",
   "execution_count": 107,
   "id": "73a72aff",
   "metadata": {},
   "outputs": [],
   "source": [
    "sample_text =\"RegularExpressionIsAnImportantTopicInPython\"\n",
    "\n",
    "def insert_spaces (string):\n",
    "    modified_text=re.sub(r'([A-Z][a-z]+)',r'\\1 ',string)\n",
    "    return modified_text"
   ]
  },
  {
   "cell_type": "code",
   "execution_count": 108,
   "id": "71e66581",
   "metadata": {},
   "outputs": [
    {
     "data": {
      "text/plain": [
       "'Regular Expression Is An Important Topic In Python '"
      ]
     },
     "execution_count": 108,
     "metadata": {},
     "output_type": "execute_result"
    }
   ],
   "source": [
    "insert_spaces(sample_text)"
   ]
  },
  {
   "cell_type": "markdown",
   "id": "f2fbc820",
   "metadata": {},
   "source": [
    "# Question 24\n",
    "Python regex to find sequences of one upper case letter followed by lower case letters"
   ]
  },
  {
   "cell_type": "code",
   "execution_count": 140,
   "id": "c52b11ef",
   "metadata": {},
   "outputs": [],
   "source": [
    "def upp_low_case(string):\n",
    "    pattern ='[A-Z][a-z]+$'\n",
    "    if re.match(pattern,string):\n",
    "        return \"Found a match\"\n",
    "    else:\n",
    "        return \"Not matched\"  "
   ]
  },
  {
   "cell_type": "code",
   "execution_count": 141,
   "id": "a6145051",
   "metadata": {},
   "outputs": [
    {
     "data": {
      "text/plain": [
       "'Found a match'"
      ]
     },
     "execution_count": 141,
     "metadata": {},
     "output_type": "execute_result"
    }
   ],
   "source": [
    "upp_low_case(\"Ajnbhjbkkk\")\n"
   ]
  },
  {
   "cell_type": "code",
   "execution_count": 142,
   "id": "7d9f56e3",
   "metadata": {},
   "outputs": [
    {
     "data": {
      "text/plain": [
       "'Not matched'"
      ]
     },
     "execution_count": 142,
     "metadata": {},
     "output_type": "execute_result"
    }
   ],
   "source": [
    "upp_low_case(\"ASDggghhhjj\")"
   ]
  },
  {
   "cell_type": "code",
   "execution_count": 143,
   "id": "2fe6e659",
   "metadata": {},
   "outputs": [
    {
     "data": {
      "text/plain": [
       "'Not matched'"
      ]
     },
     "execution_count": 143,
     "metadata": {},
     "output_type": "execute_result"
    }
   ],
   "source": [
    "upp_low_case(\"sdfgh\")"
   ]
  },
  {
   "cell_type": "markdown",
   "id": "51e98758",
   "metadata": {},
   "source": [
    "# Question 25\n",
    "Write a Python program to remove continuous duplicate words from Sentence using Regular Expression.\n",
    "\n",
    "Sample Text: \"Hello hello world world\"\n",
    "\n",
    "Expected Output: Hello hello world\n"
   ]
  },
  {
   "cell_type": "code",
   "execution_count": 151,
   "id": "ba41c07f",
   "metadata": {},
   "outputs": [
    {
     "name": "stdout",
     "output_type": "stream",
     "text": [
      "Hello hello world\n"
     ]
    }
   ],
   "source": [
    "sample_text =\"Hello hello world world\"\n",
    "\n",
    "regex= r\"\\b(\\w+)(?:\\W+\\1\\b)+\"\n",
    "\n",
    "x=re.sub(regex,r'\\1',sample_text)\n",
    "\n",
    "print(x)"
   ]
  },
  {
   "cell_type": "markdown",
   "id": "21912a57",
   "metadata": {},
   "source": [
    "# Question 26\n",
    "Write a python program using RegEx to accept string ending with alphanumeric character."
   ]
  },
  {
   "cell_type": "code",
   "execution_count": 155,
   "id": "3160fb25",
   "metadata": {},
   "outputs": [
    {
     "name": "stdout",
     "output_type": "stream",
     "text": [
      "Accept\n",
      "Discard\n",
      "Accept\n"
     ]
    }
   ],
   "source": [
    "def alphanumeric_ending(string):\n",
    "    pattern = re.compile(r'[a-zA-Z0-9]$')\n",
    "    if re.search(pattern,string):\n",
    "        print(\"Accept\")\n",
    "    else:\n",
    "        print(\"Discard\")\n",
    "        \n",
    "sample_text =[\"siva123\",\"anu@\",\"gunal90000\"]\n",
    "\n",
    "for string in sample_text:\n",
    "    alphanumeric_ending(string)"
   ]
  },
  {
   "cell_type": "markdown",
   "id": "5dc8ccf1",
   "metadata": {},
   "source": [
    "# Question 27\n",
    "Write a python program using RegEx to extract the hashtags.\n",
    "\n",
    "Sample Text:  \"\"\"RT @kapil_kausik: #Doltiwal I mean #xyzabc is \"hurt\" by #Demonetization as the same has rendered USELESS <ed><U+00A0><U+00BD><ed><U+00B1><U+0089> \"acquired funds\" No wo\"\"\"\n",
    "    \n",
    "Expected Output: ['#Doltiwal', '#xyzabc', '#Demonetization']\n"
   ]
  },
  {
   "cell_type": "code",
   "execution_count": 156,
   "id": "06985393",
   "metadata": {},
   "outputs": [],
   "source": [
    "sample_text = \"\"\"RT @kapil_kausik: #Doltiwal I mean #xyzabc is \"hurt\" by #Demonetization as the same has rendered USELESS <ed><U+00A0><U+00BD><ed><U+00B1><U+0089> \"acquired funds\" No wo\"\"\"\n",
    "    "
   ]
  },
  {
   "cell_type": "code",
   "execution_count": 158,
   "id": "285512ec",
   "metadata": {},
   "outputs": [
    {
     "name": "stdout",
     "output_type": "stream",
     "text": [
      "['#Doltiwal', '#xyzabc', '#Demonetization']\n"
     ]
    }
   ],
   "source": [
    "pattern=r'#\\w+'\n",
    "\n",
    "matches = re.findall(pattern,sample_text)\n",
    "\n",
    "print(matches)"
   ]
  },
  {
   "cell_type": "markdown",
   "id": "70b83467",
   "metadata": {},
   "source": [
    "# Question 28\n",
    "Write a python program using RegEx to remove <U+..> like symbols\n",
    "Check the below sample text, there are strange symbols something of the sort <U+..> all over the place. You need to come up with a general Regex expression that will cover all such symbols.\n",
    "\n",
    "Sample Text: \"@Jags123456 Bharat band on 28??<ed><U+00A0><U+00BD><ed><U+00B8><U+0082>Those who  are protesting #demonetization  are all different party leaders\"\n",
    "    \n",
    "Expected Output: @Jags123456 Bharat band on 28??<ed><ed>Those who  are protesting #demonetization  are all different party leaders\n"
   ]
  },
  {
   "cell_type": "code",
   "execution_count": 169,
   "id": "84d56585",
   "metadata": {},
   "outputs": [],
   "source": [
    "sample_text= \"\"\"@Jags123456 Bharat band on 28??<ed><U+00A0><U+00BD><ed><U+00B8><U+0082>Those who  are protesting #demonetization  are all different party leaders\"\"\""
   ]
  },
  {
   "cell_type": "code",
   "execution_count": 172,
   "id": "94c6d8f8",
   "metadata": {},
   "outputs": [
    {
     "name": "stdout",
     "output_type": "stream",
     "text": [
      "@Jags123456 Bharat band on 28??<ed><ed>Those who  are protesting #demonetization  are all different party leaders\n"
     ]
    }
   ],
   "source": [
    "pattern = r'<U\\+\\w{4}>'\n",
    "\n",
    "remove_symbols = re.sub(pattern,\"\",sample_text)\n",
    "\n",
    "print(remove_symbols)"
   ]
  },
  {
   "cell_type": "markdown",
   "id": "4ae8b85f",
   "metadata": {},
   "source": [
    "# Question 29\n",
    "Write a python program to extract dates from the text stored in the text file.\n",
    "\n",
    "Sample Text: Ron was born on 12-09-1992 and he was admitted to school 15-12-1999.\n",
    "\n",
    "Note- Store this sample text in the file and then extract dates.\n"
   ]
  },
  {
   "cell_type": "code",
   "execution_count": 178,
   "id": "95d533da",
   "metadata": {},
   "outputs": [
    {
     "name": "stdout",
     "output_type": "stream",
     "text": [
      "['12-09-1992', '15-12-1999']\n"
     ]
    }
   ],
   "source": [
    "with open(r\"C:\\Users\\surie\\OneDrive\\Documents\\extract date.txt\") as file:\n",
    "    for date in file:\n",
    "        date_matches = re.findall(r'\\d{2}-\\d{2}-\\d{4}',date)\n",
    "        print(date_matches)"
   ]
  },
  {
   "cell_type": "markdown",
   "id": "6d85e3b3",
   "metadata": {},
   "source": [
    "# Question 30\n",
    "Create a function in python to remove all words from a string of length between 2 and 4.\n",
    "The use of the re.compile() method is mandatory.\n",
    "\n",
    "Sample Text: \"The following example creates an ArrayList with a capacity of 50 elements. 4 elements are then added to the ArrayList and the ArrayList is trimmed accordingly.\"\n",
    "    \n",
    "Expected Output:  following example creates ArrayList a capacity elements. 4 elements added ArrayList ArrayList trimmed accordingly.\n",
    "\n"
   ]
  },
  {
   "cell_type": "code",
   "execution_count": 179,
   "id": "5f5098e3",
   "metadata": {},
   "outputs": [],
   "source": [
    "target_string = \"\"\"The following example creates an ArrayList with a capacity of 50 elements. 4 elements are then added to the ArrayListand the ArrayList is trimmed accordingly.\"\"\""
   ]
  },
  {
   "cell_type": "code",
   "execution_count": 183,
   "id": "d5d71048",
   "metadata": {},
   "outputs": [],
   "source": [
    "def remove_words(string):\n",
    "    pattern = re.compile(r'\\b\\w{2,4}\\b')\n",
    "    remove_strings = re.sub(pattern,\"\",target_string)\n",
    "    return remove_strings"
   ]
  },
  {
   "cell_type": "code",
   "execution_count": 184,
   "id": "2d06f075",
   "metadata": {},
   "outputs": [
    {
     "data": {
      "text/plain": [
       "' following example creates  ArrayList  a capacity   elements. 4 elements   added   ArrayListand  ArrayList  trimmed accordingly.'"
      ]
     },
     "execution_count": 184,
     "metadata": {},
     "output_type": "execute_result"
    }
   ],
   "source": [
    "remove_words(target_string)"
   ]
  }
 ],
 "metadata": {
  "kernelspec": {
   "display_name": "Python 3 (ipykernel)",
   "language": "python",
   "name": "python3"
  },
  "language_info": {
   "codemirror_mode": {
    "name": "ipython",
    "version": 3
   },
   "file_extension": ".py",
   "mimetype": "text/x-python",
   "name": "python",
   "nbconvert_exporter": "python",
   "pygments_lexer": "ipython3",
   "version": "3.11.5"
  }
 },
 "nbformat": 4,
 "nbformat_minor": 5
}
