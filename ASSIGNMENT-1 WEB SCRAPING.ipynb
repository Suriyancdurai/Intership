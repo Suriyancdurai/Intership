{
 "cells": [
  {
   "cell_type": "markdown",
   "id": "f94673a0",
   "metadata": {},
   "source": [
    "### 1) Write a python program to display IMDB’s Top rated 100 Indian movies’ data https://www.imdb.com/list/ls056092300/ (i.e. name, rating, year ofrelease) and make data frame."
   ]
  },
  {
   "cell_type": "code",
   "execution_count": 1,
   "id": "0155f9fc",
   "metadata": {},
   "outputs": [],
   "source": [
    "from bs4 import BeautifulSoup\n",
    "import requests\n",
    "import pandas as pd"
   ]
  },
  {
   "cell_type": "code",
   "execution_count": 117,
   "id": "dc773cf0",
   "metadata": {},
   "outputs": [
    {
     "data": {
      "text/plain": [
       "<Response [200]>"
      ]
     },
     "execution_count": 117,
     "metadata": {},
     "output_type": "execute_result"
    }
   ],
   "source": [
    "page=requests.get(\"https://www.imdb.com/list/ls056092300/\")\n",
    "\n",
    "page"
   ]
  },
  {
   "cell_type": "code",
   "execution_count": 118,
   "id": "1062745d",
   "metadata": {},
   "outputs": [],
   "source": [
    "soup=BeautifulSoup(page.content)\n",
    "\n"
   ]
  },
  {
   "cell_type": "code",
   "execution_count": 119,
   "id": "86b9abb2",
   "metadata": {},
   "outputs": [
    {
     "data": {
      "text/plain": [
       "['Ship of Theseus',\n",
       " 'Iruvar',\n",
       " 'Kaagaz Ke Phool',\n",
       " 'Lagaan: Once Upon a Time in India',\n",
       " 'Pather Panchali',\n",
       " 'Charulata',\n",
       " 'Rang De Basanti',\n",
       " 'Dev.D',\n",
       " '3 Idiots',\n",
       " 'Awaara',\n",
       " 'Nayakan',\n",
       " 'Aparajito',\n",
       " 'Pushpaka Vimana',\n",
       " 'Pyaasa',\n",
       " 'Ghatashraddha',\n",
       " 'Sholay',\n",
       " 'Aradhana',\n",
       " 'Do Ankhen Barah Haath',\n",
       " 'Bombay',\n",
       " 'Neecha Nagar',\n",
       " 'Do Bigha Zamin',\n",
       " 'Garm Hava',\n",
       " 'Piravi',\n",
       " 'Mughal-E-Azam',\n",
       " 'Amma Ariyan',\n",
       " 'Madhumati',\n",
       " 'Goopy Gyne Bagha Byne',\n",
       " 'Gangs of Wasseypur',\n",
       " 'Guide',\n",
       " 'Satya',\n",
       " 'Roja',\n",
       " 'Mr. India',\n",
       " 'The Cloud-Capped Star',\n",
       " 'Harishchandrachi Factory',\n",
       " 'Masoom',\n",
       " 'Agneepath',\n",
       " 'Tabarana Kathe',\n",
       " 'Zakhm',\n",
       " 'Dil Chahta Hai',\n",
       " 'Bhaag Milkha Bhaag',\n",
       " 'Chupke Chupke',\n",
       " 'Dilwale Dulhania Le Jayenge',\n",
       " 'Taare Zameen Par',\n",
       " 'Ardh Satya',\n",
       " 'Bhumika',\n",
       " 'Enthiran',\n",
       " 'Sadma',\n",
       " 'Shwaas',\n",
       " 'Lamhe',\n",
       " 'Haqeeqat',\n",
       " 'Shree 420',\n",
       " 'Kannathil Muthamittal',\n",
       " 'Hum Aapke Hain Koun..!',\n",
       " 'Ustad Hotel',\n",
       " 'Bandit Queen',\n",
       " 'Lakshya',\n",
       " 'Black Friday',\n",
       " 'Manthan',\n",
       " 'Apoorva Raagangal',\n",
       " 'English Vinglish',\n",
       " 'Jewel Thief',\n",
       " 'Pakeezah',\n",
       " 'Maqbool',\n",
       " 'Jis Desh Men Ganga Behti Hai',\n",
       " 'Sahib Bibi Aur Ghulam',\n",
       " 'Shatranj Ke Khilari',\n",
       " 'Narthanasala',\n",
       " 'Chandni Bar',\n",
       " 'Vaaranam Aayiram',\n",
       " 'Mr. and Mrs. Iyer',\n",
       " 'Chandni',\n",
       " 'English, August',\n",
       " 'Celluloid',\n",
       " 'Sagara Sangamam',\n",
       " 'Munna Bhai M.B.B.S.',\n",
       " 'Saaransh',\n",
       " 'Guddi',\n",
       " 'Vanaja',\n",
       " 'Vazhakku Enn 18/9',\n",
       " 'Gangaajal',\n",
       " 'Angoor',\n",
       " 'Guru',\n",
       " 'Andaz Apna Apna',\n",
       " 'Sangam',\n",
       " 'Oka Oori Katha',\n",
       " 'Bhuvan Shome',\n",
       " 'Border',\n",
       " 'Parineeta',\n",
       " 'Devdas',\n",
       " 'Abohomaan',\n",
       " 'Kuch Kuch Hota Hai',\n",
       " 'Pithamagan',\n",
       " 'Veyyil',\n",
       " 'Chemmeen',\n",
       " 'Jaane Bhi Do Yaaro',\n",
       " 'Apur Sansar',\n",
       " 'Kanchivaram',\n",
       " 'Monsoon Wedding',\n",
       " 'Black',\n",
       " 'Deewaar']"
      ]
     },
     "execution_count": 119,
     "metadata": {},
     "output_type": "execute_result"
    }
   ],
   "source": [
    "movie_name =[]\n",
    "\n",
    "for i in soup.find_all('h3',class_=\"lister-item-header\"):\n",
    "    movie_name.append(i.text.split('\\n')[2])\n",
    "    \n",
    "movie_name    "
   ]
  },
  {
   "cell_type": "code",
   "execution_count": 120,
   "id": "e5cac571",
   "metadata": {},
   "outputs": [
    {
     "data": {
      "text/plain": [
       "['8',\n",
       " '8.4',\n",
       " '7.8',\n",
       " '8.1',\n",
       " '8.2',\n",
       " '8.1',\n",
       " '8.1',\n",
       " '7.9',\n",
       " '8.4',\n",
       " '7.8',\n",
       " '8.6',\n",
       " '8.2',\n",
       " '8.6',\n",
       " '8.3',\n",
       " '7.6',\n",
       " '8.1',\n",
       " '7.6',\n",
       " '8.4',\n",
       " '8.1',\n",
       " '6.6',\n",
       " '8.3',\n",
       " '8',\n",
       " '7.8',\n",
       " '8.1',\n",
       " '7.4',\n",
       " '7.8',\n",
       " '8.7',\n",
       " '8.2',\n",
       " '8.3',\n",
       " '8.3',\n",
       " '8.1',\n",
       " '7.7',\n",
       " '7.8',\n",
       " '8.4',\n",
       " '8.4',\n",
       " '7.6',\n",
       " '8.1',\n",
       " '7.9',\n",
       " '8.1',\n",
       " '8.2',\n",
       " '8.3',\n",
       " '8',\n",
       " '8.3',\n",
       " '8.1',\n",
       " '7.4',\n",
       " '7.1',\n",
       " '8.3',\n",
       " '8.2',\n",
       " '7.2',\n",
       " '7.8',\n",
       " '7.9',\n",
       " '8.3',\n",
       " '7.5',\n",
       " '8.2',\n",
       " '7.5',\n",
       " '7.8',\n",
       " '8.4',\n",
       " '7.6',\n",
       " '7.6',\n",
       " '7.8',\n",
       " '7.9',\n",
       " '7.2',\n",
       " '8',\n",
       " '7.1',\n",
       " '8.1',\n",
       " '7.5',\n",
       " '8.1',\n",
       " '7.6',\n",
       " '8.2',\n",
       " '7.9',\n",
       " '6.7',\n",
       " '7.7',\n",
       " '7.7',\n",
       " '8.8',\n",
       " '8.1',\n",
       " '8.1',\n",
       " '7.2',\n",
       " '7.2',\n",
       " '8.3',\n",
       " '7.8',\n",
       " '8.3',\n",
       " '7.7',\n",
       " '8',\n",
       " '7.3',\n",
       " '7.8',\n",
       " '7.2',\n",
       " '7.9',\n",
       " '7.2',\n",
       " '7.7',\n",
       " '7.5',\n",
       " '7.5',\n",
       " '8.3',\n",
       " '7.9',\n",
       " '7.8',\n",
       " '8.3',\n",
       " '8.4',\n",
       " '8.2',\n",
       " '7.3',\n",
       " '8.1',\n",
       " '8']"
      ]
     },
     "execution_count": 120,
     "metadata": {},
     "output_type": "execute_result"
    }
   ],
   "source": [
    "rating =[]\n",
    "\n",
    "for i in soup.find_all('div',class_=\"ipl-rating-star small\"):\n",
    "    rating.append(i.text.split('\\n')[8])\n",
    "    \n",
    "rating    "
   ]
  },
  {
   "cell_type": "code",
   "execution_count": 121,
   "id": "23170a5b",
   "metadata": {},
   "outputs": [
    {
     "data": {
      "text/plain": [
       "['2012',\n",
       " '1997',\n",
       " '1959',\n",
       " '2001',\n",
       " '1955',\n",
       " '1964',\n",
       " '2006',\n",
       " '2009',\n",
       " '2009',\n",
       " '1951',\n",
       " '1987',\n",
       " '1956',\n",
       " '1987',\n",
       " '1957',\n",
       " '1977',\n",
       " '1975',\n",
       " '1969',\n",
       " '1957',\n",
       " '1995',\n",
       " '1946',\n",
       " '1953',\n",
       " '1974',\n",
       " '1989',\n",
       " '1960',\n",
       " '1986',\n",
       " '1958',\n",
       " '1969',\n",
       " '2012',\n",
       " '1965',\n",
       " '1998',\n",
       " '1992',\n",
       " '1987',\n",
       " '1960',\n",
       " '2009',\n",
       " '1983',\n",
       " '1990',\n",
       " '1986',\n",
       " '1998',\n",
       " '2001',\n",
       " '2013',\n",
       " '1975',\n",
       " '1995',\n",
       " '2007',\n",
       " '1983',\n",
       " '1977',\n",
       " '2010',\n",
       " '1983',\n",
       " '2004',\n",
       " '1991',\n",
       " '1964',\n",
       " '1955',\n",
       " '2002',\n",
       " '1994',\n",
       " '2012',\n",
       " '1994',\n",
       " '2004',\n",
       " '2004',\n",
       " '1976',\n",
       " '1975',\n",
       " '2012',\n",
       " '1967',\n",
       " '1972',\n",
       " '2003',\n",
       " '1960',\n",
       " '1962',\n",
       " '1977',\n",
       " '1963',\n",
       " '2001',\n",
       " '2008',\n",
       " '2002',\n",
       " '1989',\n",
       " '1994',\n",
       " '2013',\n",
       " '1983',\n",
       " '2003',\n",
       " '1984',\n",
       " '1971',\n",
       " '2006',\n",
       " '2012',\n",
       " '2003',\n",
       " '1982',\n",
       " '2007',\n",
       " '1994',\n",
       " 'I) (1964',\n",
       " '1978',\n",
       " '1969',\n",
       " 'I) (1997',\n",
       " '2005',\n",
       " '1955',\n",
       " '2009',\n",
       " '1998',\n",
       " '2003',\n",
       " '2006',\n",
       " '1965',\n",
       " '1983',\n",
       " '1959',\n",
       " '2008',\n",
       " '2001',\n",
       " '2005',\n",
       " '1975']"
      ]
     },
     "execution_count": 121,
     "metadata": {},
     "output_type": "execute_result"
    }
   ],
   "source": [
    "year_of_release =[]\n",
    "\n",
    "for i in soup.find_all('span',class_=\"lister-item-year text-muted unbold\"):\n",
    "    year_of_release.append(i.text.strip('()'))\n",
    "    \n",
    "year_of_release  "
   ]
  },
  {
   "cell_type": "code",
   "execution_count": 122,
   "id": "ae0c61b4",
   "metadata": {},
   "outputs": [
    {
     "data": {
      "text/html": [
       "<div>\n",
       "<style scoped>\n",
       "    .dataframe tbody tr th:only-of-type {\n",
       "        vertical-align: middle;\n",
       "    }\n",
       "\n",
       "    .dataframe tbody tr th {\n",
       "        vertical-align: top;\n",
       "    }\n",
       "\n",
       "    .dataframe thead th {\n",
       "        text-align: right;\n",
       "    }\n",
       "</style>\n",
       "<table border=\"1\" class=\"dataframe\">\n",
       "  <thead>\n",
       "    <tr style=\"text-align: right;\">\n",
       "      <th></th>\n",
       "      <th>Movie_Name</th>\n",
       "      <th>Rating</th>\n",
       "      <th>year_of_release</th>\n",
       "    </tr>\n",
       "  </thead>\n",
       "  <tbody>\n",
       "    <tr>\n",
       "      <th>0</th>\n",
       "      <td>Ship of Theseus</td>\n",
       "      <td>8</td>\n",
       "      <td>2012</td>\n",
       "    </tr>\n",
       "    <tr>\n",
       "      <th>1</th>\n",
       "      <td>Iruvar</td>\n",
       "      <td>8.4</td>\n",
       "      <td>1997</td>\n",
       "    </tr>\n",
       "    <tr>\n",
       "      <th>2</th>\n",
       "      <td>Kaagaz Ke Phool</td>\n",
       "      <td>7.8</td>\n",
       "      <td>1959</td>\n",
       "    </tr>\n",
       "    <tr>\n",
       "      <th>3</th>\n",
       "      <td>Lagaan: Once Upon a Time in India</td>\n",
       "      <td>8.1</td>\n",
       "      <td>2001</td>\n",
       "    </tr>\n",
       "    <tr>\n",
       "      <th>4</th>\n",
       "      <td>Pather Panchali</td>\n",
       "      <td>8.2</td>\n",
       "      <td>1955</td>\n",
       "    </tr>\n",
       "    <tr>\n",
       "      <th>5</th>\n",
       "      <td>Charulata</td>\n",
       "      <td>8.1</td>\n",
       "      <td>1964</td>\n",
       "    </tr>\n",
       "    <tr>\n",
       "      <th>6</th>\n",
       "      <td>Rang De Basanti</td>\n",
       "      <td>8.1</td>\n",
       "      <td>2006</td>\n",
       "    </tr>\n",
       "    <tr>\n",
       "      <th>7</th>\n",
       "      <td>Dev.D</td>\n",
       "      <td>7.9</td>\n",
       "      <td>2009</td>\n",
       "    </tr>\n",
       "    <tr>\n",
       "      <th>8</th>\n",
       "      <td>3 Idiots</td>\n",
       "      <td>8.4</td>\n",
       "      <td>2009</td>\n",
       "    </tr>\n",
       "    <tr>\n",
       "      <th>9</th>\n",
       "      <td>Awaara</td>\n",
       "      <td>7.8</td>\n",
       "      <td>1951</td>\n",
       "    </tr>\n",
       "    <tr>\n",
       "      <th>10</th>\n",
       "      <td>Nayakan</td>\n",
       "      <td>8.6</td>\n",
       "      <td>1987</td>\n",
       "    </tr>\n",
       "    <tr>\n",
       "      <th>11</th>\n",
       "      <td>Aparajito</td>\n",
       "      <td>8.2</td>\n",
       "      <td>1956</td>\n",
       "    </tr>\n",
       "    <tr>\n",
       "      <th>12</th>\n",
       "      <td>Pushpaka Vimana</td>\n",
       "      <td>8.6</td>\n",
       "      <td>1987</td>\n",
       "    </tr>\n",
       "    <tr>\n",
       "      <th>13</th>\n",
       "      <td>Pyaasa</td>\n",
       "      <td>8.3</td>\n",
       "      <td>1957</td>\n",
       "    </tr>\n",
       "    <tr>\n",
       "      <th>14</th>\n",
       "      <td>Ghatashraddha</td>\n",
       "      <td>7.6</td>\n",
       "      <td>1977</td>\n",
       "    </tr>\n",
       "    <tr>\n",
       "      <th>15</th>\n",
       "      <td>Sholay</td>\n",
       "      <td>8.1</td>\n",
       "      <td>1975</td>\n",
       "    </tr>\n",
       "    <tr>\n",
       "      <th>16</th>\n",
       "      <td>Aradhana</td>\n",
       "      <td>7.6</td>\n",
       "      <td>1969</td>\n",
       "    </tr>\n",
       "    <tr>\n",
       "      <th>17</th>\n",
       "      <td>Do Ankhen Barah Haath</td>\n",
       "      <td>8.4</td>\n",
       "      <td>1957</td>\n",
       "    </tr>\n",
       "    <tr>\n",
       "      <th>18</th>\n",
       "      <td>Bombay</td>\n",
       "      <td>8.1</td>\n",
       "      <td>1995</td>\n",
       "    </tr>\n",
       "    <tr>\n",
       "      <th>19</th>\n",
       "      <td>Neecha Nagar</td>\n",
       "      <td>6.6</td>\n",
       "      <td>1946</td>\n",
       "    </tr>\n",
       "  </tbody>\n",
       "</table>\n",
       "</div>"
      ],
      "text/plain": [
       "                           Movie_Name Rating year_of_release\n",
       "0                     Ship of Theseus      8            2012\n",
       "1                              Iruvar    8.4            1997\n",
       "2                     Kaagaz Ke Phool    7.8            1959\n",
       "3   Lagaan: Once Upon a Time in India    8.1            2001\n",
       "4                     Pather Panchali    8.2            1955\n",
       "5                           Charulata    8.1            1964\n",
       "6                     Rang De Basanti    8.1            2006\n",
       "7                               Dev.D    7.9            2009\n",
       "8                            3 Idiots    8.4            2009\n",
       "9                              Awaara    7.8            1951\n",
       "10                            Nayakan    8.6            1987\n",
       "11                          Aparajito    8.2            1956\n",
       "12                    Pushpaka Vimana    8.6            1987\n",
       "13                             Pyaasa    8.3            1957\n",
       "14                      Ghatashraddha    7.6            1977\n",
       "15                             Sholay    8.1            1975\n",
       "16                           Aradhana    7.6            1969\n",
       "17              Do Ankhen Barah Haath    8.4            1957\n",
       "18                             Bombay    8.1            1995\n",
       "19                       Neecha Nagar    6.6            1946"
      ]
     },
     "execution_count": 122,
     "metadata": {},
     "output_type": "execute_result"
    }
   ],
   "source": [
    "df = pd.DataFrame({\"Movie_Name\":movie_name,\"Rating\":rating,\"year_of_release\":year_of_release})\n",
    "\n",
    "df.head(20)"
   ]
  },
  {
   "cell_type": "markdown",
   "id": "6e0c4d77",
   "metadata": {},
   "source": [
    "**Sir, for this(2nd question) i mentioned correct class(and correct div,span also) but it didn't give me the correct solution. In website(\"https://peachmode.com/search?q=bags\") i copied and pasted the class in the filter option at the time it gave me the 20 product name,prices and discounts but when i mentioning the same class in jupitor notebook it never gave me the answer(output) ,I don't know  how to solve this and i raised a ticket also**"
   ]
  },
  {
   "cell_type": "markdown",
   "id": "1edf749b",
   "metadata": {},
   "source": [
    "### 2) Write a python program to scrape product name, price and discounts from https://peachmode.com/search?q=bags"
   ]
  },
  {
   "cell_type": "code",
   "execution_count": 20,
   "id": "6bbdda32",
   "metadata": {},
   "outputs": [
    {
     "data": {
      "text/plain": [
       "<Response [200]>"
      ]
     },
     "execution_count": 20,
     "metadata": {},
     "output_type": "execute_result"
    }
   ],
   "source": [
    "page=requests.get(\"https://peachmode.com/search?q=bags\")\n",
    "\n",
    "page"
   ]
  },
  {
   "cell_type": "code",
   "execution_count": 21,
   "id": "a6c82b56",
   "metadata": {},
   "outputs": [],
   "source": [
    "soup=BeautifulSoup(page.content)"
   ]
  },
  {
   "cell_type": "code",
   "execution_count": 22,
   "id": "16b796a6",
   "metadata": {},
   "outputs": [
    {
     "data": {
      "text/plain": [
       "['\\n\\n${ item.title }$\\n\\n']"
      ]
     },
     "execution_count": 22,
     "metadata": {},
     "output_type": "execute_result"
    }
   ],
   "source": [
    "product_name =[]\n",
    "\n",
    "for i in soup.find_all('div',class_=\"product-title\"):\n",
    "    product_name.append(i.text)\n",
    "    \n",
    "product_name"
   ]
  },
  {
   "cell_type": "code",
   "execution_count": 23,
   "id": "bac9696a",
   "metadata": {},
   "outputs": [
    {
     "data": {
      "text/plain": [
       "[]"
      ]
     },
     "execution_count": 23,
     "metadata": {},
     "output_type": "execute_result"
    }
   ],
   "source": [
    "price =[]\n",
    "\n",
    "for i in soup.find_all('span',class_=\"price st-money money done\"):\n",
    "    price.append(i.text)\n",
    "    \n",
    "price"
   ]
  },
  {
   "cell_type": "code",
   "execution_count": 24,
   "id": "4f04195d",
   "metadata": {},
   "outputs": [
    {
     "data": {
      "text/plain": [
       "[]"
      ]
     },
     "execution_count": 24,
     "metadata": {},
     "output_type": "execute_result"
    }
   ],
   "source": [
    "discounted_price =[]\n",
    "\n",
    "for i in soup.find_all('span',class_=\"discounted_price st-money money done\"):\n",
    "    discounted_price.append(i.text)\n",
    "    \n",
    "discounted_price"
   ]
  },
  {
   "cell_type": "markdown",
   "id": "f16fc7e5",
   "metadata": {},
   "source": [
    "**Sir, for this too(3rd question) i mentioned correct class(and correct h3,span also) but it didn't give me the correct solution. In website( icc-cricket.com) i copied and pasted the class in the filter option at the time it gave me the team name,matches,points and rating(same for option b,c question) but when i mentioning the same class in jupitor notebook it never gave me the answer(output) ,I don't know  how to solve this and i raised a ticket also**"
   ]
  },
  {
   "cell_type": "markdown",
   "id": "988e035e",
   "metadata": {},
   "source": [
    "### 3) Write a python program to scrape cricket rankings from icc-cricket.com. You have to scrape:a) Top 10 ODI teams in men’s cricket along with the records for matches, points and rating.b) Top 10 ODI Batsmen along with the records of their team and rating.c) Top 10 ODI bowlers along with the records of their team and rating."
   ]
  },
  {
   "cell_type": "markdown",
   "id": "da23ff74",
   "metadata": {},
   "source": [
    "## a) Top 10 ODI teams in men’s cricket along with the records for matches, points and rating."
   ]
  },
  {
   "cell_type": "code",
   "execution_count": 25,
   "id": "a3e18541",
   "metadata": {},
   "outputs": [
    {
     "data": {
      "text/plain": [
       "<Response [200]>"
      ]
     },
     "execution_count": 25,
     "metadata": {},
     "output_type": "execute_result"
    }
   ],
   "source": [
    "page=requests.get(\"https://www.icc-cricket.com/rankings/team-rankings/mens/odi\")\n",
    "\n",
    "page"
   ]
  },
  {
   "cell_type": "code",
   "execution_count": 28,
   "id": "8d30c0e3",
   "metadata": {},
   "outputs": [],
   "source": [
    "soup=BeautifulSoup(page.content)\n"
   ]
  },
  {
   "cell_type": "code",
   "execution_count": 30,
   "id": "2077ec96",
   "metadata": {},
   "outputs": [
    {
     "data": {
      "text/plain": [
       "[]"
      ]
     },
     "execution_count": 30,
     "metadata": {},
     "output_type": "execute_result"
    }
   ],
   "source": [
    "team_name =[]\n",
    "\n",
    "for i in soup.find_all('h3',class_=\"si-team-name\"):\n",
    "    team_name.append(i.text)\n",
    "    \n",
    "team_name"
   ]
  },
  {
   "cell_type": "code",
   "execution_count": 31,
   "id": "1cc96ea1",
   "metadata": {},
   "outputs": [
    {
     "data": {
      "text/plain": [
       "[]"
      ]
     },
     "execution_count": 31,
     "metadata": {},
     "output_type": "execute_result"
    }
   ],
   "source": [
    "matches =[]\n",
    "\n",
    "for i in soup.find_all('span',class_=\"si-text\"):\n",
    "    matches.append(i.text)\n",
    "    \n",
    "matches"
   ]
  },
  {
   "cell_type": "code",
   "execution_count": 32,
   "id": "2b686903",
   "metadata": {},
   "outputs": [
    {
     "data": {
      "text/plain": [
       "[]"
      ]
     },
     "execution_count": 32,
     "metadata": {},
     "output_type": "execute_result"
    }
   ],
   "source": [
    "points =[]\n",
    "\n",
    "for i in soup.find_all('span',class_=\"si-text\"):\n",
    "    points.append(i.text)\n",
    "    \n",
    "points"
   ]
  },
  {
   "cell_type": "code",
   "execution_count": 35,
   "id": "2770604d",
   "metadata": {},
   "outputs": [
    {
     "data": {
      "text/plain": [
       "[]"
      ]
     },
     "execution_count": 35,
     "metadata": {},
     "output_type": "execute_result"
    }
   ],
   "source": [
    "rating =[]\n",
    "\n",
    "for i in soup.find_all('span',class_=\"si-text\"):\n",
    "    rating.append(i.text)\n",
    "    \n",
    "rating"
   ]
  },
  {
   "cell_type": "markdown",
   "id": "3c224fd4",
   "metadata": {},
   "source": [
    "### b) Top 10 ODI Batsmen along with the records of their team and rating."
   ]
  },
  {
   "cell_type": "code",
   "execution_count": 36,
   "id": "4a91a1dd",
   "metadata": {},
   "outputs": [
    {
     "data": {
      "text/plain": [
       "<Response [200]>"
      ]
     },
     "execution_count": 36,
     "metadata": {},
     "output_type": "execute_result"
    }
   ],
   "source": [
    "page=requests.get(\"https://www.icc-cricket.com/rankings/batting/mens/odi\")\n",
    "\n",
    "page"
   ]
  },
  {
   "cell_type": "code",
   "execution_count": 37,
   "id": "0c74234b",
   "metadata": {},
   "outputs": [],
   "source": [
    "soup=BeautifulSoup(page.content)"
   ]
  },
  {
   "cell_type": "code",
   "execution_count": 38,
   "id": "89e62b36",
   "metadata": {},
   "outputs": [
    {
     "data": {
      "text/plain": [
       "[]"
      ]
     },
     "execution_count": 38,
     "metadata": {},
     "output_type": "execute_result"
    }
   ],
   "source": [
    "odi_batsmen=[]\n",
    "\n",
    "for i in soup.find_all('span',class_=\"si-text si-fname\"):\n",
    "    odi_batsmen.append(i.text)\n",
    "    \n",
    "odi_batsmen"
   ]
  },
  {
   "cell_type": "code",
   "execution_count": 39,
   "id": "6c1ab5b7",
   "metadata": {},
   "outputs": [
    {
     "data": {
      "text/plain": [
       "[]"
      ]
     },
     "execution_count": 39,
     "metadata": {},
     "output_type": "execute_result"
    }
   ],
   "source": [
    "records=[]\n",
    "\n",
    "for i in soup.find_all('span',class_=\"si-text\"):\n",
    "    records.append(i.text)\n",
    "    \n",
    "records"
   ]
  },
  {
   "cell_type": "code",
   "execution_count": 40,
   "id": "e56c0351",
   "metadata": {},
   "outputs": [
    {
     "data": {
      "text/plain": [
       "[]"
      ]
     },
     "execution_count": 40,
     "metadata": {},
     "output_type": "execute_result"
    }
   ],
   "source": [
    "rating=[]\n",
    "\n",
    "for i in soup.find_all('div',class_=\"si-table-data si-rating\"):\n",
    "    rating.append(i.text)\n",
    "    \n",
    "rating"
   ]
  },
  {
   "cell_type": "markdown",
   "id": "09a03d5d",
   "metadata": {},
   "source": [
    "### c) Top 10 ODI bowlers along with the records of their team and rating."
   ]
  },
  {
   "cell_type": "markdown",
   "id": "d90c109a",
   "metadata": {},
   "source": [
    "**Similiar to the previous a,b not getting answer for C also**"
   ]
  },
  {
   "cell_type": "markdown",
   "id": "31b08f13",
   "metadata": {},
   "source": [
    "**Sir, this question also have the same problem (4th question) like 2nd and 3rd question, I mentioned correct class(and correct div,span also) but it didn't give me the correct solution. In website( \"https://www.patreon.com/coreyms\") i copied and pasted the class in the filter option at the time it gave me the heading,date,content and likes but when i mentioning the same class in jupitor notebook it never gave me the answer(output) ,I don't know  how to solve this and i raised a ticket also**"
   ]
  },
  {
   "cell_type": "markdown",
   "id": "1987aa0f",
   "metadata": {},
   "source": [
    "### 4) Write a python program to scrape details of all the posts from https://www.patreon.com/coreyms .Scrape the heading, date, content and the likes for the video from the link for the youtube video from the post."
   ]
  },
  {
   "cell_type": "code",
   "execution_count": 41,
   "id": "bd286548",
   "metadata": {},
   "outputs": [
    {
     "data": {
      "text/plain": [
       "<Response [200]>"
      ]
     },
     "execution_count": 41,
     "metadata": {},
     "output_type": "execute_result"
    }
   ],
   "source": [
    "page=requests.get(\"https://www.patreon.com/coreyms\")\n",
    "\n",
    "page"
   ]
  },
  {
   "cell_type": "code",
   "execution_count": 42,
   "id": "12cc744e",
   "metadata": {},
   "outputs": [],
   "source": [
    "soup=BeautifulSoup(page.content)"
   ]
  },
  {
   "cell_type": "code",
   "execution_count": 44,
   "id": "e95b45d4",
   "metadata": {},
   "outputs": [
    {
     "data": {
      "text/plain": [
       "[]"
      ]
     },
     "execution_count": 44,
     "metadata": {},
     "output_type": "execute_result"
    }
   ],
   "source": [
    "heading=[]\n",
    "for i in soup.find_all('span',class_=\"sc-1cvoi1y-0 hxhWXn\"):\n",
    "    heading.append(i.text)\n",
    "    \n",
    "heading"
   ]
  },
  {
   "cell_type": "markdown",
   "id": "46f99d12",
   "metadata": {},
   "source": [
    "### 5) Write a python program to scrape house details from mentioned URL. It should include house title, location,area, EMI and price from https://www.nobroker.in/ .Enter three localities which are Indira Nagar,Jayanagar,RajajiNagar."
   ]
  },
  {
   "cell_type": "markdown",
   "id": "ee02cb8a",
   "metadata": {},
   "source": [
    "### For IndiraNagar"
   ]
  },
  {
   "cell_type": "code",
   "execution_count": 79,
   "id": "aa6e6bd1",
   "metadata": {},
   "outputs": [
    {
     "data": {
      "text/plain": [
       "<Response [200]>"
      ]
     },
     "execution_count": 79,
     "metadata": {},
     "output_type": "execute_result"
    }
   ],
   "source": [
    "page=requests.get(\"https://www.nobroker.in/property/sale/bangalore/Indiranagar?searchParam=W3sibGF0IjoxMi45NzgzNjkyLCJsb24iOjc3LjY0MDgzNTYsInBsYWNlSWQiOiJDaElKa1FOM0dLUVdyanNSTmhCUUpyaEdEN1UiLCJwbGFjZU5hbWUiOiJJbmRpcmFuYWdhciIsInNob3dNYXAiOmZhbHNlfV0=&radius=2.0&city=bangalore&locality=Rajajinagar&isMetro=false\")\n",
    "\n",
    "page"
   ]
  },
  {
   "cell_type": "code",
   "execution_count": 80,
   "id": "9868183a",
   "metadata": {},
   "outputs": [],
   "source": [
    "soup=BeautifulSoup(page.content)"
   ]
  },
  {
   "cell_type": "code",
   "execution_count": 81,
   "id": "041bc922",
   "metadata": {},
   "outputs": [
    {
     "data": {
      "text/plain": [
       "['3 BHK Flat In Nilavu  For Sale  In Indiranagar',\n",
       " '2 BHK Apartment In Gopalan Admirality Court, Indiranagar For Sale  In Indiranagar',\n",
       " '4 BHK Apartment In Codename Indiranagar For Sale  In Indiranagar',\n",
       " '3 BHK Apartment In Codename Indiranagar For Sale  In Indiranagar',\n",
       " '4+ BHK House For Sale  In Indiranagar Metro Station',\n",
       " '4+ BHK Flat For Sale  In Indiranagar',\n",
       " '4+ BHK Flat In Saikrupa Apartment Indiranagar For Sale  In Indiranagar',\n",
       " '2 BHK Flat In Lords Aparment For Sale  In Kodihalli',\n",
       " '4+ BHK Flat In Standalone Building  For Sale  In Indiranagar',\n",
       " '3 BHK Flat In Laa Royal Manor For Sale  In Indiranagar',\n",
       " '3 BHK Apartment In Sai Uday Mohan Apartments For Sale  In Indiranagar',\n",
       " '3 BHK Flat In Sai Uday Mohan Apartments For Sale  In Indiranagar',\n",
       " '2 BHK Flat In Pooja Residency, Indira Nagar For Sale  In Indira Nagar',\n",
       " '4 BHK House For Sale  In Indiranagar',\n",
       " '2 BHK Flat In Sudarshan Ruby For Sale  In Indiranagar',\n",
       " '4 BHK Flat In Sri Gayatri Pride For Sale  In Indiranagar',\n",
       " '4+ BHK House For Sale  In Lakshmipura, Indiranagar',\n",
       " '4 BHK Flat For Sale  In Indiranagar',\n",
       " '4+ BHK Flat For Sale  In Indiranagar',\n",
       " '3 BHK Flat For Sale  In Indiranagar',\n",
       " '4+ BHK House For Sale  In Indiranagar',\n",
       " '1 BHK Flat For Sale  In Indiranagar Depot-6',\n",
       " '2 BHK Flat In S R Ruby For Sale  In Indiranagar',\n",
       " '1 BHK Flat In Sai Illam  For Sale  In Indira Nagar',\n",
       " '2 BHK Flat In Carnberry For Sale  In Cranberry Apartment',\n",
       " '3 BHK Flat In Nilavu  For Sale  In Indiranagar']"
      ]
     },
     "execution_count": 81,
     "metadata": {},
     "output_type": "execute_result"
    }
   ],
   "source": [
    "house_title=[]\n",
    "for i in soup.find_all('a',class_=\"overflow-hidden overflow-ellipsis whitespace-nowrap max-w-80pe po:max-w-full\"):\n",
    "    house_title.append(i.text)\n",
    "    \n",
    "house_title"
   ]
  },
  {
   "cell_type": "code",
   "execution_count": 83,
   "id": "309f4b23",
   "metadata": {},
   "outputs": [
    {
     "data": {
      "text/plain": [
       "['Indira Nagar II Stage, Hoysala Nagar, Near BDA Complex',\n",
       " 'Gopalan Admirality Court, Indiranagar\\xa0  6th Main Rd, Eshwara Layout, Indiranagar, Bengaluru, Karnataka 560038, India',\n",
       " 'Codename Indiranagar\\xa0 Indiranagar, Bangalore.',\n",
       " 'Codename Indiranagar\\xa0 Indiranagar, Bangalore.',\n",
       " 'Independent House, 224, 7th Cross, 1st stage Indiranagar',\n",
       " 'Independent House, Stage 3 near SSB International School',\n",
       " '1st Cross Road',\n",
       " '80 Feet Road, HAL 2nd Stage near Liquid Propulsion Systems Centre/ISRO',\n",
       " 'Appareddipalya Near ESI Hospital',\n",
       " '11th Cross Rd, 11th cross',\n",
       " 'Sai Uday Mohan Apartments\\xa0 38, Appareddy Palya Rd, New Akash Nagar, Stage 3, Indiranagar, Bengaluru, Karnataka 560038',\n",
       " 'Sai Uday Mohan Apartments, 38, Appareddy Palya Rd, New Akash Nagar, Stage 3, Indiranagar, Bengaluru, Karnataka 560038, India',\n",
       " 'Indira Nagar, HAL 2nd Stage, Bangalore, Karnataka, INDIA',\n",
       " 'Independent House, Stage 2, 9th cross, 10A main, near Sree cauvery school',\n",
       " 'esi hospital, double road',\n",
       " 'Behind Carlton Towers',\n",
       " 'Independent House, Big Bazar, Old Madras Road, near Adarsha Theatre',\n",
       " 'Standalone building,  100 Feet Rd Near New Horizon Public School',\n",
       " 'Standalone Building,  HAL 2nd Stage, Near New Horizon Public School',\n",
       " 'Standalone Building, A Naidu?s Ootada Mane, 2nd Main Road, Binnamangala, Hoysala Nagar, Indiranagar, Bengaluru, Karnataka, India',\n",
       " 'Independent House, Binnamangala Hutting Colony.',\n",
       " 'Standalone Building, Near Karnataka ATM, Indiranagar',\n",
       " '14th Main Rd, HAL 2nd Stage, near New Horizon Public School,',\n",
       " 'Swami Vivekananda Rd, near Zion Full Gospel Church ',\n",
       " 'Indiranagar 13th main ',\n",
       " 'Indira Nagar II Stage, Hoysala Nagar, Near BDA Complex']"
      ]
     },
     "execution_count": 83,
     "metadata": {},
     "output_type": "execute_result"
    }
   ],
   "source": [
    "location=[]\n",
    "for i in soup.find_all('div',class_=\"mt-0.5p overflow-hidden overflow-ellipsis whitespace-nowrap max-w-70 text-gray-light leading-4 po:mb-0.1p po:max-w-95\"):\n",
    "    location.append(i.text)\n",
    "    \n",
    "location"
   ]
  },
  {
   "cell_type": "code",
   "execution_count": 84,
   "id": "a186cc61",
   "metadata": {},
   "outputs": [
    {
     "data": {
      "text/plain": [
       "['₹2.99 Crores₹18,688 per sq.ft.',\n",
       " '₹1.71 Lacs/MonthEstimated EMI',\n",
       " '₹1.8 Crores₹13,235 per sq.ft.',\n",
       " '₹1.03 Lacs/MonthEstimated EMI',\n",
       " '₹6 Crores₹23,077 per sq.ft.',\n",
       " '₹3.44 Lacs/MonthEstimated EMI',\n",
       " '₹5.6 Crores₹28,000 per sq.ft.',\n",
       " '₹3.21 Lacs/MonthEstimated EMI',\n",
       " '₹9.5 Crores₹19,000 per sq.ft.',\n",
       " '₹5.44 Lacs/MonthEstimated EMI',\n",
       " '₹2.01 Crores₹7,444 per sq.ft.',\n",
       " '₹1.15 Lacs/MonthEstimated EMI',\n",
       " '₹2.98 Crores₹11,920 per sq.ft.',\n",
       " '₹1.71 Lacs/MonthEstimated EMI',\n",
       " '₹1 Crore₹11,111 per sq.ft.',\n",
       " '₹57,314/MonthEstimated EMI',\n",
       " '₹11 Crores₹40,741 per sq.ft.',\n",
       " '₹6.3 Lacs/MonthEstimated EMI',\n",
       " '₹2.5 Crores₹13,158 per sq.ft.',\n",
       " '₹1.43 Lacs/MonthEstimated EMI',\n",
       " '₹1.55 Crores₹10,131 per sq.ft.',\n",
       " '₹88,837/MonthEstimated EMI',\n",
       " '₹1.55 Crores₹10,131 per sq.ft.',\n",
       " '₹88,837/MonthEstimated EMI',\n",
       " '₹76 Lacs₹6,333 per sq.ft.',\n",
       " '₹43,559/MonthEstimated EMI',\n",
       " '₹3.5 Crores₹29,167 per sq.ft.',\n",
       " '₹2.01 Lacs/MonthEstimated EMI',\n",
       " '₹95 Lacs₹7,600 per sq.ft.',\n",
       " '₹54,448/MonthEstimated EMI',\n",
       " '₹3 Crores₹18,750 per sq.ft.',\n",
       " '₹1.72 Lacs/MonthEstimated EMI',\n",
       " '₹70 Lacs₹8,750 per sq.ft.',\n",
       " '₹40,120/MonthEstimated EMI',\n",
       " '₹3.5 Crores₹7,292 per sq.ft.',\n",
       " '₹2.01 Lacs/MonthEstimated EMI',\n",
       " '₹6 Crores₹10,108 per sq.ft.',\n",
       " '₹3.44 Lacs/MonthEstimated EMI',\n",
       " '₹4 Crores₹15,385 per sq.ft.',\n",
       " '₹2.29 Lacs/MonthEstimated EMI',\n",
       " '₹4.5 Crores₹19,149 per sq.ft.',\n",
       " '₹2.58 Lacs/MonthEstimated EMI',\n",
       " '₹1.5 Crores₹18,750 per sq.ft.',\n",
       " '₹85,971/MonthEstimated EMI',\n",
       " '₹90 Lacs₹9,474 per sq.ft.',\n",
       " '₹51,583/MonthEstimated EMI',\n",
       " '₹70 Lacs₹11,667 per sq.ft.',\n",
       " '₹40,120/MonthEstimated EMI',\n",
       " '₹80 Lacs₹7,273 per sq.ft.',\n",
       " '₹45,851/MonthEstimated EMI',\n",
       " '₹2.99 Crores₹18,688 per sq.ft.',\n",
       " '₹1.71 Lacs/MonthEstimated EMI']"
      ]
     },
     "execution_count": 84,
     "metadata": {},
     "output_type": "execute_result"
    }
   ],
   "source": [
    "EMI_and_price=[]\n",
    "for i in soup.find_all('div',class_=\"flex flex-col w-33pe items-center bo tp:w-half po:w-full border-r border-r-solid border-card-overview-border-color last:border-r-1\"):\n",
    "    EMI_and_price.append(i.text)\n",
    "    \n",
    "EMI_and_price"
   ]
  },
  {
   "cell_type": "code",
   "execution_count": 91,
   "id": "0352edb0",
   "metadata": {},
   "outputs": [],
   "source": [
    "Price=[item for item in EMI_and_price if \"per sq.ft.\" in item ]\n",
    "EMI=[item for item in EMI_and_price if \"Estimated EMI\" in item]"
   ]
  },
  {
   "cell_type": "code",
   "execution_count": 93,
   "id": "71688410",
   "metadata": {},
   "outputs": [
    {
     "data": {
      "text/plain": [
       "['₹2.99 Crores₹18,688 per sq.ft.',\n",
       " '₹1.8 Crores₹13,235 per sq.ft.',\n",
       " '₹6 Crores₹23,077 per sq.ft.',\n",
       " '₹5.6 Crores₹28,000 per sq.ft.',\n",
       " '₹9.5 Crores₹19,000 per sq.ft.',\n",
       " '₹2.01 Crores₹7,444 per sq.ft.',\n",
       " '₹2.98 Crores₹11,920 per sq.ft.',\n",
       " '₹1 Crore₹11,111 per sq.ft.',\n",
       " '₹11 Crores₹40,741 per sq.ft.',\n",
       " '₹2.5 Crores₹13,158 per sq.ft.',\n",
       " '₹1.55 Crores₹10,131 per sq.ft.',\n",
       " '₹1.55 Crores₹10,131 per sq.ft.',\n",
       " '₹76 Lacs₹6,333 per sq.ft.',\n",
       " '₹3.5 Crores₹29,167 per sq.ft.',\n",
       " '₹95 Lacs₹7,600 per sq.ft.',\n",
       " '₹3 Crores₹18,750 per sq.ft.',\n",
       " '₹70 Lacs₹8,750 per sq.ft.',\n",
       " '₹3.5 Crores₹7,292 per sq.ft.',\n",
       " '₹6 Crores₹10,108 per sq.ft.',\n",
       " '₹4 Crores₹15,385 per sq.ft.',\n",
       " '₹4.5 Crores₹19,149 per sq.ft.',\n",
       " '₹1.5 Crores₹18,750 per sq.ft.',\n",
       " '₹90 Lacs₹9,474 per sq.ft.',\n",
       " '₹70 Lacs₹11,667 per sq.ft.',\n",
       " '₹80 Lacs₹7,273 per sq.ft.',\n",
       " '₹2.99 Crores₹18,688 per sq.ft.']"
      ]
     },
     "execution_count": 93,
     "metadata": {},
     "output_type": "execute_result"
    }
   ],
   "source": [
    "Price"
   ]
  },
  {
   "cell_type": "code",
   "execution_count": 94,
   "id": "f37d3f15",
   "metadata": {},
   "outputs": [
    {
     "data": {
      "text/plain": [
       "['₹1.71 Lacs/MonthEstimated EMI',\n",
       " '₹1.03 Lacs/MonthEstimated EMI',\n",
       " '₹3.44 Lacs/MonthEstimated EMI',\n",
       " '₹3.21 Lacs/MonthEstimated EMI',\n",
       " '₹5.44 Lacs/MonthEstimated EMI',\n",
       " '₹1.15 Lacs/MonthEstimated EMI',\n",
       " '₹1.71 Lacs/MonthEstimated EMI',\n",
       " '₹57,314/MonthEstimated EMI',\n",
       " '₹6.3 Lacs/MonthEstimated EMI',\n",
       " '₹1.43 Lacs/MonthEstimated EMI',\n",
       " '₹88,837/MonthEstimated EMI',\n",
       " '₹88,837/MonthEstimated EMI',\n",
       " '₹43,559/MonthEstimated EMI',\n",
       " '₹2.01 Lacs/MonthEstimated EMI',\n",
       " '₹54,448/MonthEstimated EMI',\n",
       " '₹1.72 Lacs/MonthEstimated EMI',\n",
       " '₹40,120/MonthEstimated EMI',\n",
       " '₹2.01 Lacs/MonthEstimated EMI',\n",
       " '₹3.44 Lacs/MonthEstimated EMI',\n",
       " '₹2.29 Lacs/MonthEstimated EMI',\n",
       " '₹2.58 Lacs/MonthEstimated EMI',\n",
       " '₹85,971/MonthEstimated EMI',\n",
       " '₹51,583/MonthEstimated EMI',\n",
       " '₹40,120/MonthEstimated EMI',\n",
       " '₹45,851/MonthEstimated EMI',\n",
       " '₹1.71 Lacs/MonthEstimated EMI']"
      ]
     },
     "execution_count": 94,
     "metadata": {},
     "output_type": "execute_result"
    }
   ],
   "source": [
    "EMI"
   ]
  },
  {
   "cell_type": "code",
   "execution_count": 95,
   "id": "d4b45025",
   "metadata": {},
   "outputs": [],
   "source": [
    "df_for_indiranagar=pd.DataFrame({\"House_Title\":house_title,\"Location\":location,\"Price\":Price,\"EMI\":EMI})"
   ]
  },
  {
   "cell_type": "code",
   "execution_count": 96,
   "id": "94fd1a3f",
   "metadata": {},
   "outputs": [
    {
     "data": {
      "text/html": [
       "<div>\n",
       "<style scoped>\n",
       "    .dataframe tbody tr th:only-of-type {\n",
       "        vertical-align: middle;\n",
       "    }\n",
       "\n",
       "    .dataframe tbody tr th {\n",
       "        vertical-align: top;\n",
       "    }\n",
       "\n",
       "    .dataframe thead th {\n",
       "        text-align: right;\n",
       "    }\n",
       "</style>\n",
       "<table border=\"1\" class=\"dataframe\">\n",
       "  <thead>\n",
       "    <tr style=\"text-align: right;\">\n",
       "      <th></th>\n",
       "      <th>House_Title</th>\n",
       "      <th>Location</th>\n",
       "      <th>Price</th>\n",
       "      <th>EMI</th>\n",
       "    </tr>\n",
       "  </thead>\n",
       "  <tbody>\n",
       "    <tr>\n",
       "      <th>0</th>\n",
       "      <td>3 BHK Flat In Nilavu  For Sale  In Indiranagar</td>\n",
       "      <td>Indira Nagar II Stage, Hoysala Nagar, Near BDA...</td>\n",
       "      <td>₹2.99 Crores₹18,688 per sq.ft.</td>\n",
       "      <td>₹1.71 Lacs/MonthEstimated EMI</td>\n",
       "    </tr>\n",
       "    <tr>\n",
       "      <th>1</th>\n",
       "      <td>2 BHK Apartment In Gopalan Admirality Court, I...</td>\n",
       "      <td>Gopalan Admirality Court, Indiranagar   6th Ma...</td>\n",
       "      <td>₹1.8 Crores₹13,235 per sq.ft.</td>\n",
       "      <td>₹1.03 Lacs/MonthEstimated EMI</td>\n",
       "    </tr>\n",
       "    <tr>\n",
       "      <th>2</th>\n",
       "      <td>4 BHK Apartment In Codename Indiranagar For Sa...</td>\n",
       "      <td>Codename Indiranagar  Indiranagar, Bangalore.</td>\n",
       "      <td>₹6 Crores₹23,077 per sq.ft.</td>\n",
       "      <td>₹3.44 Lacs/MonthEstimated EMI</td>\n",
       "    </tr>\n",
       "    <tr>\n",
       "      <th>3</th>\n",
       "      <td>3 BHK Apartment In Codename Indiranagar For Sa...</td>\n",
       "      <td>Codename Indiranagar  Indiranagar, Bangalore.</td>\n",
       "      <td>₹5.6 Crores₹28,000 per sq.ft.</td>\n",
       "      <td>₹3.21 Lacs/MonthEstimated EMI</td>\n",
       "    </tr>\n",
       "    <tr>\n",
       "      <th>4</th>\n",
       "      <td>4+ BHK House For Sale  In Indiranagar Metro St...</td>\n",
       "      <td>Independent House, 224, 7th Cross, 1st stage I...</td>\n",
       "      <td>₹9.5 Crores₹19,000 per sq.ft.</td>\n",
       "      <td>₹5.44 Lacs/MonthEstimated EMI</td>\n",
       "    </tr>\n",
       "    <tr>\n",
       "      <th>5</th>\n",
       "      <td>4+ BHK Flat For Sale  In Indiranagar</td>\n",
       "      <td>Independent House, Stage 3 near SSB Internatio...</td>\n",
       "      <td>₹2.01 Crores₹7,444 per sq.ft.</td>\n",
       "      <td>₹1.15 Lacs/MonthEstimated EMI</td>\n",
       "    </tr>\n",
       "    <tr>\n",
       "      <th>6</th>\n",
       "      <td>4+ BHK Flat In Saikrupa Apartment Indiranagar ...</td>\n",
       "      <td>1st Cross Road</td>\n",
       "      <td>₹2.98 Crores₹11,920 per sq.ft.</td>\n",
       "      <td>₹1.71 Lacs/MonthEstimated EMI</td>\n",
       "    </tr>\n",
       "    <tr>\n",
       "      <th>7</th>\n",
       "      <td>2 BHK Flat In Lords Aparment For Sale  In Kodi...</td>\n",
       "      <td>80 Feet Road, HAL 2nd Stage near Liquid Propul...</td>\n",
       "      <td>₹1 Crore₹11,111 per sq.ft.</td>\n",
       "      <td>₹57,314/MonthEstimated EMI</td>\n",
       "    </tr>\n",
       "    <tr>\n",
       "      <th>8</th>\n",
       "      <td>4+ BHK Flat In Standalone Building  For Sale  ...</td>\n",
       "      <td>Appareddipalya Near ESI Hospital</td>\n",
       "      <td>₹11 Crores₹40,741 per sq.ft.</td>\n",
       "      <td>₹6.3 Lacs/MonthEstimated EMI</td>\n",
       "    </tr>\n",
       "    <tr>\n",
       "      <th>9</th>\n",
       "      <td>3 BHK Flat In Laa Royal Manor For Sale  In Ind...</td>\n",
       "      <td>11th Cross Rd, 11th cross</td>\n",
       "      <td>₹2.5 Crores₹13,158 per sq.ft.</td>\n",
       "      <td>₹1.43 Lacs/MonthEstimated EMI</td>\n",
       "    </tr>\n",
       "    <tr>\n",
       "      <th>10</th>\n",
       "      <td>3 BHK Apartment In Sai Uday Mohan Apartments F...</td>\n",
       "      <td>Sai Uday Mohan Apartments  38, Appareddy Palya...</td>\n",
       "      <td>₹1.55 Crores₹10,131 per sq.ft.</td>\n",
       "      <td>₹88,837/MonthEstimated EMI</td>\n",
       "    </tr>\n",
       "    <tr>\n",
       "      <th>11</th>\n",
       "      <td>3 BHK Flat In Sai Uday Mohan Apartments For Sa...</td>\n",
       "      <td>Sai Uday Mohan Apartments, 38, Appareddy Palya...</td>\n",
       "      <td>₹1.55 Crores₹10,131 per sq.ft.</td>\n",
       "      <td>₹88,837/MonthEstimated EMI</td>\n",
       "    </tr>\n",
       "    <tr>\n",
       "      <th>12</th>\n",
       "      <td>2 BHK Flat In Pooja Residency, Indira Nagar Fo...</td>\n",
       "      <td>Indira Nagar, HAL 2nd Stage, Bangalore, Karnat...</td>\n",
       "      <td>₹76 Lacs₹6,333 per sq.ft.</td>\n",
       "      <td>₹43,559/MonthEstimated EMI</td>\n",
       "    </tr>\n",
       "    <tr>\n",
       "      <th>13</th>\n",
       "      <td>4 BHK House For Sale  In Indiranagar</td>\n",
       "      <td>Independent House, Stage 2, 9th cross, 10A mai...</td>\n",
       "      <td>₹3.5 Crores₹29,167 per sq.ft.</td>\n",
       "      <td>₹2.01 Lacs/MonthEstimated EMI</td>\n",
       "    </tr>\n",
       "    <tr>\n",
       "      <th>14</th>\n",
       "      <td>2 BHK Flat In Sudarshan Ruby For Sale  In Indi...</td>\n",
       "      <td>esi hospital, double road</td>\n",
       "      <td>₹95 Lacs₹7,600 per sq.ft.</td>\n",
       "      <td>₹54,448/MonthEstimated EMI</td>\n",
       "    </tr>\n",
       "    <tr>\n",
       "      <th>15</th>\n",
       "      <td>4 BHK Flat In Sri Gayatri Pride For Sale  In I...</td>\n",
       "      <td>Behind Carlton Towers</td>\n",
       "      <td>₹3 Crores₹18,750 per sq.ft.</td>\n",
       "      <td>₹1.72 Lacs/MonthEstimated EMI</td>\n",
       "    </tr>\n",
       "    <tr>\n",
       "      <th>16</th>\n",
       "      <td>4+ BHK House For Sale  In Lakshmipura, Indiran...</td>\n",
       "      <td>Independent House, Big Bazar, Old Madras Road,...</td>\n",
       "      <td>₹70 Lacs₹8,750 per sq.ft.</td>\n",
       "      <td>₹40,120/MonthEstimated EMI</td>\n",
       "    </tr>\n",
       "    <tr>\n",
       "      <th>17</th>\n",
       "      <td>4 BHK Flat For Sale  In Indiranagar</td>\n",
       "      <td>Standalone building,  100 Feet Rd Near New Hor...</td>\n",
       "      <td>₹3.5 Crores₹7,292 per sq.ft.</td>\n",
       "      <td>₹2.01 Lacs/MonthEstimated EMI</td>\n",
       "    </tr>\n",
       "    <tr>\n",
       "      <th>18</th>\n",
       "      <td>4+ BHK Flat For Sale  In Indiranagar</td>\n",
       "      <td>Standalone Building,  HAL 2nd Stage, Near New ...</td>\n",
       "      <td>₹6 Crores₹10,108 per sq.ft.</td>\n",
       "      <td>₹3.44 Lacs/MonthEstimated EMI</td>\n",
       "    </tr>\n",
       "    <tr>\n",
       "      <th>19</th>\n",
       "      <td>3 BHK Flat For Sale  In Indiranagar</td>\n",
       "      <td>Standalone Building, A Naidu?s Ootada Mane, 2n...</td>\n",
       "      <td>₹4 Crores₹15,385 per sq.ft.</td>\n",
       "      <td>₹2.29 Lacs/MonthEstimated EMI</td>\n",
       "    </tr>\n",
       "    <tr>\n",
       "      <th>20</th>\n",
       "      <td>4+ BHK House For Sale  In Indiranagar</td>\n",
       "      <td>Independent House, Binnamangala Hutting Colony.</td>\n",
       "      <td>₹4.5 Crores₹19,149 per sq.ft.</td>\n",
       "      <td>₹2.58 Lacs/MonthEstimated EMI</td>\n",
       "    </tr>\n",
       "    <tr>\n",
       "      <th>21</th>\n",
       "      <td>1 BHK Flat For Sale  In Indiranagar Depot-6</td>\n",
       "      <td>Standalone Building, Near Karnataka ATM, Indir...</td>\n",
       "      <td>₹1.5 Crores₹18,750 per sq.ft.</td>\n",
       "      <td>₹85,971/MonthEstimated EMI</td>\n",
       "    </tr>\n",
       "    <tr>\n",
       "      <th>22</th>\n",
       "      <td>2 BHK Flat In S R Ruby For Sale  In Indiranagar</td>\n",
       "      <td>14th Main Rd, HAL 2nd Stage, near New Horizon ...</td>\n",
       "      <td>₹90 Lacs₹9,474 per sq.ft.</td>\n",
       "      <td>₹51,583/MonthEstimated EMI</td>\n",
       "    </tr>\n",
       "    <tr>\n",
       "      <th>23</th>\n",
       "      <td>1 BHK Flat In Sai Illam  For Sale  In Indira N...</td>\n",
       "      <td>Swami Vivekananda Rd, near Zion Full Gospel Ch...</td>\n",
       "      <td>₹70 Lacs₹11,667 per sq.ft.</td>\n",
       "      <td>₹40,120/MonthEstimated EMI</td>\n",
       "    </tr>\n",
       "    <tr>\n",
       "      <th>24</th>\n",
       "      <td>2 BHK Flat In Carnberry For Sale  In Cranberry...</td>\n",
       "      <td>Indiranagar 13th main</td>\n",
       "      <td>₹80 Lacs₹7,273 per sq.ft.</td>\n",
       "      <td>₹45,851/MonthEstimated EMI</td>\n",
       "    </tr>\n",
       "    <tr>\n",
       "      <th>25</th>\n",
       "      <td>3 BHK Flat In Nilavu  For Sale  In Indiranagar</td>\n",
       "      <td>Indira Nagar II Stage, Hoysala Nagar, Near BDA...</td>\n",
       "      <td>₹2.99 Crores₹18,688 per sq.ft.</td>\n",
       "      <td>₹1.71 Lacs/MonthEstimated EMI</td>\n",
       "    </tr>\n",
       "  </tbody>\n",
       "</table>\n",
       "</div>"
      ],
      "text/plain": [
       "                                          House_Title  \\\n",
       "0      3 BHK Flat In Nilavu  For Sale  In Indiranagar   \n",
       "1   2 BHK Apartment In Gopalan Admirality Court, I...   \n",
       "2   4 BHK Apartment In Codename Indiranagar For Sa...   \n",
       "3   3 BHK Apartment In Codename Indiranagar For Sa...   \n",
       "4   4+ BHK House For Sale  In Indiranagar Metro St...   \n",
       "5                4+ BHK Flat For Sale  In Indiranagar   \n",
       "6   4+ BHK Flat In Saikrupa Apartment Indiranagar ...   \n",
       "7   2 BHK Flat In Lords Aparment For Sale  In Kodi...   \n",
       "8   4+ BHK Flat In Standalone Building  For Sale  ...   \n",
       "9   3 BHK Flat In Laa Royal Manor For Sale  In Ind...   \n",
       "10  3 BHK Apartment In Sai Uday Mohan Apartments F...   \n",
       "11  3 BHK Flat In Sai Uday Mohan Apartments For Sa...   \n",
       "12  2 BHK Flat In Pooja Residency, Indira Nagar Fo...   \n",
       "13               4 BHK House For Sale  In Indiranagar   \n",
       "14  2 BHK Flat In Sudarshan Ruby For Sale  In Indi...   \n",
       "15  4 BHK Flat In Sri Gayatri Pride For Sale  In I...   \n",
       "16  4+ BHK House For Sale  In Lakshmipura, Indiran...   \n",
       "17                4 BHK Flat For Sale  In Indiranagar   \n",
       "18               4+ BHK Flat For Sale  In Indiranagar   \n",
       "19                3 BHK Flat For Sale  In Indiranagar   \n",
       "20              4+ BHK House For Sale  In Indiranagar   \n",
       "21        1 BHK Flat For Sale  In Indiranagar Depot-6   \n",
       "22    2 BHK Flat In S R Ruby For Sale  In Indiranagar   \n",
       "23  1 BHK Flat In Sai Illam  For Sale  In Indira N...   \n",
       "24  2 BHK Flat In Carnberry For Sale  In Cranberry...   \n",
       "25     3 BHK Flat In Nilavu  For Sale  In Indiranagar   \n",
       "\n",
       "                                             Location  \\\n",
       "0   Indira Nagar II Stage, Hoysala Nagar, Near BDA...   \n",
       "1   Gopalan Admirality Court, Indiranagar   6th Ma...   \n",
       "2       Codename Indiranagar  Indiranagar, Bangalore.   \n",
       "3       Codename Indiranagar  Indiranagar, Bangalore.   \n",
       "4   Independent House, 224, 7th Cross, 1st stage I...   \n",
       "5   Independent House, Stage 3 near SSB Internatio...   \n",
       "6                                      1st Cross Road   \n",
       "7   80 Feet Road, HAL 2nd Stage near Liquid Propul...   \n",
       "8                    Appareddipalya Near ESI Hospital   \n",
       "9                           11th Cross Rd, 11th cross   \n",
       "10  Sai Uday Mohan Apartments  38, Appareddy Palya...   \n",
       "11  Sai Uday Mohan Apartments, 38, Appareddy Palya...   \n",
       "12  Indira Nagar, HAL 2nd Stage, Bangalore, Karnat...   \n",
       "13  Independent House, Stage 2, 9th cross, 10A mai...   \n",
       "14                          esi hospital, double road   \n",
       "15                              Behind Carlton Towers   \n",
       "16  Independent House, Big Bazar, Old Madras Road,...   \n",
       "17  Standalone building,  100 Feet Rd Near New Hor...   \n",
       "18  Standalone Building,  HAL 2nd Stage, Near New ...   \n",
       "19  Standalone Building, A Naidu?s Ootada Mane, 2n...   \n",
       "20    Independent House, Binnamangala Hutting Colony.   \n",
       "21  Standalone Building, Near Karnataka ATM, Indir...   \n",
       "22  14th Main Rd, HAL 2nd Stage, near New Horizon ...   \n",
       "23  Swami Vivekananda Rd, near Zion Full Gospel Ch...   \n",
       "24                             Indiranagar 13th main    \n",
       "25  Indira Nagar II Stage, Hoysala Nagar, Near BDA...   \n",
       "\n",
       "                             Price                            EMI  \n",
       "0   ₹2.99 Crores₹18,688 per sq.ft.  ₹1.71 Lacs/MonthEstimated EMI  \n",
       "1    ₹1.8 Crores₹13,235 per sq.ft.  ₹1.03 Lacs/MonthEstimated EMI  \n",
       "2      ₹6 Crores₹23,077 per sq.ft.  ₹3.44 Lacs/MonthEstimated EMI  \n",
       "3    ₹5.6 Crores₹28,000 per sq.ft.  ₹3.21 Lacs/MonthEstimated EMI  \n",
       "4    ₹9.5 Crores₹19,000 per sq.ft.  ₹5.44 Lacs/MonthEstimated EMI  \n",
       "5    ₹2.01 Crores₹7,444 per sq.ft.  ₹1.15 Lacs/MonthEstimated EMI  \n",
       "6   ₹2.98 Crores₹11,920 per sq.ft.  ₹1.71 Lacs/MonthEstimated EMI  \n",
       "7       ₹1 Crore₹11,111 per sq.ft.     ₹57,314/MonthEstimated EMI  \n",
       "8     ₹11 Crores₹40,741 per sq.ft.   ₹6.3 Lacs/MonthEstimated EMI  \n",
       "9    ₹2.5 Crores₹13,158 per sq.ft.  ₹1.43 Lacs/MonthEstimated EMI  \n",
       "10  ₹1.55 Crores₹10,131 per sq.ft.     ₹88,837/MonthEstimated EMI  \n",
       "11  ₹1.55 Crores₹10,131 per sq.ft.     ₹88,837/MonthEstimated EMI  \n",
       "12       ₹76 Lacs₹6,333 per sq.ft.     ₹43,559/MonthEstimated EMI  \n",
       "13   ₹3.5 Crores₹29,167 per sq.ft.  ₹2.01 Lacs/MonthEstimated EMI  \n",
       "14       ₹95 Lacs₹7,600 per sq.ft.     ₹54,448/MonthEstimated EMI  \n",
       "15     ₹3 Crores₹18,750 per sq.ft.  ₹1.72 Lacs/MonthEstimated EMI  \n",
       "16       ₹70 Lacs₹8,750 per sq.ft.     ₹40,120/MonthEstimated EMI  \n",
       "17    ₹3.5 Crores₹7,292 per sq.ft.  ₹2.01 Lacs/MonthEstimated EMI  \n",
       "18     ₹6 Crores₹10,108 per sq.ft.  ₹3.44 Lacs/MonthEstimated EMI  \n",
       "19     ₹4 Crores₹15,385 per sq.ft.  ₹2.29 Lacs/MonthEstimated EMI  \n",
       "20   ₹4.5 Crores₹19,149 per sq.ft.  ₹2.58 Lacs/MonthEstimated EMI  \n",
       "21   ₹1.5 Crores₹18,750 per sq.ft.     ₹85,971/MonthEstimated EMI  \n",
       "22       ₹90 Lacs₹9,474 per sq.ft.     ₹51,583/MonthEstimated EMI  \n",
       "23      ₹70 Lacs₹11,667 per sq.ft.     ₹40,120/MonthEstimated EMI  \n",
       "24       ₹80 Lacs₹7,273 per sq.ft.     ₹45,851/MonthEstimated EMI  \n",
       "25  ₹2.99 Crores₹18,688 per sq.ft.  ₹1.71 Lacs/MonthEstimated EMI  "
      ]
     },
     "execution_count": 96,
     "metadata": {},
     "output_type": "execute_result"
    }
   ],
   "source": [
    "df_for_indiranagar"
   ]
  },
  {
   "cell_type": "markdown",
   "id": "125925e0",
   "metadata": {},
   "source": [
    "## for Jayanagar"
   ]
  },
  {
   "cell_type": "code",
   "execution_count": 97,
   "id": "16d84e7f",
   "metadata": {},
   "outputs": [
    {
     "data": {
      "text/plain": [
       "<Response [200]>"
      ]
     },
     "execution_count": 97,
     "metadata": {},
     "output_type": "execute_result"
    }
   ],
   "source": [
    "page=requests.get(\"https://www.nobroker.in/property/sale/bangalore/Jayanagar?searchParam=W3sibGF0IjoxMi45MzA3NzM1LCJsb24iOjc3LjU4MzgzMDIsInBsYWNlSWQiOiJDaElKMmRkbFo1Z1ZyanNSaDFCT0FhZi1vcnMiLCJwbGFjZU5hbWUiOiJKYXlhbmFnYXIiLCJzaG93TWFwIjpmYWxzZX1d&radius=2.0&city=bangalore&locality=Rajajinagar&isMetro=false\")\n",
    "page"
   ]
  },
  {
   "cell_type": "code",
   "execution_count": 98,
   "id": "9d48e3be",
   "metadata": {},
   "outputs": [],
   "source": [
    "soup=BeautifulSoup(page.content)"
   ]
  },
  {
   "cell_type": "code",
   "execution_count": 99,
   "id": "14d29215",
   "metadata": {},
   "outputs": [
    {
     "data": {
      "text/plain": [
       "['2 BHK Apartment In Alpine Regency For Sale  In Jayanagar',\n",
       " '3 BHK House For Sale  In Jayanagar 9th Block',\n",
       " '3 BHK Flat In Parasmani Regency For Sale  In Jayanagar',\n",
       " '3 BHK Apartment In Amarjyothi Apartments For Sale  In Jayanagar 6th Block, Jayanagar',\n",
       " '2 BHK Flat In Shanthi Park Apartments For Sale  In Jayanagar 9th Block',\n",
       " '3 BHK House For Sale  In Jayanagar',\n",
       " '3 BHK Apartment In Lodha Azur For Sale near Jayanagar',\n",
       " '3 BHK Apartment In Jayanagar Residency For Sale  In Jayanagar',\n",
       " '4+ BHK House For Sale  In Jayanagar',\n",
       " '2 BHK Flat In Jayanagar Residency For Sale  In Jayanagar 3rd Block ',\n",
       " '3 BHK Flat In Sri Maruthi For Sale  In Jayanagar',\n",
       " '3 BHK Apartment In Gokul Lake View Apartments For Sale  In Jayanagar',\n",
       " '3 BHK Flat In Santa Clara Apartment For Sale  In Marenahalli, Jayanagar',\n",
       " '2 BHK Flat In Pallava Terrace Apartments For Sale  In Pallava Terrace, Tata Silk Farm, Jayanagar, Bengaluru, Karnataka 560070, India',\n",
       " '3 BHK Flat In Mayitri Enclave For Sale  In Jayanagar',\n",
       " '4 BHK Apartment In B And B Opulent Spire For Sale  In Jayanagar',\n",
       " '4+ BHK Flat In Gokula Krishna Apartment For Sale  In Basavanagudi',\n",
       " '3 BHK Flat In Greenview Aparment  For Sale  In Jayanagar',\n",
       " '2 BHK Flat In Ahmed Manzil  For Sale  In Jayanagar',\n",
       " '2 BHK Flat In Soundarya Lakeview For Sale  In Saundarya Lake View Appt, 3616, Kanakapura Rd, Jayanagar 3rd Block, Jayanagar, Bengaluru, Karnataka 560070, India',\n",
       " '2 BHK Flat In  Devgiri Devine Apartment For Sale  In Kathriguppe Post Office',\n",
       " '4 BHK House For Sale  In Jayanagar 9th Block East',\n",
       " '4+ BHK House For Sale  In Jayanagar',\n",
       " '2 BHK Flat In Sri Ranga Priya Residency For Sale  In Jayanagar',\n",
       " '2 BHK Flat In Standalone Builnding For Sale  In Jayanagar',\n",
       " '2 BHK Apartment In Alpine Regency For Sale  In Jayanagar']"
      ]
     },
     "execution_count": 99,
     "metadata": {},
     "output_type": "execute_result"
    }
   ],
   "source": [
    "house_title=[]\n",
    "for i in soup.find_all('a',class_=\"overflow-hidden overflow-ellipsis whitespace-nowrap max-w-80pe po:max-w-full\"):\n",
    "    house_title.append(i.text)\n",
    "    \n",
    "house_title"
   ]
  },
  {
   "cell_type": "code",
   "execution_count": 100,
   "id": "b2dab6b1",
   "metadata": {},
   "outputs": [
    {
     "data": {
      "text/plain": [
       "['Alpine Regency\\xa0  Alpine Regency, 10th D Main Rd, 1st Block, Jaya Nagar East, Jayanagar, Bengaluru, Karnataka 560011, India',\n",
       " 'Independent House, 125a, 38th B Cross Road, near MK Ahemad Bazar',\n",
       " 'behind Southend metro ',\n",
       " 'Amarjyothi Apartments\\xa0 Jayanagar 6th block, Bangalore',\n",
       " 'Shanthi Park Apartments, Kottapalya, Jayanagara 9th Block, Jayanagar, Bengaluru, Karnataka, India',\n",
       " 'Independent House,  9th Block,Near  MEWA - VANGUARD BUSINESS SCHOOL',\n",
       " 'Lodha Azur\\xa0 Akshay Nagar,Bangalore',\n",
       " 'Jayanagar Residency\\xa0 Jayanagar  Jayanagar Residency',\n",
       " 'Independent House, No:1,First cross street,RBI colony.Tilak nagar police station',\n",
       " 'jayanager residency. near D mart, Jayanager 3rd block East,',\n",
       " 'Indira Gandhi Institute Of Child Health 1st Block, Jayanagar, Bengaluru, Karnataka 560029, India',\n",
       " 'Gokul Lake View Apartments\\xa0 Gokul Lake View Apartments 110/18, 19th Cross Rd 2nd A Main Rd, Jayanagar Bengaluru, Karnataka 560070 India',\n",
       " '3Rd Cross Rd18th main, 9th Block, Marenahalli',\n",
       " '17 north main yediyur behind samudaya bhavan bangalore-560070',\n",
       " 'Mayitri Enclave,5T Block, 4th T Block East, Jayanagar, Bengaluru, Karnataka 5600041, India',\n",
       " 'B and B Opulent Spire\\xa0 Near Bharat Petroleum Corporation ltd, Bannerghatta Main Rd, Jayanagar, Bangalore',\n",
       " 'South End Rd near Reliance Fresh',\n",
       " '4th Block  near Vivekananda Educational Centre',\n",
       " '4th Block  near  Jayanagar BDA Complex ',\n",
       " 'yediyur',\n",
       " ' Devine Appartments,  , Karnataka, India',\n",
       " 'Independent House, near 9th block bus terminus',\n",
       " 'Independent House, jayanagar 4th block near The Royal Comfort',\n",
       " 'Swagath Rd, 4rd Block East, LIC Colony',\n",
       " 'next to royal departmental stores',\n",
       " 'Alpine Regency\\xa0  Alpine Regency, 10th D Main Rd, 1st Block, Jaya Nagar East, Jayanagar, Bengaluru, Karnataka 560011, India']"
      ]
     },
     "execution_count": 100,
     "metadata": {},
     "output_type": "execute_result"
    }
   ],
   "source": [
    "location=[]\n",
    "for i in soup.find_all('div',class_=\"mt-0.5p overflow-hidden overflow-ellipsis whitespace-nowrap max-w-70 text-gray-light leading-4 po:mb-0.1p po:max-w-95\"):\n",
    "    location.append(i.text)\n",
    "    \n",
    "location"
   ]
  },
  {
   "cell_type": "code",
   "execution_count": 101,
   "id": "f1c22c07",
   "metadata": {},
   "outputs": [
    {
     "data": {
      "text/plain": [
       "['₹1.65 Crores₹12,500 per sq.ft.',\n",
       " '₹94,568/MonthEstimated EMI',\n",
       " '₹1.45 Crores₹10,357 per sq.ft.',\n",
       " '₹83,106/MonthEstimated EMI',\n",
       " '₹2.77 Crores₹14,163 per sq.ft.',\n",
       " '₹1.59 Lacs/MonthEstimated EMI',\n",
       " '₹1.8 Crores₹11,598 per sq.ft.',\n",
       " '₹1.03 Lacs/MonthEstimated EMI',\n",
       " '₹95 Lacs₹8,636 per sq.ft.',\n",
       " '₹54,448/MonthEstimated EMI',\n",
       " '₹8.95 Crores₹74,583 per sq.ft.',\n",
       " '₹5.13 Lacs/MonthEstimated EMI',\n",
       " '₹2.25 Crores₹13,158 per sq.ft.',\n",
       " '₹1.29 Lacs/MonthEstimated EMI',\n",
       " '₹2.25 Crores₹11,250 per sq.ft.',\n",
       " '₹1.29 Lacs/MonthEstimated EMI',\n",
       " '₹7 Crores₹17,500 per sq.ft.',\n",
       " '₹4.01 Lacs/MonthEstimated EMI',\n",
       " '₹1.4 Crores₹11,997 per sq.ft.',\n",
       " '₹80,240/MonthEstimated EMI',\n",
       " '₹1.2 Crores₹8,571 per sq.ft.',\n",
       " '₹68,777/MonthEstimated EMI',\n",
       " '₹1.7 Crores₹9,179 per sq.ft.',\n",
       " '₹97,434/MonthEstimated EMI',\n",
       " '₹1.15 Crores₹8,244 per sq.ft.',\n",
       " '₹65,911/MonthEstimated EMI',\n",
       " '₹1 Crore₹9,524 per sq.ft.',\n",
       " '₹57,314/MonthEstimated EMI',\n",
       " '₹85 Lacs₹6,296 per sq.ft.',\n",
       " '₹48,717/MonthEstimated EMI',\n",
       " '₹5.19 Crores₹17,919 per sq.ft.',\n",
       " '₹2.98 Lacs/MonthEstimated EMI',\n",
       " '₹2.5 Crores₹11,905 per sq.ft.',\n",
       " '₹1.43 Lacs/MonthEstimated EMI',\n",
       " '₹2.3 Crores₹10,880 per sq.ft.',\n",
       " '₹1.32 Lacs/MonthEstimated EMI',\n",
       " '₹1.85 Crores₹14,231 per sq.ft.',\n",
       " '₹1.06 Lacs/MonthEstimated EMI',\n",
       " '₹1.2 Crores₹10,084 per sq.ft.',\n",
       " '₹68,777/MonthEstimated EMI',\n",
       " '₹1.3 Crores₹11,017 per sq.ft.',\n",
       " '₹74,508/MonthEstimated EMI',\n",
       " '₹3.25 Crores₹23,214 per sq.ft.',\n",
       " '₹1.86 Lacs/MonthEstimated EMI',\n",
       " '₹8 Crores₹33,333 per sq.ft.',\n",
       " '₹4.59 Lacs/MonthEstimated EMI',\n",
       " '₹1 Crore₹7,407 per sq.ft.',\n",
       " '₹57,314/MonthEstimated EMI',\n",
       " '₹1.1 Crores₹9,565 per sq.ft.',\n",
       " '₹63,045/MonthEstimated EMI',\n",
       " '₹1.65 Crores₹12,500 per sq.ft.',\n",
       " '₹94,568/MonthEstimated EMI']"
      ]
     },
     "execution_count": 101,
     "metadata": {},
     "output_type": "execute_result"
    }
   ],
   "source": [
    "EMI_and_price=[]\n",
    "for i in soup.find_all('div',class_=\"flex flex-col w-33pe items-center bo tp:w-half po:w-full border-r border-r-solid border-card-overview-border-color last:border-r-1\"):\n",
    "    EMI_and_price.append(i.text)\n",
    "    \n",
    "EMI_and_price"
   ]
  },
  {
   "cell_type": "code",
   "execution_count": 102,
   "id": "72905ed1",
   "metadata": {},
   "outputs": [],
   "source": [
    "Price=[item for item in EMI_and_price if \"per sq.ft.\" in item ]\n",
    "EMI=[item for item in EMI_and_price if \"Estimated EMI\" in item]"
   ]
  },
  {
   "cell_type": "code",
   "execution_count": 103,
   "id": "a53270af",
   "metadata": {},
   "outputs": [
    {
     "data": {
      "text/plain": [
       "['₹1.65 Crores₹12,500 per sq.ft.',\n",
       " '₹1.45 Crores₹10,357 per sq.ft.',\n",
       " '₹2.77 Crores₹14,163 per sq.ft.',\n",
       " '₹1.8 Crores₹11,598 per sq.ft.',\n",
       " '₹95 Lacs₹8,636 per sq.ft.',\n",
       " '₹8.95 Crores₹74,583 per sq.ft.',\n",
       " '₹2.25 Crores₹13,158 per sq.ft.',\n",
       " '₹2.25 Crores₹11,250 per sq.ft.',\n",
       " '₹7 Crores₹17,500 per sq.ft.',\n",
       " '₹1.4 Crores₹11,997 per sq.ft.',\n",
       " '₹1.2 Crores₹8,571 per sq.ft.',\n",
       " '₹1.7 Crores₹9,179 per sq.ft.',\n",
       " '₹1.15 Crores₹8,244 per sq.ft.',\n",
       " '₹1 Crore₹9,524 per sq.ft.',\n",
       " '₹85 Lacs₹6,296 per sq.ft.',\n",
       " '₹5.19 Crores₹17,919 per sq.ft.',\n",
       " '₹2.5 Crores₹11,905 per sq.ft.',\n",
       " '₹2.3 Crores₹10,880 per sq.ft.',\n",
       " '₹1.85 Crores₹14,231 per sq.ft.',\n",
       " '₹1.2 Crores₹10,084 per sq.ft.',\n",
       " '₹1.3 Crores₹11,017 per sq.ft.',\n",
       " '₹3.25 Crores₹23,214 per sq.ft.',\n",
       " '₹8 Crores₹33,333 per sq.ft.',\n",
       " '₹1 Crore₹7,407 per sq.ft.',\n",
       " '₹1.1 Crores₹9,565 per sq.ft.',\n",
       " '₹1.65 Crores₹12,500 per sq.ft.']"
      ]
     },
     "execution_count": 103,
     "metadata": {},
     "output_type": "execute_result"
    }
   ],
   "source": [
    "Price"
   ]
  },
  {
   "cell_type": "code",
   "execution_count": 104,
   "id": "276857cd",
   "metadata": {},
   "outputs": [
    {
     "data": {
      "text/plain": [
       "['₹94,568/MonthEstimated EMI',\n",
       " '₹83,106/MonthEstimated EMI',\n",
       " '₹1.59 Lacs/MonthEstimated EMI',\n",
       " '₹1.03 Lacs/MonthEstimated EMI',\n",
       " '₹54,448/MonthEstimated EMI',\n",
       " '₹5.13 Lacs/MonthEstimated EMI',\n",
       " '₹1.29 Lacs/MonthEstimated EMI',\n",
       " '₹1.29 Lacs/MonthEstimated EMI',\n",
       " '₹4.01 Lacs/MonthEstimated EMI',\n",
       " '₹80,240/MonthEstimated EMI',\n",
       " '₹68,777/MonthEstimated EMI',\n",
       " '₹97,434/MonthEstimated EMI',\n",
       " '₹65,911/MonthEstimated EMI',\n",
       " '₹57,314/MonthEstimated EMI',\n",
       " '₹48,717/MonthEstimated EMI',\n",
       " '₹2.98 Lacs/MonthEstimated EMI',\n",
       " '₹1.43 Lacs/MonthEstimated EMI',\n",
       " '₹1.32 Lacs/MonthEstimated EMI',\n",
       " '₹1.06 Lacs/MonthEstimated EMI',\n",
       " '₹68,777/MonthEstimated EMI',\n",
       " '₹74,508/MonthEstimated EMI',\n",
       " '₹1.86 Lacs/MonthEstimated EMI',\n",
       " '₹4.59 Lacs/MonthEstimated EMI',\n",
       " '₹57,314/MonthEstimated EMI',\n",
       " '₹63,045/MonthEstimated EMI',\n",
       " '₹94,568/MonthEstimated EMI']"
      ]
     },
     "execution_count": 104,
     "metadata": {},
     "output_type": "execute_result"
    }
   ],
   "source": [
    "EMI"
   ]
  },
  {
   "cell_type": "code",
   "execution_count": 105,
   "id": "5f46300e",
   "metadata": {},
   "outputs": [],
   "source": [
    "df_for_jayanagar=pd.DataFrame({\"House_Title\":house_title,\"Location\":location,\"Price\":Price,\"EMI\":EMI})"
   ]
  },
  {
   "cell_type": "code",
   "execution_count": 106,
   "id": "fcdd72c0",
   "metadata": {},
   "outputs": [
    {
     "data": {
      "text/html": [
       "<div>\n",
       "<style scoped>\n",
       "    .dataframe tbody tr th:only-of-type {\n",
       "        vertical-align: middle;\n",
       "    }\n",
       "\n",
       "    .dataframe tbody tr th {\n",
       "        vertical-align: top;\n",
       "    }\n",
       "\n",
       "    .dataframe thead th {\n",
       "        text-align: right;\n",
       "    }\n",
       "</style>\n",
       "<table border=\"1\" class=\"dataframe\">\n",
       "  <thead>\n",
       "    <tr style=\"text-align: right;\">\n",
       "      <th></th>\n",
       "      <th>House_Title</th>\n",
       "      <th>Location</th>\n",
       "      <th>Price</th>\n",
       "      <th>EMI</th>\n",
       "    </tr>\n",
       "  </thead>\n",
       "  <tbody>\n",
       "    <tr>\n",
       "      <th>0</th>\n",
       "      <td>2 BHK Apartment In Alpine Regency For Sale  In...</td>\n",
       "      <td>Alpine Regency   Alpine Regency, 10th D Main R...</td>\n",
       "      <td>₹1.65 Crores₹12,500 per sq.ft.</td>\n",
       "      <td>₹94,568/MonthEstimated EMI</td>\n",
       "    </tr>\n",
       "    <tr>\n",
       "      <th>1</th>\n",
       "      <td>3 BHK House For Sale  In Jayanagar 9th Block</td>\n",
       "      <td>Independent House, 125a, 38th B Cross Road, ne...</td>\n",
       "      <td>₹1.45 Crores₹10,357 per sq.ft.</td>\n",
       "      <td>₹83,106/MonthEstimated EMI</td>\n",
       "    </tr>\n",
       "    <tr>\n",
       "      <th>2</th>\n",
       "      <td>3 BHK Flat In Parasmani Regency For Sale  In J...</td>\n",
       "      <td>behind Southend metro</td>\n",
       "      <td>₹2.77 Crores₹14,163 per sq.ft.</td>\n",
       "      <td>₹1.59 Lacs/MonthEstimated EMI</td>\n",
       "    </tr>\n",
       "    <tr>\n",
       "      <th>3</th>\n",
       "      <td>3 BHK Apartment In Amarjyothi Apartments For S...</td>\n",
       "      <td>Amarjyothi Apartments  Jayanagar 6th block, Ba...</td>\n",
       "      <td>₹1.8 Crores₹11,598 per sq.ft.</td>\n",
       "      <td>₹1.03 Lacs/MonthEstimated EMI</td>\n",
       "    </tr>\n",
       "    <tr>\n",
       "      <th>4</th>\n",
       "      <td>2 BHK Flat In Shanthi Park Apartments For Sale...</td>\n",
       "      <td>Shanthi Park Apartments, Kottapalya, Jayanagar...</td>\n",
       "      <td>₹95 Lacs₹8,636 per sq.ft.</td>\n",
       "      <td>₹54,448/MonthEstimated EMI</td>\n",
       "    </tr>\n",
       "    <tr>\n",
       "      <th>5</th>\n",
       "      <td>3 BHK House For Sale  In Jayanagar</td>\n",
       "      <td>Independent House,  9th Block,Near  MEWA - VAN...</td>\n",
       "      <td>₹8.95 Crores₹74,583 per sq.ft.</td>\n",
       "      <td>₹5.13 Lacs/MonthEstimated EMI</td>\n",
       "    </tr>\n",
       "    <tr>\n",
       "      <th>6</th>\n",
       "      <td>3 BHK Apartment In Lodha Azur For Sale near Ja...</td>\n",
       "      <td>Lodha Azur  Akshay Nagar,Bangalore</td>\n",
       "      <td>₹2.25 Crores₹13,158 per sq.ft.</td>\n",
       "      <td>₹1.29 Lacs/MonthEstimated EMI</td>\n",
       "    </tr>\n",
       "    <tr>\n",
       "      <th>7</th>\n",
       "      <td>3 BHK Apartment In Jayanagar Residency For Sal...</td>\n",
       "      <td>Jayanagar Residency  Jayanagar  Jayanagar Resi...</td>\n",
       "      <td>₹2.25 Crores₹11,250 per sq.ft.</td>\n",
       "      <td>₹1.29 Lacs/MonthEstimated EMI</td>\n",
       "    </tr>\n",
       "    <tr>\n",
       "      <th>8</th>\n",
       "      <td>4+ BHK House For Sale  In Jayanagar</td>\n",
       "      <td>Independent House, No:1,First cross street,RBI...</td>\n",
       "      <td>₹7 Crores₹17,500 per sq.ft.</td>\n",
       "      <td>₹4.01 Lacs/MonthEstimated EMI</td>\n",
       "    </tr>\n",
       "    <tr>\n",
       "      <th>9</th>\n",
       "      <td>2 BHK Flat In Jayanagar Residency For Sale  In...</td>\n",
       "      <td>jayanager residency. near D mart, Jayanager 3r...</td>\n",
       "      <td>₹1.4 Crores₹11,997 per sq.ft.</td>\n",
       "      <td>₹80,240/MonthEstimated EMI</td>\n",
       "    </tr>\n",
       "    <tr>\n",
       "      <th>10</th>\n",
       "      <td>3 BHK Flat In Sri Maruthi For Sale  In Jayanagar</td>\n",
       "      <td>Indira Gandhi Institute Of Child Health 1st Bl...</td>\n",
       "      <td>₹1.2 Crores₹8,571 per sq.ft.</td>\n",
       "      <td>₹68,777/MonthEstimated EMI</td>\n",
       "    </tr>\n",
       "    <tr>\n",
       "      <th>11</th>\n",
       "      <td>3 BHK Apartment In Gokul Lake View Apartments ...</td>\n",
       "      <td>Gokul Lake View Apartments  Gokul Lake View Ap...</td>\n",
       "      <td>₹1.7 Crores₹9,179 per sq.ft.</td>\n",
       "      <td>₹97,434/MonthEstimated EMI</td>\n",
       "    </tr>\n",
       "    <tr>\n",
       "      <th>12</th>\n",
       "      <td>3 BHK Flat In Santa Clara Apartment For Sale  ...</td>\n",
       "      <td>3Rd Cross Rd18th main, 9th Block, Marenahalli</td>\n",
       "      <td>₹1.15 Crores₹8,244 per sq.ft.</td>\n",
       "      <td>₹65,911/MonthEstimated EMI</td>\n",
       "    </tr>\n",
       "    <tr>\n",
       "      <th>13</th>\n",
       "      <td>2 BHK Flat In Pallava Terrace Apartments For S...</td>\n",
       "      <td>17 north main yediyur behind samudaya bhavan b...</td>\n",
       "      <td>₹1 Crore₹9,524 per sq.ft.</td>\n",
       "      <td>₹57,314/MonthEstimated EMI</td>\n",
       "    </tr>\n",
       "    <tr>\n",
       "      <th>14</th>\n",
       "      <td>3 BHK Flat In Mayitri Enclave For Sale  In Jay...</td>\n",
       "      <td>Mayitri Enclave,5T Block, 4th T Block East, Ja...</td>\n",
       "      <td>₹85 Lacs₹6,296 per sq.ft.</td>\n",
       "      <td>₹48,717/MonthEstimated EMI</td>\n",
       "    </tr>\n",
       "    <tr>\n",
       "      <th>15</th>\n",
       "      <td>4 BHK Apartment In B And B Opulent Spire For S...</td>\n",
       "      <td>B and B Opulent Spire  Near Bharat Petroleum C...</td>\n",
       "      <td>₹5.19 Crores₹17,919 per sq.ft.</td>\n",
       "      <td>₹2.98 Lacs/MonthEstimated EMI</td>\n",
       "    </tr>\n",
       "    <tr>\n",
       "      <th>16</th>\n",
       "      <td>4+ BHK Flat In Gokula Krishna Apartment For Sa...</td>\n",
       "      <td>South End Rd near Reliance Fresh</td>\n",
       "      <td>₹2.5 Crores₹11,905 per sq.ft.</td>\n",
       "      <td>₹1.43 Lacs/MonthEstimated EMI</td>\n",
       "    </tr>\n",
       "    <tr>\n",
       "      <th>17</th>\n",
       "      <td>3 BHK Flat In Greenview Aparment  For Sale  In...</td>\n",
       "      <td>4th Block  near Vivekananda Educational Centre</td>\n",
       "      <td>₹2.3 Crores₹10,880 per sq.ft.</td>\n",
       "      <td>₹1.32 Lacs/MonthEstimated EMI</td>\n",
       "    </tr>\n",
       "    <tr>\n",
       "      <th>18</th>\n",
       "      <td>2 BHK Flat In Ahmed Manzil  For Sale  In Jayan...</td>\n",
       "      <td>4th Block  near  Jayanagar BDA Complex</td>\n",
       "      <td>₹1.85 Crores₹14,231 per sq.ft.</td>\n",
       "      <td>₹1.06 Lacs/MonthEstimated EMI</td>\n",
       "    </tr>\n",
       "    <tr>\n",
       "      <th>19</th>\n",
       "      <td>2 BHK Flat In Soundarya Lakeview For Sale  In ...</td>\n",
       "      <td>yediyur</td>\n",
       "      <td>₹1.2 Crores₹10,084 per sq.ft.</td>\n",
       "      <td>₹68,777/MonthEstimated EMI</td>\n",
       "    </tr>\n",
       "    <tr>\n",
       "      <th>20</th>\n",
       "      <td>2 BHK Flat In  Devgiri Devine Apartment For Sa...</td>\n",
       "      <td>Devine Appartments,  , Karnataka, India</td>\n",
       "      <td>₹1.3 Crores₹11,017 per sq.ft.</td>\n",
       "      <td>₹74,508/MonthEstimated EMI</td>\n",
       "    </tr>\n",
       "    <tr>\n",
       "      <th>21</th>\n",
       "      <td>4 BHK House For Sale  In Jayanagar 9th Block East</td>\n",
       "      <td>Independent House, near 9th block bus terminus</td>\n",
       "      <td>₹3.25 Crores₹23,214 per sq.ft.</td>\n",
       "      <td>₹1.86 Lacs/MonthEstimated EMI</td>\n",
       "    </tr>\n",
       "    <tr>\n",
       "      <th>22</th>\n",
       "      <td>4+ BHK House For Sale  In Jayanagar</td>\n",
       "      <td>Independent House, jayanagar 4th block near Th...</td>\n",
       "      <td>₹8 Crores₹33,333 per sq.ft.</td>\n",
       "      <td>₹4.59 Lacs/MonthEstimated EMI</td>\n",
       "    </tr>\n",
       "    <tr>\n",
       "      <th>23</th>\n",
       "      <td>2 BHK Flat In Sri Ranga Priya Residency For Sa...</td>\n",
       "      <td>Swagath Rd, 4rd Block East, LIC Colony</td>\n",
       "      <td>₹1 Crore₹7,407 per sq.ft.</td>\n",
       "      <td>₹57,314/MonthEstimated EMI</td>\n",
       "    </tr>\n",
       "    <tr>\n",
       "      <th>24</th>\n",
       "      <td>2 BHK Flat In Standalone Builnding For Sale  I...</td>\n",
       "      <td>next to royal departmental stores</td>\n",
       "      <td>₹1.1 Crores₹9,565 per sq.ft.</td>\n",
       "      <td>₹63,045/MonthEstimated EMI</td>\n",
       "    </tr>\n",
       "    <tr>\n",
       "      <th>25</th>\n",
       "      <td>2 BHK Apartment In Alpine Regency For Sale  In...</td>\n",
       "      <td>Alpine Regency   Alpine Regency, 10th D Main R...</td>\n",
       "      <td>₹1.65 Crores₹12,500 per sq.ft.</td>\n",
       "      <td>₹94,568/MonthEstimated EMI</td>\n",
       "    </tr>\n",
       "  </tbody>\n",
       "</table>\n",
       "</div>"
      ],
      "text/plain": [
       "                                          House_Title  \\\n",
       "0   2 BHK Apartment In Alpine Regency For Sale  In...   \n",
       "1        3 BHK House For Sale  In Jayanagar 9th Block   \n",
       "2   3 BHK Flat In Parasmani Regency For Sale  In J...   \n",
       "3   3 BHK Apartment In Amarjyothi Apartments For S...   \n",
       "4   2 BHK Flat In Shanthi Park Apartments For Sale...   \n",
       "5                  3 BHK House For Sale  In Jayanagar   \n",
       "6   3 BHK Apartment In Lodha Azur For Sale near Ja...   \n",
       "7   3 BHK Apartment In Jayanagar Residency For Sal...   \n",
       "8                 4+ BHK House For Sale  In Jayanagar   \n",
       "9   2 BHK Flat In Jayanagar Residency For Sale  In...   \n",
       "10   3 BHK Flat In Sri Maruthi For Sale  In Jayanagar   \n",
       "11  3 BHK Apartment In Gokul Lake View Apartments ...   \n",
       "12  3 BHK Flat In Santa Clara Apartment For Sale  ...   \n",
       "13  2 BHK Flat In Pallava Terrace Apartments For S...   \n",
       "14  3 BHK Flat In Mayitri Enclave For Sale  In Jay...   \n",
       "15  4 BHK Apartment In B And B Opulent Spire For S...   \n",
       "16  4+ BHK Flat In Gokula Krishna Apartment For Sa...   \n",
       "17  3 BHK Flat In Greenview Aparment  For Sale  In...   \n",
       "18  2 BHK Flat In Ahmed Manzil  For Sale  In Jayan...   \n",
       "19  2 BHK Flat In Soundarya Lakeview For Sale  In ...   \n",
       "20  2 BHK Flat In  Devgiri Devine Apartment For Sa...   \n",
       "21  4 BHK House For Sale  In Jayanagar 9th Block East   \n",
       "22                4+ BHK House For Sale  In Jayanagar   \n",
       "23  2 BHK Flat In Sri Ranga Priya Residency For Sa...   \n",
       "24  2 BHK Flat In Standalone Builnding For Sale  I...   \n",
       "25  2 BHK Apartment In Alpine Regency For Sale  In...   \n",
       "\n",
       "                                             Location  \\\n",
       "0   Alpine Regency   Alpine Regency, 10th D Main R...   \n",
       "1   Independent House, 125a, 38th B Cross Road, ne...   \n",
       "2                              behind Southend metro    \n",
       "3   Amarjyothi Apartments  Jayanagar 6th block, Ba...   \n",
       "4   Shanthi Park Apartments, Kottapalya, Jayanagar...   \n",
       "5   Independent House,  9th Block,Near  MEWA - VAN...   \n",
       "6                  Lodha Azur  Akshay Nagar,Bangalore   \n",
       "7   Jayanagar Residency  Jayanagar  Jayanagar Resi...   \n",
       "8   Independent House, No:1,First cross street,RBI...   \n",
       "9   jayanager residency. near D mart, Jayanager 3r...   \n",
       "10  Indira Gandhi Institute Of Child Health 1st Bl...   \n",
       "11  Gokul Lake View Apartments  Gokul Lake View Ap...   \n",
       "12      3Rd Cross Rd18th main, 9th Block, Marenahalli   \n",
       "13  17 north main yediyur behind samudaya bhavan b...   \n",
       "14  Mayitri Enclave,5T Block, 4th T Block East, Ja...   \n",
       "15  B and B Opulent Spire  Near Bharat Petroleum C...   \n",
       "16                   South End Rd near Reliance Fresh   \n",
       "17     4th Block  near Vivekananda Educational Centre   \n",
       "18            4th Block  near  Jayanagar BDA Complex    \n",
       "19                                            yediyur   \n",
       "20            Devine Appartments,  , Karnataka, India   \n",
       "21     Independent House, near 9th block bus terminus   \n",
       "22  Independent House, jayanagar 4th block near Th...   \n",
       "23             Swagath Rd, 4rd Block East, LIC Colony   \n",
       "24                  next to royal departmental stores   \n",
       "25  Alpine Regency   Alpine Regency, 10th D Main R...   \n",
       "\n",
       "                             Price                            EMI  \n",
       "0   ₹1.65 Crores₹12,500 per sq.ft.     ₹94,568/MonthEstimated EMI  \n",
       "1   ₹1.45 Crores₹10,357 per sq.ft.     ₹83,106/MonthEstimated EMI  \n",
       "2   ₹2.77 Crores₹14,163 per sq.ft.  ₹1.59 Lacs/MonthEstimated EMI  \n",
       "3    ₹1.8 Crores₹11,598 per sq.ft.  ₹1.03 Lacs/MonthEstimated EMI  \n",
       "4        ₹95 Lacs₹8,636 per sq.ft.     ₹54,448/MonthEstimated EMI  \n",
       "5   ₹8.95 Crores₹74,583 per sq.ft.  ₹5.13 Lacs/MonthEstimated EMI  \n",
       "6   ₹2.25 Crores₹13,158 per sq.ft.  ₹1.29 Lacs/MonthEstimated EMI  \n",
       "7   ₹2.25 Crores₹11,250 per sq.ft.  ₹1.29 Lacs/MonthEstimated EMI  \n",
       "8      ₹7 Crores₹17,500 per sq.ft.  ₹4.01 Lacs/MonthEstimated EMI  \n",
       "9    ₹1.4 Crores₹11,997 per sq.ft.     ₹80,240/MonthEstimated EMI  \n",
       "10    ₹1.2 Crores₹8,571 per sq.ft.     ₹68,777/MonthEstimated EMI  \n",
       "11    ₹1.7 Crores₹9,179 per sq.ft.     ₹97,434/MonthEstimated EMI  \n",
       "12   ₹1.15 Crores₹8,244 per sq.ft.     ₹65,911/MonthEstimated EMI  \n",
       "13       ₹1 Crore₹9,524 per sq.ft.     ₹57,314/MonthEstimated EMI  \n",
       "14       ₹85 Lacs₹6,296 per sq.ft.     ₹48,717/MonthEstimated EMI  \n",
       "15  ₹5.19 Crores₹17,919 per sq.ft.  ₹2.98 Lacs/MonthEstimated EMI  \n",
       "16   ₹2.5 Crores₹11,905 per sq.ft.  ₹1.43 Lacs/MonthEstimated EMI  \n",
       "17   ₹2.3 Crores₹10,880 per sq.ft.  ₹1.32 Lacs/MonthEstimated EMI  \n",
       "18  ₹1.85 Crores₹14,231 per sq.ft.  ₹1.06 Lacs/MonthEstimated EMI  \n",
       "19   ₹1.2 Crores₹10,084 per sq.ft.     ₹68,777/MonthEstimated EMI  \n",
       "20   ₹1.3 Crores₹11,017 per sq.ft.     ₹74,508/MonthEstimated EMI  \n",
       "21  ₹3.25 Crores₹23,214 per sq.ft.  ₹1.86 Lacs/MonthEstimated EMI  \n",
       "22     ₹8 Crores₹33,333 per sq.ft.  ₹4.59 Lacs/MonthEstimated EMI  \n",
       "23       ₹1 Crore₹7,407 per sq.ft.     ₹57,314/MonthEstimated EMI  \n",
       "24    ₹1.1 Crores₹9,565 per sq.ft.     ₹63,045/MonthEstimated EMI  \n",
       "25  ₹1.65 Crores₹12,500 per sq.ft.     ₹94,568/MonthEstimated EMI  "
      ]
     },
     "execution_count": 106,
     "metadata": {},
     "output_type": "execute_result"
    }
   ],
   "source": [
    "df_for_jayanagar"
   ]
  },
  {
   "cell_type": "markdown",
   "id": "f30a752c",
   "metadata": {},
   "source": [
    "## For RajajiNagar."
   ]
  },
  {
   "cell_type": "code",
   "execution_count": 107,
   "id": "1ff95607",
   "metadata": {},
   "outputs": [
    {
     "data": {
      "text/plain": [
       "<Response [200]>"
      ]
     },
     "execution_count": 107,
     "metadata": {},
     "output_type": "execute_result"
    }
   ],
   "source": [
    "page=requests.get(\"https://www.nobroker.in/property/sale/bangalore/Rajajinagar?searchParam=W3sibGF0IjoxMi45OTgxNzMyLCJsb24iOjc3LjU1MzA0NDU5OTk5OTk5LCJwbGFjZUlkIjoiQ2hJSnhmVzREUE05cmpzUktzTlRHLTVwX1FRIiwicGxhY2VOYW1lIjoiUmFqYWppbmFnYXIiLCJzaG93TWFwIjpmYWxzZX1d&radius=2.0&city=bangalore&locality=Rajajinagar&isMetro=false\")\n",
    "\n",
    "page"
   ]
  },
  {
   "cell_type": "code",
   "execution_count": 108,
   "id": "4b8327f0",
   "metadata": {},
   "outputs": [],
   "source": [
    "soup=BeautifulSoup(page.content)"
   ]
  },
  {
   "cell_type": "code",
   "execution_count": 109,
   "id": "9bbdde7b",
   "metadata": {},
   "outputs": [
    {
     "data": {
      "text/plain": [
       "['4+ BHK House For Sale  In  Rajajinagar',\n",
       " '2 BHK Flat In Bindi Sundar Residency For Sale  In Rajajinagar',\n",
       " '3 BHK Flat In Ltg Sr Grand For Sale  In Rajaji Nagar',\n",
       " '4 BHK House For Sale  In Rajajinagar',\n",
       " '3 BHK Flat For Sale  In Rajajinagar',\n",
       " '4 BHK Flat In Apartment For Sale  In Rajajinagar',\n",
       " '4+ BHK House For Sale  In 183, 7th Cross Rd, 2nd Stage, Rajajinagar, Bengaluru, Karnataka 560010, India',\n",
       " '3 BHK Flat In Renaissance Park Iii, Malleshwaram For Sale  In Malleshwaram',\n",
       " '4 BHK Flat In Brigade Gateway Complex For Sale  In Rajaji Nagar',\n",
       " '4+ BHK Apartment In Xyz For Sale  In Xyz',\n",
       " '4+ BHK House For Sale  In Rajajinagar',\n",
       " '3 BHK Apartment In Birla Tisya For Sale  In Rajaji Nagar',\n",
       " '4 BHK Apartment In Birla Tisya For Sale  In Rajajinagar',\n",
       " '2 BHK Apartment In Phoenix One Bangalore West Tower 7 For Sale  In Rajajinagar',\n",
       " '3 BHK Apartment In Phoenix Kessaku For Sale  In Rajajinagar',\n",
       " '4+ BHK Apartment In Phoenix Kessaku For Sale  In Rajajinagar',\n",
       " '4 BHK Apartment In Phoenix Kessaku For Sale  In Rajajinagar',\n",
       " '4 BHK Apartment In Phoenix  One Bangalore West Tower 7 For Sale  In Rajajinagar',\n",
       " '3 BHK Apartment In Phoenix  One Bangalore West Tower 7 For Sale  In Rajajinagar',\n",
       " '3 BHK Flat In Hemadri Residency For Sale  In Rajajinagar',\n",
       " '3 BHK Flat In Kashi Kiran Regency, Rajajinagar For Sale  In Rajajinagar',\n",
       " '4 BHK House For Sale  In Nandini Layout',\n",
       " '4 BHK House For Sale  In Gayathri Nagar',\n",
       " '2 BHK Flat For Sale  In 10023, 3rd Main Rd, E Block, 2nd Stage, Rajajinagar, Bengaluru, Karnataka 560055, India',\n",
       " '3 BHK House For Sale  In Veeresh Cinemas',\n",
       " '4+ BHK House For Sale  In  Rajajinagar']"
      ]
     },
     "execution_count": 109,
     "metadata": {},
     "output_type": "execute_result"
    }
   ],
   "source": [
    "house_title=[]\n",
    "for i in soup.find_all('a',class_=\"overflow-hidden overflow-ellipsis whitespace-nowrap max-w-80pe po:max-w-full\"):\n",
    "    house_title.append(i.text)\n",
    "    \n",
    "house_title"
   ]
  },
  {
   "cell_type": "code",
   "execution_count": 110,
   "id": "519506a6",
   "metadata": {},
   "outputs": [
    {
     "data": {
      "text/plain": [
       "[\"Independent House, 80 Feet Rd 6th Block, near St. Ann's High School\",\n",
       " '72nd Cross Rd, 5th Block, Jedara Halli, Rajajinagar, Bengaluru, Karnataka 560023, India',\n",
       " 'west of card road near modi hospital ',\n",
       " \"Independent House, Mahakavi Kuvempu Rd Maruthi Extension,Near Malgudi's Donne Biriyani\",\n",
       " \"Standalone Building, 6th Block, near St. Ann's High School\",\n",
       " 'mahakavi kuvempu road, Near Mahakavi Kuvempu metro station',\n",
       " 'Independent House, 7th Cross First N Block',\n",
       " 'Main Rd,railway parallel road,  Malleshwaram west, Bengaluru, Karnataka 560055, India',\n",
       " '26/1, 80 Feet Road, Dr. Rajkumar Road, Rajaji Nagar, Bangalore',\n",
       " 'XYZ\\xa0 xyz',\n",
       " 'Independent House, SPECTRUM DIAGNOSTICS AND HEALTHCARE',\n",
       " 'Birla Tisya\\xa0  Near Sarvodaya College Of Hospital,Magadi Main Road,Rajajinagar,Bangalore',\n",
       " 'Birla Tisya\\xa0  Near Sarvodaya College Of Hospital,Magadi Main Road,Rajajinagar,Bangalore',\n",
       " 'Phoenix One Bangalore West Tower 7\\xa0 Opposite to Sheraton Hotel, Dr Rajkumar Rd, RajajiNagar,Bangalore',\n",
       " 'Phoenix Kessaku\\xa0 Opp. Vivekananda College,Dr Rajkumar Rd, Rajajinagar,Bangalore',\n",
       " 'Phoenix Kessaku\\xa0 Opp. Vivekananda College,Dr Rajkumar Rd,Rajajinagar,Bangalore',\n",
       " 'Phoenix Kessaku\\xa0 Opp. Vivekananda College,Dr Rajkumar Rd,Rajajinagar,Bangalore',\n",
       " 'Phoenix  One Bangalore West Tower 7\\xa0 Opposite to Sheraton Hotel,Dr Rajkumar Rd,RajajiNagar,Bangalore',\n",
       " 'Phoenix  One Bangalore West Tower 7\\xa0 Opposite to Sheraton Hotel, Dr Rajkumar Rd,RajajiNagar,Bangalore',\n",
       " '80 Feet Rd, 4th Block, Rajajinagar, Bengaluru, Karnataka 560010, India',\n",
       " 'Mariappanapalya, Rajajinagar, Bengaluru, Karnataka 560021, India',\n",
       " 'Independent House, 1st Main, Dollar Scheme',\n",
       " 'Independent House, 5th cross, Gayathrinagar. Near Moresuper market',\n",
       " 'Independent House, PUSHPA MANSION 926 3RD MAIN 2ND STAGE RAJAJINAGAR 3RD MAIN D BLOCK BANGALORE 560010',\n",
       " 'Independent House, 4th Cross Road Agrahaara Dasarahalli Maagadi Main Road nearShell Petrolstation',\n",
       " \"Independent House, 80 Feet Rd 6th Block, near St. Ann's High School\"]"
      ]
     },
     "execution_count": 110,
     "metadata": {},
     "output_type": "execute_result"
    }
   ],
   "source": [
    "location=[]\n",
    "for i in soup.find_all('div',class_=\"mt-0.5p overflow-hidden overflow-ellipsis whitespace-nowrap max-w-70 text-gray-light leading-4 po:mb-0.1p po:max-w-95\"):\n",
    "    location.append(i.text)\n",
    "    \n",
    "location"
   ]
  },
  {
   "cell_type": "code",
   "execution_count": 111,
   "id": "08b461da",
   "metadata": {},
   "outputs": [
    {
     "data": {
      "text/plain": [
       "['₹1.25 Crores₹5,208 per sq.ft.',\n",
       " '₹71,643/MonthEstimated EMI',\n",
       " '₹70 Lacs₹7,813 per sq.ft.',\n",
       " '₹40,120/MonthEstimated EMI',\n",
       " '₹2.3 Crores₹12,332 per sq.ft.',\n",
       " '₹1.32 Lacs/MonthEstimated EMI',\n",
       " '₹1.1 Crores₹5,500 per sq.ft.',\n",
       " '₹63,045/MonthEstimated EMI',\n",
       " '₹1.26 Crores₹11,455 per sq.ft.',\n",
       " '₹72,216/MonthEstimated EMI',\n",
       " '₹1.8 Crores₹8,759 per sq.ft.',\n",
       " '₹1.03 Lacs/MonthEstimated EMI',\n",
       " '₹5.3 Crores₹24,091 per sq.ft.',\n",
       " '₹3.04 Lacs/MonthEstimated EMI',\n",
       " '₹1.75 Crores₹11,006 per sq.ft.',\n",
       " '₹1 Lacs/MonthEstimated EMI',\n",
       " '₹4.2 Crores₹17,797 per sq.ft.',\n",
       " '₹2.41 Lacs/MonthEstimated EMI',\n",
       " '₹31 Crores₹30,69,307 per sq.ft.',\n",
       " '₹17.77 Lacs/MonthEstimated EMI',\n",
       " '₹4.17 Crores₹15,444 per sq.ft.',\n",
       " '₹2.39 Lacs/MonthEstimated EMI',\n",
       " '₹2.4 Crores₹14,484 per sq.ft.',\n",
       " '₹1.38 Lacs/MonthEstimated EMI',\n",
       " '₹3.7 Crores₹14,776 per sq.ft.',\n",
       " '₹2.12 Lacs/MonthEstimated EMI',\n",
       " '₹4.2 Crores₹24,691 per sq.ft.',\n",
       " '₹2.41 Lacs/MonthEstimated EMI',\n",
       " '₹6.39 Crores₹26,515 per sq.ft.',\n",
       " '₹3.66 Lacs/MonthEstimated EMI',\n",
       " '₹9.5 Crores₹26,049 per sq.ft.',\n",
       " '₹5.44 Lacs/MonthEstimated EMI',\n",
       " '₹8.14 Crores₹25,866 per sq.ft.',\n",
       " '₹4.67 Lacs/MonthEstimated EMI',\n",
       " '₹6.44 Crores₹24,665 per sq.ft.',\n",
       " '₹3.69 Lacs/MonthEstimated EMI',\n",
       " '₹4.25 Crores₹24,666 per sq.ft.',\n",
       " '₹2.44 Lacs/MonthEstimated EMI',\n",
       " '₹1.8 Crores₹8,612 per sq.ft.',\n",
       " '₹1.03 Lacs/MonthEstimated EMI',\n",
       " '₹1 Crore₹8,333 per sq.ft.',\n",
       " '₹57,314/MonthEstimated EMI',\n",
       " '₹12 Crores₹50,000 per sq.ft.',\n",
       " '₹6.88 Lacs/MonthEstimated EMI',\n",
       " '₹1.5 Crores₹10,000 per sq.ft.',\n",
       " '₹85,971/MonthEstimated EMI',\n",
       " '₹75 Lacs₹6,250 per sq.ft.',\n",
       " '₹42,985/MonthEstimated EMI',\n",
       " '₹1.45 Crores₹6,042 per sq.ft.',\n",
       " '₹83,106/MonthEstimated EMI',\n",
       " '₹1.25 Crores₹5,208 per sq.ft.',\n",
       " '₹71,643/MonthEstimated EMI']"
      ]
     },
     "execution_count": 111,
     "metadata": {},
     "output_type": "execute_result"
    }
   ],
   "source": [
    "EMI_and_price=[]\n",
    "for i in soup.find_all('div',class_=\"flex flex-col w-33pe items-center bo tp:w-half po:w-full border-r border-r-solid border-card-overview-border-color last:border-r-1\"):\n",
    "    EMI_and_price.append(i.text)\n",
    "    \n",
    "EMI_and_price"
   ]
  },
  {
   "cell_type": "code",
   "execution_count": 112,
   "id": "d3f26a78",
   "metadata": {},
   "outputs": [],
   "source": [
    "Price=[item for item in EMI_and_price if \"per sq.ft.\" in item ]\n",
    "EMI=[item for item in EMI_and_price if \"Estimated EMI\" in item]"
   ]
  },
  {
   "cell_type": "code",
   "execution_count": 113,
   "id": "09cd7cf7",
   "metadata": {},
   "outputs": [
    {
     "data": {
      "text/plain": [
       "['₹1.25 Crores₹5,208 per sq.ft.',\n",
       " '₹70 Lacs₹7,813 per sq.ft.',\n",
       " '₹2.3 Crores₹12,332 per sq.ft.',\n",
       " '₹1.1 Crores₹5,500 per sq.ft.',\n",
       " '₹1.26 Crores₹11,455 per sq.ft.',\n",
       " '₹1.8 Crores₹8,759 per sq.ft.',\n",
       " '₹5.3 Crores₹24,091 per sq.ft.',\n",
       " '₹1.75 Crores₹11,006 per sq.ft.',\n",
       " '₹4.2 Crores₹17,797 per sq.ft.',\n",
       " '₹31 Crores₹30,69,307 per sq.ft.',\n",
       " '₹4.17 Crores₹15,444 per sq.ft.',\n",
       " '₹2.4 Crores₹14,484 per sq.ft.',\n",
       " '₹3.7 Crores₹14,776 per sq.ft.',\n",
       " '₹4.2 Crores₹24,691 per sq.ft.',\n",
       " '₹6.39 Crores₹26,515 per sq.ft.',\n",
       " '₹9.5 Crores₹26,049 per sq.ft.',\n",
       " '₹8.14 Crores₹25,866 per sq.ft.',\n",
       " '₹6.44 Crores₹24,665 per sq.ft.',\n",
       " '₹4.25 Crores₹24,666 per sq.ft.',\n",
       " '₹1.8 Crores₹8,612 per sq.ft.',\n",
       " '₹1 Crore₹8,333 per sq.ft.',\n",
       " '₹12 Crores₹50,000 per sq.ft.',\n",
       " '₹1.5 Crores₹10,000 per sq.ft.',\n",
       " '₹75 Lacs₹6,250 per sq.ft.',\n",
       " '₹1.45 Crores₹6,042 per sq.ft.',\n",
       " '₹1.25 Crores₹5,208 per sq.ft.']"
      ]
     },
     "execution_count": 113,
     "metadata": {},
     "output_type": "execute_result"
    }
   ],
   "source": [
    "Price"
   ]
  },
  {
   "cell_type": "code",
   "execution_count": 114,
   "id": "0b219e6b",
   "metadata": {},
   "outputs": [
    {
     "data": {
      "text/plain": [
       "['₹71,643/MonthEstimated EMI',\n",
       " '₹40,120/MonthEstimated EMI',\n",
       " '₹1.32 Lacs/MonthEstimated EMI',\n",
       " '₹63,045/MonthEstimated EMI',\n",
       " '₹72,216/MonthEstimated EMI',\n",
       " '₹1.03 Lacs/MonthEstimated EMI',\n",
       " '₹3.04 Lacs/MonthEstimated EMI',\n",
       " '₹1 Lacs/MonthEstimated EMI',\n",
       " '₹2.41 Lacs/MonthEstimated EMI',\n",
       " '₹17.77 Lacs/MonthEstimated EMI',\n",
       " '₹2.39 Lacs/MonthEstimated EMI',\n",
       " '₹1.38 Lacs/MonthEstimated EMI',\n",
       " '₹2.12 Lacs/MonthEstimated EMI',\n",
       " '₹2.41 Lacs/MonthEstimated EMI',\n",
       " '₹3.66 Lacs/MonthEstimated EMI',\n",
       " '₹5.44 Lacs/MonthEstimated EMI',\n",
       " '₹4.67 Lacs/MonthEstimated EMI',\n",
       " '₹3.69 Lacs/MonthEstimated EMI',\n",
       " '₹2.44 Lacs/MonthEstimated EMI',\n",
       " '₹1.03 Lacs/MonthEstimated EMI',\n",
       " '₹57,314/MonthEstimated EMI',\n",
       " '₹6.88 Lacs/MonthEstimated EMI',\n",
       " '₹85,971/MonthEstimated EMI',\n",
       " '₹42,985/MonthEstimated EMI',\n",
       " '₹83,106/MonthEstimated EMI',\n",
       " '₹71,643/MonthEstimated EMI']"
      ]
     },
     "execution_count": 114,
     "metadata": {},
     "output_type": "execute_result"
    }
   ],
   "source": [
    "EMI"
   ]
  },
  {
   "cell_type": "code",
   "execution_count": 115,
   "id": "6a0a7655",
   "metadata": {},
   "outputs": [],
   "source": [
    "df_for_rajajinagar=pd.DataFrame({\"House_Title\":house_title,\"Location\":location,\"Price\":Price,\"EMI\":EMI})"
   ]
  },
  {
   "cell_type": "code",
   "execution_count": 116,
   "id": "db2aa9e6",
   "metadata": {},
   "outputs": [
    {
     "data": {
      "text/html": [
       "<div>\n",
       "<style scoped>\n",
       "    .dataframe tbody tr th:only-of-type {\n",
       "        vertical-align: middle;\n",
       "    }\n",
       "\n",
       "    .dataframe tbody tr th {\n",
       "        vertical-align: top;\n",
       "    }\n",
       "\n",
       "    .dataframe thead th {\n",
       "        text-align: right;\n",
       "    }\n",
       "</style>\n",
       "<table border=\"1\" class=\"dataframe\">\n",
       "  <thead>\n",
       "    <tr style=\"text-align: right;\">\n",
       "      <th></th>\n",
       "      <th>House_Title</th>\n",
       "      <th>Location</th>\n",
       "      <th>Price</th>\n",
       "      <th>EMI</th>\n",
       "    </tr>\n",
       "  </thead>\n",
       "  <tbody>\n",
       "    <tr>\n",
       "      <th>0</th>\n",
       "      <td>4+ BHK House For Sale  In  Rajajinagar</td>\n",
       "      <td>Independent House, 80 Feet Rd 6th Block, near ...</td>\n",
       "      <td>₹1.25 Crores₹5,208 per sq.ft.</td>\n",
       "      <td>₹71,643/MonthEstimated EMI</td>\n",
       "    </tr>\n",
       "    <tr>\n",
       "      <th>1</th>\n",
       "      <td>2 BHK Flat In Bindi Sundar Residency For Sale ...</td>\n",
       "      <td>72nd Cross Rd, 5th Block, Jedara Halli, Rajaji...</td>\n",
       "      <td>₹70 Lacs₹7,813 per sq.ft.</td>\n",
       "      <td>₹40,120/MonthEstimated EMI</td>\n",
       "    </tr>\n",
       "    <tr>\n",
       "      <th>2</th>\n",
       "      <td>3 BHK Flat In Ltg Sr Grand For Sale  In Rajaji...</td>\n",
       "      <td>west of card road near modi hospital</td>\n",
       "      <td>₹2.3 Crores₹12,332 per sq.ft.</td>\n",
       "      <td>₹1.32 Lacs/MonthEstimated EMI</td>\n",
       "    </tr>\n",
       "    <tr>\n",
       "      <th>3</th>\n",
       "      <td>4 BHK House For Sale  In Rajajinagar</td>\n",
       "      <td>Independent House, Mahakavi Kuvempu Rd Maruthi...</td>\n",
       "      <td>₹1.1 Crores₹5,500 per sq.ft.</td>\n",
       "      <td>₹63,045/MonthEstimated EMI</td>\n",
       "    </tr>\n",
       "    <tr>\n",
       "      <th>4</th>\n",
       "      <td>3 BHK Flat For Sale  In Rajajinagar</td>\n",
       "      <td>Standalone Building, 6th Block, near St. Ann's...</td>\n",
       "      <td>₹1.26 Crores₹11,455 per sq.ft.</td>\n",
       "      <td>₹72,216/MonthEstimated EMI</td>\n",
       "    </tr>\n",
       "    <tr>\n",
       "      <th>5</th>\n",
       "      <td>4 BHK Flat In Apartment For Sale  In Rajajinagar</td>\n",
       "      <td>mahakavi kuvempu road, Near Mahakavi Kuvempu m...</td>\n",
       "      <td>₹1.8 Crores₹8,759 per sq.ft.</td>\n",
       "      <td>₹1.03 Lacs/MonthEstimated EMI</td>\n",
       "    </tr>\n",
       "    <tr>\n",
       "      <th>6</th>\n",
       "      <td>4+ BHK House For Sale  In 183, 7th Cross Rd, 2...</td>\n",
       "      <td>Independent House, 7th Cross First N Block</td>\n",
       "      <td>₹5.3 Crores₹24,091 per sq.ft.</td>\n",
       "      <td>₹3.04 Lacs/MonthEstimated EMI</td>\n",
       "    </tr>\n",
       "    <tr>\n",
       "      <th>7</th>\n",
       "      <td>3 BHK Flat In Renaissance Park Iii, Malleshwar...</td>\n",
       "      <td>Main Rd,railway parallel road,  Malleshwaram w...</td>\n",
       "      <td>₹1.75 Crores₹11,006 per sq.ft.</td>\n",
       "      <td>₹1 Lacs/MonthEstimated EMI</td>\n",
       "    </tr>\n",
       "    <tr>\n",
       "      <th>8</th>\n",
       "      <td>4 BHK Flat In Brigade Gateway Complex For Sale...</td>\n",
       "      <td>26/1, 80 Feet Road, Dr. Rajkumar Road, Rajaji ...</td>\n",
       "      <td>₹4.2 Crores₹17,797 per sq.ft.</td>\n",
       "      <td>₹2.41 Lacs/MonthEstimated EMI</td>\n",
       "    </tr>\n",
       "    <tr>\n",
       "      <th>9</th>\n",
       "      <td>4+ BHK Apartment In Xyz For Sale  In Xyz</td>\n",
       "      <td>XYZ  xyz</td>\n",
       "      <td>₹31 Crores₹30,69,307 per sq.ft.</td>\n",
       "      <td>₹17.77 Lacs/MonthEstimated EMI</td>\n",
       "    </tr>\n",
       "    <tr>\n",
       "      <th>10</th>\n",
       "      <td>4+ BHK House For Sale  In Rajajinagar</td>\n",
       "      <td>Independent House, SPECTRUM DIAGNOSTICS AND HE...</td>\n",
       "      <td>₹4.17 Crores₹15,444 per sq.ft.</td>\n",
       "      <td>₹2.39 Lacs/MonthEstimated EMI</td>\n",
       "    </tr>\n",
       "    <tr>\n",
       "      <th>11</th>\n",
       "      <td>3 BHK Apartment In Birla Tisya For Sale  In Ra...</td>\n",
       "      <td>Birla Tisya   Near Sarvodaya College Of Hospit...</td>\n",
       "      <td>₹2.4 Crores₹14,484 per sq.ft.</td>\n",
       "      <td>₹1.38 Lacs/MonthEstimated EMI</td>\n",
       "    </tr>\n",
       "    <tr>\n",
       "      <th>12</th>\n",
       "      <td>4 BHK Apartment In Birla Tisya For Sale  In Ra...</td>\n",
       "      <td>Birla Tisya   Near Sarvodaya College Of Hospit...</td>\n",
       "      <td>₹3.7 Crores₹14,776 per sq.ft.</td>\n",
       "      <td>₹2.12 Lacs/MonthEstimated EMI</td>\n",
       "    </tr>\n",
       "    <tr>\n",
       "      <th>13</th>\n",
       "      <td>2 BHK Apartment In Phoenix One Bangalore West ...</td>\n",
       "      <td>Phoenix One Bangalore West Tower 7  Opposite t...</td>\n",
       "      <td>₹4.2 Crores₹24,691 per sq.ft.</td>\n",
       "      <td>₹2.41 Lacs/MonthEstimated EMI</td>\n",
       "    </tr>\n",
       "    <tr>\n",
       "      <th>14</th>\n",
       "      <td>3 BHK Apartment In Phoenix Kessaku For Sale  I...</td>\n",
       "      <td>Phoenix Kessaku  Opp. Vivekananda College,Dr R...</td>\n",
       "      <td>₹6.39 Crores₹26,515 per sq.ft.</td>\n",
       "      <td>₹3.66 Lacs/MonthEstimated EMI</td>\n",
       "    </tr>\n",
       "    <tr>\n",
       "      <th>15</th>\n",
       "      <td>4+ BHK Apartment In Phoenix Kessaku For Sale  ...</td>\n",
       "      <td>Phoenix Kessaku  Opp. Vivekananda College,Dr R...</td>\n",
       "      <td>₹9.5 Crores₹26,049 per sq.ft.</td>\n",
       "      <td>₹5.44 Lacs/MonthEstimated EMI</td>\n",
       "    </tr>\n",
       "    <tr>\n",
       "      <th>16</th>\n",
       "      <td>4 BHK Apartment In Phoenix Kessaku For Sale  I...</td>\n",
       "      <td>Phoenix Kessaku  Opp. Vivekananda College,Dr R...</td>\n",
       "      <td>₹8.14 Crores₹25,866 per sq.ft.</td>\n",
       "      <td>₹4.67 Lacs/MonthEstimated EMI</td>\n",
       "    </tr>\n",
       "    <tr>\n",
       "      <th>17</th>\n",
       "      <td>4 BHK Apartment In Phoenix  One Bangalore West...</td>\n",
       "      <td>Phoenix  One Bangalore West Tower 7  Opposite ...</td>\n",
       "      <td>₹6.44 Crores₹24,665 per sq.ft.</td>\n",
       "      <td>₹3.69 Lacs/MonthEstimated EMI</td>\n",
       "    </tr>\n",
       "    <tr>\n",
       "      <th>18</th>\n",
       "      <td>3 BHK Apartment In Phoenix  One Bangalore West...</td>\n",
       "      <td>Phoenix  One Bangalore West Tower 7  Opposite ...</td>\n",
       "      <td>₹4.25 Crores₹24,666 per sq.ft.</td>\n",
       "      <td>₹2.44 Lacs/MonthEstimated EMI</td>\n",
       "    </tr>\n",
       "    <tr>\n",
       "      <th>19</th>\n",
       "      <td>3 BHK Flat In Hemadri Residency For Sale  In R...</td>\n",
       "      <td>80 Feet Rd, 4th Block, Rajajinagar, Bengaluru,...</td>\n",
       "      <td>₹1.8 Crores₹8,612 per sq.ft.</td>\n",
       "      <td>₹1.03 Lacs/MonthEstimated EMI</td>\n",
       "    </tr>\n",
       "    <tr>\n",
       "      <th>20</th>\n",
       "      <td>3 BHK Flat In Kashi Kiran Regency, Rajajinagar...</td>\n",
       "      <td>Mariappanapalya, Rajajinagar, Bengaluru, Karna...</td>\n",
       "      <td>₹1 Crore₹8,333 per sq.ft.</td>\n",
       "      <td>₹57,314/MonthEstimated EMI</td>\n",
       "    </tr>\n",
       "    <tr>\n",
       "      <th>21</th>\n",
       "      <td>4 BHK House For Sale  In Nandini Layout</td>\n",
       "      <td>Independent House, 1st Main, Dollar Scheme</td>\n",
       "      <td>₹12 Crores₹50,000 per sq.ft.</td>\n",
       "      <td>₹6.88 Lacs/MonthEstimated EMI</td>\n",
       "    </tr>\n",
       "    <tr>\n",
       "      <th>22</th>\n",
       "      <td>4 BHK House For Sale  In Gayathri Nagar</td>\n",
       "      <td>Independent House, 5th cross, Gayathrinagar. N...</td>\n",
       "      <td>₹1.5 Crores₹10,000 per sq.ft.</td>\n",
       "      <td>₹85,971/MonthEstimated EMI</td>\n",
       "    </tr>\n",
       "    <tr>\n",
       "      <th>23</th>\n",
       "      <td>2 BHK Flat For Sale  In 10023, 3rd Main Rd, E ...</td>\n",
       "      <td>Independent House, PUSHPA MANSION 926 3RD MAIN...</td>\n",
       "      <td>₹75 Lacs₹6,250 per sq.ft.</td>\n",
       "      <td>₹42,985/MonthEstimated EMI</td>\n",
       "    </tr>\n",
       "    <tr>\n",
       "      <th>24</th>\n",
       "      <td>3 BHK House For Sale  In Veeresh Cinemas</td>\n",
       "      <td>Independent House, 4th Cross Road Agrahaara Da...</td>\n",
       "      <td>₹1.45 Crores₹6,042 per sq.ft.</td>\n",
       "      <td>₹83,106/MonthEstimated EMI</td>\n",
       "    </tr>\n",
       "    <tr>\n",
       "      <th>25</th>\n",
       "      <td>4+ BHK House For Sale  In  Rajajinagar</td>\n",
       "      <td>Independent House, 80 Feet Rd 6th Block, near ...</td>\n",
       "      <td>₹1.25 Crores₹5,208 per sq.ft.</td>\n",
       "      <td>₹71,643/MonthEstimated EMI</td>\n",
       "    </tr>\n",
       "  </tbody>\n",
       "</table>\n",
       "</div>"
      ],
      "text/plain": [
       "                                          House_Title  \\\n",
       "0              4+ BHK House For Sale  In  Rajajinagar   \n",
       "1   2 BHK Flat In Bindi Sundar Residency For Sale ...   \n",
       "2   3 BHK Flat In Ltg Sr Grand For Sale  In Rajaji...   \n",
       "3                4 BHK House For Sale  In Rajajinagar   \n",
       "4                 3 BHK Flat For Sale  In Rajajinagar   \n",
       "5    4 BHK Flat In Apartment For Sale  In Rajajinagar   \n",
       "6   4+ BHK House For Sale  In 183, 7th Cross Rd, 2...   \n",
       "7   3 BHK Flat In Renaissance Park Iii, Malleshwar...   \n",
       "8   4 BHK Flat In Brigade Gateway Complex For Sale...   \n",
       "9            4+ BHK Apartment In Xyz For Sale  In Xyz   \n",
       "10              4+ BHK House For Sale  In Rajajinagar   \n",
       "11  3 BHK Apartment In Birla Tisya For Sale  In Ra...   \n",
       "12  4 BHK Apartment In Birla Tisya For Sale  In Ra...   \n",
       "13  2 BHK Apartment In Phoenix One Bangalore West ...   \n",
       "14  3 BHK Apartment In Phoenix Kessaku For Sale  I...   \n",
       "15  4+ BHK Apartment In Phoenix Kessaku For Sale  ...   \n",
       "16  4 BHK Apartment In Phoenix Kessaku For Sale  I...   \n",
       "17  4 BHK Apartment In Phoenix  One Bangalore West...   \n",
       "18  3 BHK Apartment In Phoenix  One Bangalore West...   \n",
       "19  3 BHK Flat In Hemadri Residency For Sale  In R...   \n",
       "20  3 BHK Flat In Kashi Kiran Regency, Rajajinagar...   \n",
       "21            4 BHK House For Sale  In Nandini Layout   \n",
       "22            4 BHK House For Sale  In Gayathri Nagar   \n",
       "23  2 BHK Flat For Sale  In 10023, 3rd Main Rd, E ...   \n",
       "24           3 BHK House For Sale  In Veeresh Cinemas   \n",
       "25             4+ BHK House For Sale  In  Rajajinagar   \n",
       "\n",
       "                                             Location  \\\n",
       "0   Independent House, 80 Feet Rd 6th Block, near ...   \n",
       "1   72nd Cross Rd, 5th Block, Jedara Halli, Rajaji...   \n",
       "2               west of card road near modi hospital    \n",
       "3   Independent House, Mahakavi Kuvempu Rd Maruthi...   \n",
       "4   Standalone Building, 6th Block, near St. Ann's...   \n",
       "5   mahakavi kuvempu road, Near Mahakavi Kuvempu m...   \n",
       "6          Independent House, 7th Cross First N Block   \n",
       "7   Main Rd,railway parallel road,  Malleshwaram w...   \n",
       "8   26/1, 80 Feet Road, Dr. Rajkumar Road, Rajaji ...   \n",
       "9                                            XYZ  xyz   \n",
       "10  Independent House, SPECTRUM DIAGNOSTICS AND HE...   \n",
       "11  Birla Tisya   Near Sarvodaya College Of Hospit...   \n",
       "12  Birla Tisya   Near Sarvodaya College Of Hospit...   \n",
       "13  Phoenix One Bangalore West Tower 7  Opposite t...   \n",
       "14  Phoenix Kessaku  Opp. Vivekananda College,Dr R...   \n",
       "15  Phoenix Kessaku  Opp. Vivekananda College,Dr R...   \n",
       "16  Phoenix Kessaku  Opp. Vivekananda College,Dr R...   \n",
       "17  Phoenix  One Bangalore West Tower 7  Opposite ...   \n",
       "18  Phoenix  One Bangalore West Tower 7  Opposite ...   \n",
       "19  80 Feet Rd, 4th Block, Rajajinagar, Bengaluru,...   \n",
       "20  Mariappanapalya, Rajajinagar, Bengaluru, Karna...   \n",
       "21         Independent House, 1st Main, Dollar Scheme   \n",
       "22  Independent House, 5th cross, Gayathrinagar. N...   \n",
       "23  Independent House, PUSHPA MANSION 926 3RD MAIN...   \n",
       "24  Independent House, 4th Cross Road Agrahaara Da...   \n",
       "25  Independent House, 80 Feet Rd 6th Block, near ...   \n",
       "\n",
       "                              Price                             EMI  \n",
       "0     ₹1.25 Crores₹5,208 per sq.ft.      ₹71,643/MonthEstimated EMI  \n",
       "1         ₹70 Lacs₹7,813 per sq.ft.      ₹40,120/MonthEstimated EMI  \n",
       "2     ₹2.3 Crores₹12,332 per sq.ft.   ₹1.32 Lacs/MonthEstimated EMI  \n",
       "3      ₹1.1 Crores₹5,500 per sq.ft.      ₹63,045/MonthEstimated EMI  \n",
       "4    ₹1.26 Crores₹11,455 per sq.ft.      ₹72,216/MonthEstimated EMI  \n",
       "5      ₹1.8 Crores₹8,759 per sq.ft.   ₹1.03 Lacs/MonthEstimated EMI  \n",
       "6     ₹5.3 Crores₹24,091 per sq.ft.   ₹3.04 Lacs/MonthEstimated EMI  \n",
       "7    ₹1.75 Crores₹11,006 per sq.ft.      ₹1 Lacs/MonthEstimated EMI  \n",
       "8     ₹4.2 Crores₹17,797 per sq.ft.   ₹2.41 Lacs/MonthEstimated EMI  \n",
       "9   ₹31 Crores₹30,69,307 per sq.ft.  ₹17.77 Lacs/MonthEstimated EMI  \n",
       "10   ₹4.17 Crores₹15,444 per sq.ft.   ₹2.39 Lacs/MonthEstimated EMI  \n",
       "11    ₹2.4 Crores₹14,484 per sq.ft.   ₹1.38 Lacs/MonthEstimated EMI  \n",
       "12    ₹3.7 Crores₹14,776 per sq.ft.   ₹2.12 Lacs/MonthEstimated EMI  \n",
       "13    ₹4.2 Crores₹24,691 per sq.ft.   ₹2.41 Lacs/MonthEstimated EMI  \n",
       "14   ₹6.39 Crores₹26,515 per sq.ft.   ₹3.66 Lacs/MonthEstimated EMI  \n",
       "15    ₹9.5 Crores₹26,049 per sq.ft.   ₹5.44 Lacs/MonthEstimated EMI  \n",
       "16   ₹8.14 Crores₹25,866 per sq.ft.   ₹4.67 Lacs/MonthEstimated EMI  \n",
       "17   ₹6.44 Crores₹24,665 per sq.ft.   ₹3.69 Lacs/MonthEstimated EMI  \n",
       "18   ₹4.25 Crores₹24,666 per sq.ft.   ₹2.44 Lacs/MonthEstimated EMI  \n",
       "19     ₹1.8 Crores₹8,612 per sq.ft.   ₹1.03 Lacs/MonthEstimated EMI  \n",
       "20        ₹1 Crore₹8,333 per sq.ft.      ₹57,314/MonthEstimated EMI  \n",
       "21     ₹12 Crores₹50,000 per sq.ft.   ₹6.88 Lacs/MonthEstimated EMI  \n",
       "22    ₹1.5 Crores₹10,000 per sq.ft.      ₹85,971/MonthEstimated EMI  \n",
       "23        ₹75 Lacs₹6,250 per sq.ft.      ₹42,985/MonthEstimated EMI  \n",
       "24    ₹1.45 Crores₹6,042 per sq.ft.      ₹83,106/MonthEstimated EMI  \n",
       "25    ₹1.25 Crores₹5,208 per sq.ft.      ₹71,643/MonthEstimated EMI  "
      ]
     },
     "execution_count": 116,
     "metadata": {},
     "output_type": "execute_result"
    }
   ],
   "source": [
    "df_for_rajajinagar"
   ]
  },
  {
   "cell_type": "markdown",
   "id": "1bfe14ed",
   "metadata": {},
   "source": [
    "### 6) Write a python program to scrape first 10 product details which include product name , price , Image URL from\n",
    "https://www.bewakoof.com/bestseller?sort=popular ."
   ]
  },
  {
   "cell_type": "code",
   "execution_count": 46,
   "id": "30afc38f",
   "metadata": {},
   "outputs": [
    {
     "data": {
      "text/plain": [
       "<Response [200]>"
      ]
     },
     "execution_count": 46,
     "metadata": {},
     "output_type": "execute_result"
    }
   ],
   "source": [
    "page=requests.get(\"https://www.bewakoof.com/bestseller?sort=popular\")\n",
    "\n",
    "page"
   ]
  },
  {
   "cell_type": "code",
   "execution_count": 47,
   "id": "407f9f56",
   "metadata": {},
   "outputs": [],
   "source": [
    "soup=BeautifulSoup(page.content)\n"
   ]
  },
  {
   "cell_type": "code",
   "execution_count": 48,
   "id": "a7211f01",
   "metadata": {},
   "outputs": [
    {
     "data": {
      "text/plain": [
       "[\"Bewakoof®Women's Pink & White Camo Printed Oversized Short Top\",\n",
       " \"Bewakoof®Women's White Bored Typography Oversized Short Top\",\n",
       " \"Bewakoof®Women's White Camo Printed Oversized Short Top\",\n",
       " \"bewakoof x looney tunesWomen's White All Over Tweety Printed Oversized Short Top\",\n",
       " \"bewakoof x disneyWomen's White & Black All Over Mickey Printed Oversized Short Top\",\n",
       " \"bewakoof x garfieldWomen's White All Over I Hate Mondays Printed Oversized Short Top\",\n",
       " \"Bewakoof®Men's Black Warriors Graphic Printed Oversized T-shirt\",\n",
       " \"Bewakoof®Men's Black I Need Some Space Teddy Graphic Printed Oversized T-shirt\",\n",
       " \"Bewakoof®Men's Black Killmonger Graphic Printed T-shirt\",\n",
       " \"Bewakoof®Men's Black Hangin Astronaut Graphic Printed Oversized T-shirt\"]"
      ]
     },
     "execution_count": 48,
     "metadata": {},
     "output_type": "execute_result"
    }
   ],
   "source": [
    "product_name =[]\n",
    "\n",
    "for i in soup.find_all('div',class_=\"productNaming bkf-ellipsis\"):\n",
    "    product_name.append(i.text)\n",
    "    \n",
    "product_name"
   ]
  },
  {
   "cell_type": "code",
   "execution_count": 49,
   "id": "333d3751",
   "metadata": {},
   "outputs": [
    {
     "data": {
      "text/plain": [
       "['₹599',\n",
       " '₹549',\n",
       " '₹494',\n",
       " '₹499',\n",
       " '₹379',\n",
       " '₹379',\n",
       " '₹599',\n",
       " '₹549',\n",
       " '₹519',\n",
       " '₹549']"
      ]
     },
     "execution_count": 49,
     "metadata": {},
     "output_type": "execute_result"
    }
   ],
   "source": [
    "price =[]\n",
    "\n",
    "for i in soup.find_all('div',class_=\"discountedPriceText clr-p-black false\"):\n",
    "    price.append(i.text)\n",
    "    \n",
    "price"
   ]
  },
  {
   "cell_type": "code",
   "execution_count": 50,
   "id": "05aa95e9",
   "metadata": {},
   "outputs": [
    {
     "data": {
      "text/plain": [
       "['https://images.bewakoof.com/t640/women-s-pink-white-camo-printed-oversized-t-shirt-580369-1686301190-1.jpg',\n",
       " 'https://images.bewakoof.com/t640/women-white-printed-top-26-582038-1689082446-1.jpg',\n",
       " 'https://images.bewakoof.com/t640/women-aop-oversize-t-shirt-4-580364-1683887449-1.jpg',\n",
       " 'https://images.bewakoof.com/t640/women-aop-oversize-t-shirt-2-580367-1685446636-1.jpg',\n",
       " 'https://images.bewakoof.com/t640/women-s-white-oversized-t-shirt-584434-1684230405-1.jpg',\n",
       " 'https://images.bewakoof.com/t640/women-aop-oversized-t-shirt-11-582004-1685446587-1.jpg',\n",
       " 'https://images.bewakoof.com/t640/men-s-black-warriors-graphic-printed-oversized-t-shirt-519149-1708612781-1.jpg',\n",
       " 'https://images.bewakoof.com/t640/men-s-black-i-need-some-space-teddy-graphic-printed-oversized-t-shirt-502010-1709216996-1.jpg',\n",
       " 'https://images.bewakoof.com/t640/men-s-black-killmonger-graphic-printed-t-shirt-509349-1709216985-1.jpg',\n",
       " 'https://images.bewakoof.com/t640/men-s-black-hangin-astronaut-graphic-printed-oversized-t-shirt-504166-1709217002-1.jpg']"
      ]
     },
     "execution_count": 50,
     "metadata": {},
     "output_type": "execute_result"
    }
   ],
   "source": [
    "images=[]\n",
    "\n",
    "for i in soup.find_all(\"img\",class_=\"productImgTag\"):\n",
    "    images.append(i['src'])\n",
    "    \n",
    "images "
   ]
  },
  {
   "cell_type": "code",
   "execution_count": 51,
   "id": "17fbbb9f",
   "metadata": {},
   "outputs": [
    {
     "data": {
      "text/html": [
       "<div>\n",
       "<style scoped>\n",
       "    .dataframe tbody tr th:only-of-type {\n",
       "        vertical-align: middle;\n",
       "    }\n",
       "\n",
       "    .dataframe tbody tr th {\n",
       "        vertical-align: top;\n",
       "    }\n",
       "\n",
       "    .dataframe thead th {\n",
       "        text-align: right;\n",
       "    }\n",
       "</style>\n",
       "<table border=\"1\" class=\"dataframe\">\n",
       "  <thead>\n",
       "    <tr style=\"text-align: right;\">\n",
       "      <th></th>\n",
       "      <th>Product_Name</th>\n",
       "      <th>Price(INR)</th>\n",
       "      <th>Images</th>\n",
       "    </tr>\n",
       "  </thead>\n",
       "  <tbody>\n",
       "    <tr>\n",
       "      <th>0</th>\n",
       "      <td>Bewakoof®Women's Pink &amp; White Camo Printed Ove...</td>\n",
       "      <td>₹599</td>\n",
       "      <td>https://images.bewakoof.com/t640/women-s-pink-...</td>\n",
       "    </tr>\n",
       "    <tr>\n",
       "      <th>1</th>\n",
       "      <td>Bewakoof®Women's White Bored Typography Oversi...</td>\n",
       "      <td>₹549</td>\n",
       "      <td>https://images.bewakoof.com/t640/women-white-p...</td>\n",
       "    </tr>\n",
       "    <tr>\n",
       "      <th>2</th>\n",
       "      <td>Bewakoof®Women's White Camo Printed Oversized ...</td>\n",
       "      <td>₹494</td>\n",
       "      <td>https://images.bewakoof.com/t640/women-aop-ove...</td>\n",
       "    </tr>\n",
       "    <tr>\n",
       "      <th>3</th>\n",
       "      <td>bewakoof x looney tunesWomen's White All Over ...</td>\n",
       "      <td>₹499</td>\n",
       "      <td>https://images.bewakoof.com/t640/women-aop-ove...</td>\n",
       "    </tr>\n",
       "    <tr>\n",
       "      <th>4</th>\n",
       "      <td>bewakoof x disneyWomen's White &amp; Black All Ove...</td>\n",
       "      <td>₹379</td>\n",
       "      <td>https://images.bewakoof.com/t640/women-s-white...</td>\n",
       "    </tr>\n",
       "    <tr>\n",
       "      <th>5</th>\n",
       "      <td>bewakoof x garfieldWomen's White All Over I Ha...</td>\n",
       "      <td>₹379</td>\n",
       "      <td>https://images.bewakoof.com/t640/women-aop-ove...</td>\n",
       "    </tr>\n",
       "    <tr>\n",
       "      <th>6</th>\n",
       "      <td>Bewakoof®Men's Black Warriors Graphic Printed ...</td>\n",
       "      <td>₹599</td>\n",
       "      <td>https://images.bewakoof.com/t640/men-s-black-w...</td>\n",
       "    </tr>\n",
       "    <tr>\n",
       "      <th>7</th>\n",
       "      <td>Bewakoof®Men's Black I Need Some Space Teddy G...</td>\n",
       "      <td>₹549</td>\n",
       "      <td>https://images.bewakoof.com/t640/men-s-black-i...</td>\n",
       "    </tr>\n",
       "    <tr>\n",
       "      <th>8</th>\n",
       "      <td>Bewakoof®Men's Black Killmonger Graphic Printe...</td>\n",
       "      <td>₹519</td>\n",
       "      <td>https://images.bewakoof.com/t640/men-s-black-k...</td>\n",
       "    </tr>\n",
       "    <tr>\n",
       "      <th>9</th>\n",
       "      <td>Bewakoof®Men's Black Hangin Astronaut Graphic ...</td>\n",
       "      <td>₹549</td>\n",
       "      <td>https://images.bewakoof.com/t640/men-s-black-h...</td>\n",
       "    </tr>\n",
       "  </tbody>\n",
       "</table>\n",
       "</div>"
      ],
      "text/plain": [
       "                                        Product_Name Price(INR)  \\\n",
       "0  Bewakoof®Women's Pink & White Camo Printed Ove...       ₹599   \n",
       "1  Bewakoof®Women's White Bored Typography Oversi...       ₹549   \n",
       "2  Bewakoof®Women's White Camo Printed Oversized ...       ₹494   \n",
       "3  bewakoof x looney tunesWomen's White All Over ...       ₹499   \n",
       "4  bewakoof x disneyWomen's White & Black All Ove...       ₹379   \n",
       "5  bewakoof x garfieldWomen's White All Over I Ha...       ₹379   \n",
       "6  Bewakoof®Men's Black Warriors Graphic Printed ...       ₹599   \n",
       "7  Bewakoof®Men's Black I Need Some Space Teddy G...       ₹549   \n",
       "8  Bewakoof®Men's Black Killmonger Graphic Printe...       ₹519   \n",
       "9  Bewakoof®Men's Black Hangin Astronaut Graphic ...       ₹549   \n",
       "\n",
       "                                              Images  \n",
       "0  https://images.bewakoof.com/t640/women-s-pink-...  \n",
       "1  https://images.bewakoof.com/t640/women-white-p...  \n",
       "2  https://images.bewakoof.com/t640/women-aop-ove...  \n",
       "3  https://images.bewakoof.com/t640/women-aop-ove...  \n",
       "4  https://images.bewakoof.com/t640/women-s-white...  \n",
       "5  https://images.bewakoof.com/t640/women-aop-ove...  \n",
       "6  https://images.bewakoof.com/t640/men-s-black-w...  \n",
       "7  https://images.bewakoof.com/t640/men-s-black-i...  \n",
       "8  https://images.bewakoof.com/t640/men-s-black-k...  \n",
       "9  https://images.bewakoof.com/t640/men-s-black-h...  "
      ]
     },
     "execution_count": 51,
     "metadata": {},
     "output_type": "execute_result"
    }
   ],
   "source": [
    "df=pd.DataFrame({\"Product_Name\":product_name,\"Price(INR)\":price,\"Images\":images})\n",
    "\n",
    "\n",
    "df"
   ]
  },
  {
   "cell_type": "markdown",
   "id": "3c32f271",
   "metadata": {},
   "source": [
    "### 7.Please visit https://www.cnbc.com/world/?region=world and scrap- \n",
    "\n",
    "**a) headings**\n",
    "\n",
    "**b) date**\n",
    "\n",
    "**c) News link**"
   ]
  },
  {
   "cell_type": "code",
   "execution_count": 98,
   "id": "0c0b3c9e",
   "metadata": {},
   "outputs": [
    {
     "data": {
      "text/plain": [
       "<Response [200]>"
      ]
     },
     "execution_count": 98,
     "metadata": {},
     "output_type": "execute_result"
    }
   ],
   "source": [
    "page=requests.get(\"https://www.cnbc.com/world/?region=world\")\n",
    "\n",
    "page"
   ]
  },
  {
   "cell_type": "code",
   "execution_count": 99,
   "id": "e581d1e8",
   "metadata": {},
   "outputs": [],
   "source": [
    "soup=BeautifulSoup(page.content)\n"
   ]
  },
  {
   "cell_type": "code",
   "execution_count": 100,
   "id": "13273f0c",
   "metadata": {},
   "outputs": [
    {
     "data": {
      "text/plain": [
       "['European markets set to start the week in mixed territory',\n",
       " 'China faces ‘fork in the road,’ IMF Managing Director Georgieva says ',\n",
       " \"China's new guidelines block Intel and AMD chips in government computers: FT\",\n",
       " \"Singapore's former transport minister S Iswaran slapped with 8 new charges \",\n",
       " \"CNBC Daily Open: No 'cracks' in U.S. strong jobs growth\",\n",
       " 'Asia-Pacific markets mixed as investors await inflation data from the region this week',\n",
       " 'These 5 stocks are beating the S&P 500 and analysts expect them to rise further',\n",
       " \"Here's where to invest $1 million right now, according to the pros\",\n",
       " 'Asia-Pacific PE deal value plunges to 9-year lows — Japan bucks the trend ',\n",
       " 'Stock futures slip ahead of shortened trading week',\n",
       " 'Tammy Murphy drops out of NJ Senate primary race to replace Sen. Bob Menendez',\n",
       " \"Nvidia has a parade of partners, but Amazon and Dell are Cramer's favorite winners\",\n",
       " \"Trump fraud judgment deadline looms, Eric gripes 'they want to bankrupt him'\",\n",
       " 'House Republicans ramp up Speaker Johnson pressure after budget saga',\n",
       " \"Inside Austin's bitcoin underground\",\n",
       " \"Nvidia's AI ambitions in medicine and health care are becoming clear\",\n",
       " \"Building a portfolio from scratch? Here's our step-by-step guide to get started\",\n",
       " 'These 3 phrases make you sound smarter and more emotionally intelligent: experts',\n",
       " 'Yale happiness expert: Feeling too busy hurts your brain—3 easy ways to fix it',\n",
       " 'The best- and worst-paying college majors, 5 years after graduation',\n",
       " \"Why the $183 billion video game industry can't quit microtransactions\",\n",
       " \"There's a key deadline in April for those hoping to get student loan forgiveness\",\n",
       " 'Amgen wants to enter the weight loss drug market with a new approach ',\n",
       " 'This new ‘opportunistic’ ETF offers hedge fund strategies to the retail crowd',\n",
       " 'Wall Street is getting excited about these Chinese stocks',\n",
       " \"These are JPMorgan's top AI stock picks outside of the chip space\",\n",
       " \"There's still no certainty the Fed will be able to do three rate cuts this year\",\n",
       " \"Trump says 'I love Truth Social' one day after DWAC stock plunges on merger vote\",\n",
       " \"Why these 5 portfolio stocks outran the market in Wall Street's strong week\",\n",
       " 'Biden signs $1.2 trillion spending package for government funding until October']"
      ]
     },
     "execution_count": 100,
     "metadata": {},
     "output_type": "execute_result"
    }
   ],
   "source": [
    "headings=[]\n",
    "\n",
    "for i in soup.find_all('a',class_=\"LatestNews-headline\"):\n",
    "    headings.append(i.text)\n",
    "    \n",
    "headings"
   ]
  },
  {
   "cell_type": "code",
   "execution_count": 101,
   "id": "80abf129",
   "metadata": {},
   "outputs": [
    {
     "data": {
      "text/plain": [
       "['34 Min Ago',\n",
       " '1 Hour Ago',\n",
       " '2 Hours Ago',\n",
       " '4 Hours Ago',\n",
       " '5 Hours Ago',\n",
       " '7 Hours Ago',\n",
       " '7 Hours Ago',\n",
       " '7 Hours Ago',\n",
       " '7 Hours Ago',\n",
       " '8 Hours Ago',\n",
       " '10 Hours Ago',\n",
       " '11 Hours Ago',\n",
       " '14 Hours Ago',\n",
       " '14 Hours Ago',\n",
       " '15 Hours Ago',\n",
       " '16 Hours Ago',\n",
       " '16 Hours Ago',\n",
       " '16 Hours Ago',\n",
       " '17 Hours Ago',\n",
       " '17 Hours Ago',\n",
       " '17 Hours Ago',\n",
       " '17 Hours Ago',\n",
       " '18 Hours Ago',\n",
       " '19 Hours Ago',\n",
       " '19 Hours Ago',\n",
       " '19 Hours Ago',\n",
       " '19 Hours Ago',\n",
       " 'March 23, 2024',\n",
       " 'March 23, 2024',\n",
       " 'March 23, 2024']"
      ]
     },
     "execution_count": 101,
     "metadata": {},
     "output_type": "execute_result"
    }
   ],
   "source": [
    "date=[]\n",
    "\n",
    "for i in soup.find_all('span',class_=\"LatestNews-wrapper\"):\n",
    "    date.append(i.text)\n",
    "    \n",
    "date"
   ]
  },
  {
   "cell_type": "code",
   "execution_count": 102,
   "id": "82563188",
   "metadata": {},
   "outputs": [
    {
     "name": "stdout",
     "output_type": "stream",
     "text": [
      "https://www.cnbc.com/2024/03/25/european-markets-live-updates-stocks-news-data-and-earnings.html\n",
      "https://www.cnbc.com/2024/03/25/china-faces-fork-in-the-road-imf-chief-georgieva-says-cdf-forum.html\n",
      "https://www.cnbc.com/2024/03/25/chinas-new-guidelines-will-block-intel-and-amd-chips-in-government-computers-ft.html\n",
      "https://www.cnbc.com/2024/03/25/singapores-ex-transport-minister-iswaran-slapped-with-8-new-charges-.html\n",
      "https://www.cnbc.com/2024/03/25/cnbc-daily-open-no-cracks-in-us-strong-jobs-growth.html\n",
      "https://www.cnbc.com/2024/03/25/asia-markets.html\n",
      "https://www.cnbc.com/2024/03/25/these-outperforming-stocks-could-soar-further-analysts-say.html\n",
      "https://www.cnbc.com/2024/03/25/heres-where-to-invest-1-million-right-now-according-to-the-pros.html\n",
      "https://www.cnbc.com/2024/03/24/bain-private-equity-asia-pacific-report-2024.html\n",
      "https://www.cnbc.com/2024/03/24/stock-market-today-live-updates.html\n",
      "https://www.cnbc.com/2024/03/24/tammy-murphy-drops-out-of-nj-senate-race-to-unseat-sen-bob-menendez.html\n",
      "https://www.cnbc.com/2024/03/24/jim-cramer-amazon-and-dell-are-benefiting-the-most-from-nvidia-partnership.html\n",
      "https://www.cnbc.com/2024/03/24/trump-fraud-judgment-deadline-looms-as-son-complains.html\n",
      "https://www.cnbc.com/2024/03/24/house-republicans-ramp-up-speaker-johnson-pressure-after-budget-saga.html\n",
      "https://www.cnbc.com/2024/03/24/inside-austins-bitcoin-underground.html\n",
      "https://www.cnbc.com/2024/03/24/nvidias-ai-ambitions-in-medicine-and-health-care-are-becoming-clear.html\n",
      "https://www.cnbc.com/2024/03/24/building-a-portfolio-from-scratch-heres-our-step-by-step-guide.html\n",
      "https://www.cnbc.com/2024/03/24/phrases-to-make-you-sound-smarter-more-emotionally-intelligent-experts.html\n",
      "https://www.cnbc.com/2024/03/24/yale-happiness-expert-feeling-too-busy-hurts-your-brain-how-to-fix-it.html\n",
      "https://www.cnbc.com/2024/03/24/best-and-worst-paying-college-majors-5-years-after-graduation.html\n",
      "https://www.cnbc.com/2024/03/24/why-the-183-billion-video-game-industry-cant-quit-microtransactions.html\n",
      "https://www.cnbc.com/2024/03/24/student-loan-forgiveness-deadline-in-april-what-you-should-know.html\n",
      "https://www.cnbc.com/2024/03/24/amgen-aims-to-enter-weight-loss-drug-market-with-a-new-approach.html\n",
      "https://www.cnbc.com/2024/03/24/this-new-opportunistic-etf-is-an-example-of-hedge-fund-strategies-coming-to-the-masses.html\n",
      "https://www.cnbc.com/2024/03/24/wall-street-is-getting-excited-about-these-chinese-stocks.html\n",
      "https://www.cnbc.com/2024/03/24/these-are-jpmorgans-top-ai-stock-picks-outside-of-the-chip-space.html\n",
      "https://www.cnbc.com/2024/03/24/theres-still-no-certainty-the-fed-will-be-able-to-pull-off-three-interest-rate-cuts-this-year.html\n",
      "https://www.cnbc.com/2024/03/23/trump-says-i-love-truth-social-after-dwac-stock-plunges-.html\n",
      "https://www.cnbc.com/2024/03/23/broadcom-nvidia-among-the-top-gaining-portfolio-stocks-in-strong-week.html\n",
      "https://www.cnbc.com/2024/03/23/biden-signs-1point2-trillion-spending-package.html\n"
     ]
    }
   ],
   "source": [
    "href=[]\n",
    "\n",
    "for link in soup.find_all(\"a\",class_=\"LatestNews-headline\"):\n",
    "    href=link.get(\"href\")\n",
    "    if href:\n",
    "        print(href)\n",
    "    "
   ]
  },
  {
   "cell_type": "markdown",
   "id": "172c20e1",
   "metadata": {},
   "source": [
    "### 8) Please visit https://www.keaipublishing.com/en/journals/artificial-intelligence-in-agriculture/most-downloaded-articles/ and scrap-\n",
    "**a) Paper title**\n",
    " \n",
    "**b) date**\n",
    " \n",
    "**c) Author**"
   ]
  },
  {
   "cell_type": "code",
   "execution_count": 17,
   "id": "fe6af85c",
   "metadata": {},
   "outputs": [
    {
     "data": {
      "text/plain": [
       "<Response [200]>"
      ]
     },
     "execution_count": 17,
     "metadata": {},
     "output_type": "execute_result"
    }
   ],
   "source": [
    "page=requests.get(\"https://www.keaipublishing.com/en/journals/artificial-intelligence-in-agriculture/most-downloaded-articles/\")\n",
    "\n",
    "page"
   ]
  },
  {
   "cell_type": "code",
   "execution_count": 19,
   "id": "a7cb432d",
   "metadata": {},
   "outputs": [],
   "source": [
    "soup=BeautifulSoup(page.content)"
   ]
  },
  {
   "cell_type": "code",
   "execution_count": 29,
   "id": "e9843cbb",
   "metadata": {},
   "outputs": [
    {
     "data": {
      "text/plain": [
       "['Implementation of artificial intelligence in agriculture for optimisation of irrigation and application of pesticides and herbicides',\n",
       " 'A comprehensive review on automation in agriculture using artificial intelligence',\n",
       " 'Review of agricultural IoT technology',\n",
       " 'Automation and digitization of agriculture using artificial intelligence and internet of things',\n",
       " 'Real-time hyperspectral imaging for the in-field estimation of strawberry ripeness with deep learning',\n",
       " 'Applications of electronic nose (e-nose) and electronic tongue (e-tongue) in food quality-related properties determination: A review',\n",
       " 'Fruit ripeness classification: A survey',\n",
       " 'A review of imaging techniques for plant disease detection',\n",
       " 'Deep learning based computer vision approaches for smart agricultural applications',\n",
       " 'Comparison of CNN-based deep learning architectures for rice diseases classification',\n",
       " 'Transfer Learning for Multi-Crop Leaf Disease Image Classification using Convolutional Neural Network VGG',\n",
       " 'DeepRice: A deep learning and deep feature based classification of Rice leaf disease subtypes',\n",
       " 'Plant disease detection using hybrid model based on convolutional autoencoder and convolutional neural network',\n",
       " 'How artificial intelligence uses to achieve the agriculture sustainability: Systematic review',\n",
       " 'Deep convolutional neural network models for weed detection in polyhouse grown bell peppers',\n",
       " 'Machine learning in nutrient management: A review',\n",
       " 'Machine learning for weed–plant discrimination in agriculture 5.0: An in-depth review',\n",
       " 'A systematic review of machine learning techniques for cattle identification: Datasets, methods and future directions',\n",
       " 'Examining the interplay between artificial intelligence and the agri-food industry',\n",
       " 'A review on computer vision systems in monitoring of poultry: A welfare perspective',\n",
       " 'Artificial cognition for applications in smart agriculture: A comprehensive review',\n",
       " 'Explainable artificial intelligence and interpretable machine learning for agricultural data analysis',\n",
       " 'Vision Intelligence for Smart Sheep Farming: Applying Ensemble Learning to Detect Sheep Breeds',\n",
       " 'Crop diagnostic system: A robust disease detection and management system for leafy green crops grown in an aquaponics facility',\n",
       " 'Blockchain: A new safeguard for agri-foods']"
      ]
     },
     "execution_count": 29,
     "metadata": {},
     "output_type": "execute_result"
    }
   ],
   "source": [
    "paper_title=[]\n",
    "\n",
    "for i in soup.find_all('h2',class_=\"h5 article-title\"):\n",
    "    paper_title.append(i.text.strip())\n",
    "    \n",
    "paper_title    "
   ]
  },
  {
   "cell_type": "code",
   "execution_count": 31,
   "id": "36e4dda4",
   "metadata": {},
   "outputs": [
    {
     "data": {
      "text/plain": [
       "['2020',\n",
       " 'June 2019',\n",
       " '2022',\n",
       " '2021',\n",
       " '2020',\n",
       " '2020',\n",
       " 'March 2023',\n",
       " '2020',\n",
       " '2022',\n",
       " 'September 2023',\n",
       " '2022',\n",
       " 'March 2024',\n",
       " '2021',\n",
       " 'June 2023',\n",
       " '2022',\n",
       " 'September 2023',\n",
       " 'December 2023',\n",
       " '2022',\n",
       " '2022',\n",
       " '2020',\n",
       " '2020',\n",
       " '2022',\n",
       " 'March 2024',\n",
       " 'December 2023',\n",
       " '2020']"
      ]
     },
     "execution_count": 31,
     "metadata": {},
     "output_type": "execute_result"
    }
   ],
   "source": [
    "Date=[]\n",
    "\n",
    "for i in soup.find_all('p',class_=\"article-date\"):\n",
    "    Date.append(i.text)\n",
    "    \n",
    "Date   "
   ]
  },
  {
   "cell_type": "code",
   "execution_count": 32,
   "id": "8012631a",
   "metadata": {},
   "outputs": [
    {
     "data": {
      "text/plain": [
       "[' Tanha Talaviya |  Dhara Shah |  Nivedita Patel |  Hiteshri Yagnik |  Manan Shah',\n",
       " ' Kirtan Jha |  Aalap Doshi |  Poojan Patel |  Manan Shah',\n",
       " ' Jinyuan Xu |  Baoxing Gu |  Guangzhao Tian',\n",
       " ' A. Subeesh |  C.R. Mehta',\n",
       " ' Zongmei Gao |  Yuanyuan Shao |  Guantao Xuan |  Yongxian Wang |  Yi Liu |  Xiang Han',\n",
       " ' Juzhong Tan |  Jie Xu',\n",
       " ' Matteo Rizzo |  Matteo Marcuzzo |  Alessandro Zangari |  Andrea Gasparetto |  Andrea Albarelli',\n",
       " ' Vijai Singh |  Namita Sharma |  Shikha Singh',\n",
       " ' V.G. Dhanya |  A. Subeesh |  N.L. Kushwaha |  Dinesh Kumar Vishwakarma |  T. Nagesh Kumar |  G. Ritika |  A.N. Singh',\n",
       " ' Md Taimur Ahad |  Yan Li |  Bo Song |  Touhid Bhuiyan',\n",
       " ' Ananda S. Paymode |  Vandana B. Malode',\n",
       " ' P. Isaac Ritharson |  Kumudha Raimond |  X. Anitha Mary |  Jennifer Eunice Robert |  Andrew J',\n",
       " ' Punam Bedi |  Pushkar Gole',\n",
       " ' Vilani Sachithra |  L.D.C.S. Subhashini',\n",
       " ' A. Subeesh |  S. Bhole |  K. Singh |  N.S. Chandel |  Y.A. Rajwade |  K.V.R. Rao |  S.P. Kumar |  D. Jat',\n",
       " ' Oumnia Ennaji |  Leonardus Vergütz |  Achraf El Allali',\n",
       " ' Filbert H. Juwono |  W.K. Wong |  Seema Verma |  Neha Shekhawat |  Basil Andy Lease |  Catur Apriono',\n",
       " ' Md Ekramul Hossain |  Muhammad Ashad Kabir |  Lihong Zheng |  Dave L. Swain |  Shawn McGrath |  Jonathan Medway',\n",
       " ' Abderahman Rejeb |  Karim Rejeb |  Suhaiza Zailani |  John G. Keogh |  Andrea Appolloni',\n",
       " ' Cedric Okinda |  Innocent Nyalala |  Tchalla Korohou |  Celestine Okinda |  Jintao Wang |  Tracy Achieng |  Patrick Wamalwa |  Tai Mang |  Mingxia Shen',\n",
       " ' Misbah Pathan |  Nivedita Patel |  Hiteshri Yagnik |  Manan Shah',\n",
       " ' Masahiro Ryo',\n",
       " ' Galib Muhammad Shahriar Himel |  Md. Masudul Islam |  Mijanur Rahaman',\n",
       " ' R. Abbasi |  P. Martinez |  R. Ahmad',\n",
       " ' Jie Xu |  Shuang Guo |  David Xie |  Yaxuan Yan']"
      ]
     },
     "execution_count": 32,
     "metadata": {},
     "output_type": "execute_result"
    }
   ],
   "source": [
    "author_name=[]\n",
    "\n",
    "for i in soup.find_all('p',class_=\"article-authors\"):\n",
    "    author_name.append(i.text)\n",
    "    \n",
    "author_name  "
   ]
  },
  {
   "cell_type": "code",
   "execution_count": 34,
   "id": "1da4897f",
   "metadata": {},
   "outputs": [
    {
     "data": {
      "text/html": [
       "<div>\n",
       "<style scoped>\n",
       "    .dataframe tbody tr th:only-of-type {\n",
       "        vertical-align: middle;\n",
       "    }\n",
       "\n",
       "    .dataframe tbody tr th {\n",
       "        vertical-align: top;\n",
       "    }\n",
       "\n",
       "    .dataframe thead th {\n",
       "        text-align: right;\n",
       "    }\n",
       "</style>\n",
       "<table border=\"1\" class=\"dataframe\">\n",
       "  <thead>\n",
       "    <tr style=\"text-align: right;\">\n",
       "      <th></th>\n",
       "      <th>Paper_Title</th>\n",
       "      <th>Date</th>\n",
       "      <th>Author_name</th>\n",
       "    </tr>\n",
       "  </thead>\n",
       "  <tbody>\n",
       "    <tr>\n",
       "      <th>0</th>\n",
       "      <td>Implementation of artificial intelligence in a...</td>\n",
       "      <td>2020</td>\n",
       "      <td>Tanha Talaviya |  Dhara Shah |  Nivedita Pate...</td>\n",
       "    </tr>\n",
       "    <tr>\n",
       "      <th>1</th>\n",
       "      <td>A comprehensive review on automation in agricu...</td>\n",
       "      <td>June 2019</td>\n",
       "      <td>Kirtan Jha |  Aalap Doshi |  Poojan Patel |  ...</td>\n",
       "    </tr>\n",
       "    <tr>\n",
       "      <th>2</th>\n",
       "      <td>Review of agricultural IoT technology</td>\n",
       "      <td>2022</td>\n",
       "      <td>Jinyuan Xu |  Baoxing Gu |  Guangzhao Tian</td>\n",
       "    </tr>\n",
       "    <tr>\n",
       "      <th>3</th>\n",
       "      <td>Automation and digitization of agriculture usi...</td>\n",
       "      <td>2021</td>\n",
       "      <td>A. Subeesh |  C.R. Mehta</td>\n",
       "    </tr>\n",
       "    <tr>\n",
       "      <th>4</th>\n",
       "      <td>Real-time hyperspectral imaging for the in-fie...</td>\n",
       "      <td>2020</td>\n",
       "      <td>Zongmei Gao |  Yuanyuan Shao |  Guantao Xuan ...</td>\n",
       "    </tr>\n",
       "    <tr>\n",
       "      <th>5</th>\n",
       "      <td>Applications of electronic nose (e-nose) and e...</td>\n",
       "      <td>2020</td>\n",
       "      <td>Juzhong Tan |  Jie Xu</td>\n",
       "    </tr>\n",
       "    <tr>\n",
       "      <th>6</th>\n",
       "      <td>Fruit ripeness classification: A survey</td>\n",
       "      <td>March 2023</td>\n",
       "      <td>Matteo Rizzo |  Matteo Marcuzzo |  Alessandro...</td>\n",
       "    </tr>\n",
       "    <tr>\n",
       "      <th>7</th>\n",
       "      <td>A review of imaging techniques for plant disea...</td>\n",
       "      <td>2020</td>\n",
       "      <td>Vijai Singh |  Namita Sharma |  Shikha Singh</td>\n",
       "    </tr>\n",
       "    <tr>\n",
       "      <th>8</th>\n",
       "      <td>Deep learning based computer vision approaches...</td>\n",
       "      <td>2022</td>\n",
       "      <td>V.G. Dhanya |  A. Subeesh |  N.L. Kushwaha | ...</td>\n",
       "    </tr>\n",
       "    <tr>\n",
       "      <th>9</th>\n",
       "      <td>Comparison of CNN-based deep learning architec...</td>\n",
       "      <td>September 2023</td>\n",
       "      <td>Md Taimur Ahad |  Yan Li |  Bo Song |  Touhid...</td>\n",
       "    </tr>\n",
       "    <tr>\n",
       "      <th>10</th>\n",
       "      <td>Transfer Learning for Multi-Crop Leaf Disease ...</td>\n",
       "      <td>2022</td>\n",
       "      <td>Ananda S. Paymode |  Vandana B. Malode</td>\n",
       "    </tr>\n",
       "    <tr>\n",
       "      <th>11</th>\n",
       "      <td>DeepRice: A deep learning and deep feature bas...</td>\n",
       "      <td>March 2024</td>\n",
       "      <td>P. Isaac Ritharson |  Kumudha Raimond |  X. A...</td>\n",
       "    </tr>\n",
       "    <tr>\n",
       "      <th>12</th>\n",
       "      <td>Plant disease detection using hybrid model bas...</td>\n",
       "      <td>2021</td>\n",
       "      <td>Punam Bedi |  Pushkar Gole</td>\n",
       "    </tr>\n",
       "    <tr>\n",
       "      <th>13</th>\n",
       "      <td>How artificial intelligence uses to achieve th...</td>\n",
       "      <td>June 2023</td>\n",
       "      <td>Vilani Sachithra |  L.D.C.S. Subhashini</td>\n",
       "    </tr>\n",
       "    <tr>\n",
       "      <th>14</th>\n",
       "      <td>Deep convolutional neural network models for w...</td>\n",
       "      <td>2022</td>\n",
       "      <td>A. Subeesh |  S. Bhole |  K. Singh |  N.S. Ch...</td>\n",
       "    </tr>\n",
       "    <tr>\n",
       "      <th>15</th>\n",
       "      <td>Machine learning in nutrient management: A review</td>\n",
       "      <td>September 2023</td>\n",
       "      <td>Oumnia Ennaji |  Leonardus Vergütz |  Achraf ...</td>\n",
       "    </tr>\n",
       "    <tr>\n",
       "      <th>16</th>\n",
       "      <td>Machine learning for weed–plant discrimination...</td>\n",
       "      <td>December 2023</td>\n",
       "      <td>Filbert H. Juwono |  W.K. Wong |  Seema Verma...</td>\n",
       "    </tr>\n",
       "    <tr>\n",
       "      <th>17</th>\n",
       "      <td>A systematic review of machine learning techni...</td>\n",
       "      <td>2022</td>\n",
       "      <td>Md Ekramul Hossain |  Muhammad Ashad Kabir | ...</td>\n",
       "    </tr>\n",
       "    <tr>\n",
       "      <th>18</th>\n",
       "      <td>Examining the interplay between artificial int...</td>\n",
       "      <td>2022</td>\n",
       "      <td>Abderahman Rejeb |  Karim Rejeb |  Suhaiza Za...</td>\n",
       "    </tr>\n",
       "    <tr>\n",
       "      <th>19</th>\n",
       "      <td>A review on computer vision systems in monitor...</td>\n",
       "      <td>2020</td>\n",
       "      <td>Cedric Okinda |  Innocent Nyalala |  Tchalla ...</td>\n",
       "    </tr>\n",
       "    <tr>\n",
       "      <th>20</th>\n",
       "      <td>Artificial cognition for applications in smart...</td>\n",
       "      <td>2020</td>\n",
       "      <td>Misbah Pathan |  Nivedita Patel |  Hiteshri Y...</td>\n",
       "    </tr>\n",
       "    <tr>\n",
       "      <th>21</th>\n",
       "      <td>Explainable artificial intelligence and interp...</td>\n",
       "      <td>2022</td>\n",
       "      <td>Masahiro Ryo</td>\n",
       "    </tr>\n",
       "    <tr>\n",
       "      <th>22</th>\n",
       "      <td>Vision Intelligence for Smart Sheep Farming: A...</td>\n",
       "      <td>March 2024</td>\n",
       "      <td>Galib Muhammad Shahriar Himel |  Md. Masudul ...</td>\n",
       "    </tr>\n",
       "    <tr>\n",
       "      <th>23</th>\n",
       "      <td>Crop diagnostic system: A robust disease detec...</td>\n",
       "      <td>December 2023</td>\n",
       "      <td>R. Abbasi |  P. Martinez |  R. Ahmad</td>\n",
       "    </tr>\n",
       "    <tr>\n",
       "      <th>24</th>\n",
       "      <td>Blockchain: A new safeguard for agri-foods</td>\n",
       "      <td>2020</td>\n",
       "      <td>Jie Xu |  Shuang Guo |  David Xie |  Yaxuan Yan</td>\n",
       "    </tr>\n",
       "  </tbody>\n",
       "</table>\n",
       "</div>"
      ],
      "text/plain": [
       "                                          Paper_Title            Date  \\\n",
       "0   Implementation of artificial intelligence in a...            2020   \n",
       "1   A comprehensive review on automation in agricu...       June 2019   \n",
       "2               Review of agricultural IoT technology            2022   \n",
       "3   Automation and digitization of agriculture usi...            2021   \n",
       "4   Real-time hyperspectral imaging for the in-fie...            2020   \n",
       "5   Applications of electronic nose (e-nose) and e...            2020   \n",
       "6             Fruit ripeness classification: A survey      March 2023   \n",
       "7   A review of imaging techniques for plant disea...            2020   \n",
       "8   Deep learning based computer vision approaches...            2022   \n",
       "9   Comparison of CNN-based deep learning architec...  September 2023   \n",
       "10  Transfer Learning for Multi-Crop Leaf Disease ...            2022   \n",
       "11  DeepRice: A deep learning and deep feature bas...      March 2024   \n",
       "12  Plant disease detection using hybrid model bas...            2021   \n",
       "13  How artificial intelligence uses to achieve th...       June 2023   \n",
       "14  Deep convolutional neural network models for w...            2022   \n",
       "15  Machine learning in nutrient management: A review  September 2023   \n",
       "16  Machine learning for weed–plant discrimination...   December 2023   \n",
       "17  A systematic review of machine learning techni...            2022   \n",
       "18  Examining the interplay between artificial int...            2022   \n",
       "19  A review on computer vision systems in monitor...            2020   \n",
       "20  Artificial cognition for applications in smart...            2020   \n",
       "21  Explainable artificial intelligence and interp...            2022   \n",
       "22  Vision Intelligence for Smart Sheep Farming: A...      March 2024   \n",
       "23  Crop diagnostic system: A robust disease detec...   December 2023   \n",
       "24         Blockchain: A new safeguard for agri-foods            2020   \n",
       "\n",
       "                                          Author_name  \n",
       "0    Tanha Talaviya |  Dhara Shah |  Nivedita Pate...  \n",
       "1    Kirtan Jha |  Aalap Doshi |  Poojan Patel |  ...  \n",
       "2          Jinyuan Xu |  Baoxing Gu |  Guangzhao Tian  \n",
       "3                            A. Subeesh |  C.R. Mehta  \n",
       "4    Zongmei Gao |  Yuanyuan Shao |  Guantao Xuan ...  \n",
       "5                               Juzhong Tan |  Jie Xu  \n",
       "6    Matteo Rizzo |  Matteo Marcuzzo |  Alessandro...  \n",
       "7        Vijai Singh |  Namita Sharma |  Shikha Singh  \n",
       "8    V.G. Dhanya |  A. Subeesh |  N.L. Kushwaha | ...  \n",
       "9    Md Taimur Ahad |  Yan Li |  Bo Song |  Touhid...  \n",
       "10             Ananda S. Paymode |  Vandana B. Malode  \n",
       "11   P. Isaac Ritharson |  Kumudha Raimond |  X. A...  \n",
       "12                         Punam Bedi |  Pushkar Gole  \n",
       "13            Vilani Sachithra |  L.D.C.S. Subhashini  \n",
       "14   A. Subeesh |  S. Bhole |  K. Singh |  N.S. Ch...  \n",
       "15   Oumnia Ennaji |  Leonardus Vergütz |  Achraf ...  \n",
       "16   Filbert H. Juwono |  W.K. Wong |  Seema Verma...  \n",
       "17   Md Ekramul Hossain |  Muhammad Ashad Kabir | ...  \n",
       "18   Abderahman Rejeb |  Karim Rejeb |  Suhaiza Za...  \n",
       "19   Cedric Okinda |  Innocent Nyalala |  Tchalla ...  \n",
       "20   Misbah Pathan |  Nivedita Patel |  Hiteshri Y...  \n",
       "21                                       Masahiro Ryo  \n",
       "22   Galib Muhammad Shahriar Himel |  Md. Masudul ...  \n",
       "23               R. Abbasi |  P. Martinez |  R. Ahmad  \n",
       "24    Jie Xu |  Shuang Guo |  David Xie |  Yaxuan Yan  "
      ]
     },
     "execution_count": 34,
     "metadata": {},
     "output_type": "execute_result"
    }
   ],
   "source": [
    "df=pd.DataFrame({\"Paper_Title\":paper_title,\"Date\":Date,\"Author_name\":author_name })\n",
    "\n",
    "df"
   ]
  }
 ],
 "metadata": {
  "kernelspec": {
   "display_name": "Python 3 (ipykernel)",
   "language": "python",
   "name": "python3"
  },
  "language_info": {
   "codemirror_mode": {
    "name": "ipython",
    "version": 3
   },
   "file_extension": ".py",
   "mimetype": "text/x-python",
   "name": "python",
   "nbconvert_exporter": "python",
   "pygments_lexer": "ipython3",
   "version": "3.11.5"
  }
 },
 "nbformat": 4,
 "nbformat_minor": 5
}
